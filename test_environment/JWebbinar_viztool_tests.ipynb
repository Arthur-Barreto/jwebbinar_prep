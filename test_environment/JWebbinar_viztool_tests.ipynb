{
 "cells": [
  {
   "cell_type": "markdown",
   "metadata": {},
   "source": [
    "# Specviz"
   ]
  },
  {
   "cell_type": "code",
   "execution_count": null,
   "metadata": {},
   "outputs": [],
   "source": [
    "from jdaviz import SpecViz\n",
    "\n",
    "specviz = SpecViz()\n",
    "specviz.app"
   ]
  },
  {
   "cell_type": "code",
   "execution_count": null,
   "metadata": {},
   "outputs": [],
   "source": [
    "import specutils\n",
    "\n",
    "spec_url = 'https://data.sdss.org/sas/dr12/boss/spectro/redux/v5_7_0/spectra/3665/spec-3665-55247-0022.fits'\n",
    "spec = specutils.Spectrum1D.read(spec_url, cache=True)\n",
    "\n",
    "specviz.load_spectrum(spec)"
   ]
  },
  {
   "cell_type": "markdown",
   "metadata": {},
   "source": [
    "## MOSviz"
   ]
  },
  {
   "cell_type": "code",
   "execution_count": null,
   "metadata": {},
   "outputs": [],
   "source": [
    "from jdaviz import MosViz\n",
    "\n",
    "mosviz = MosViz()\n",
    "mosviz.app"
   ]
  },
  {
   "cell_type": "code",
   "execution_count": null,
   "metadata": {},
   "outputs": [],
   "source": [
    "import glob\n",
    "import tempfile\n",
    "import pathlib\n",
    "from zipfile import ZipFile\n",
    "\n",
    "from astropy.utils.data import download_file\n",
    "\n",
    "fn = download_file('https://stsci.box.com/shared/static/ovyxi5eund92yoadvv01mynwt8t5n7jv.zip', cache=True)\n",
    "with ZipFile(fn, 'r') as sample_data_zip:\n",
    "    # Unzip sample data archive\n",
    "    sample_data_zip.extractall(tempfile.gettempdir())\n",
    "    \n",
    "\n",
    "spectra_1d = []\n",
    "spectra_2d = []\n",
    "images = []\n",
    "level3_path = (pathlib.Path(tempfile.gettempdir()) / 'mosviz_nirspec_data_0.3' / 'level3')\n",
    "for file_path in glob.glob(str(level3_path / '*')):\n",
    "    if 'x1d' in file_path:\n",
    "        spectra_1d.append(file_path)\n",
    "    elif 's2d' in file_path:\n",
    "        spectra_2d.append(file_path)\n",
    "        \n",
    "        \n",
    "for i in range(len(spectra_1d)):\n",
    "    images.append(str(level3_path / 'mosviz_cutouts' / '227.fits'))\n",
    "\n",
    "mosviz.load_data(spectra_1d, spectra_2d, images)"
   ]
  },
  {
   "cell_type": "markdown",
   "metadata": {},
   "source": [
    "# Cubeviz"
   ]
  },
  {
   "cell_type": "code",
   "execution_count": null,
   "metadata": {},
   "outputs": [],
   "source": [
    "from jdaviz import CubeViz\n",
    "\n",
    "viz = CubeViz()\n",
    "viz.app"
   ]
  },
  {
   "cell_type": "code",
   "execution_count": null,
   "metadata": {},
   "outputs": [],
   "source": [
    "from astropy.utils.data import download_file\n",
    "\n",
    "# This file is originally from https://data.sdss.org/sas/dr14/manga/spectro/redux/v2_1_2/7495/stack/manga-7495-12704-LOGCUBE.fits.gz\n",
    "# but has been modified to correct some inconsistencies in the way units are parsed\n",
    "fn = download_file('https://stsci.box.com/shared/static/28a88k1qfipo4yxc4p4d40v4axtlal8y.fits', cache=True)\n",
    "viz.load_data(fn)"
   ]
  }
 ],
 "metadata": {
  "kernelspec": {
   "display_name": "Python 3",
   "language": "python",
   "name": "python3"
  },
  "language_info": {
   "codemirror_mode": {
    "name": "ipython",
    "version": 3
   },
   "file_extension": ".py",
   "mimetype": "text/x-python",
   "name": "python",
   "nbconvert_exporter": "python",
   "pygments_lexer": "ipython3",
   "version": "3.8.5"
  }
 },
 "nbformat": 4,
 "nbformat_minor": 4
}
