{
 "cells": [
  {
   "cell_type": "markdown",
   "metadata": {},
   "source": [
    "# JWebbinar JDAT Demonstration of Mosviz\n",
    "Welcome to JWST Data Analysis Tools (JDAT) demonstration of Mosviz, a Multi-Object Spectrograph visualziation tool built atop the Jdaviz framework. This notebook will demonstrate some of the features we've built into Mosviz to facilitate the specialized usecase of MOS analysis. To learn more about Mosviz, see our [Mosviz Documentation](https://jdaviz.readthedocs.io/en/latest/mosviz/index.html). To learn more about the Jdaviz framework and how you can build your own tool for your usecase, see our [Jdaviz Documentation](https://jdaviz.readthedocs.io/)\n",
    "\n",
    "Mosviz is specifically designed around processing NIRISS Wide Field Slitless Spectroscopy (WFSS) and NIRSpec MOS Mode on JWST. This demo goes through a simulated NIRISS WFSS MOS dataset and demonstrates the MOS-specific features of Mosviz to help visualize and analyze your data. Specifically, in this demo, we will attempt to identify a spectral emission line and model fit the emission curve:\n",
    "1. Start Mosviz\n",
    "2. Download and load data file\n",
    "3. Select Source 6\n",
    "4. Adjust scaling of 2D viewer identify spectral emission\n",
    "5. Identify spectral emission in 1D spectrum viewer\n",
    "6. Attempt to model fit the spectral emission line"
   ]
  },
  {
   "cell_type": "markdown",
   "metadata": {},
   "source": [
    "## Starting Mosviz\n",
    "First, we'll load up Mosviz and display the window. This window will initially be empty since we haven't loaded our data just yet"
   ]
  },
  {
   "cell_type": "code",
   "execution_count": null,
   "metadata": {
    "scrolled": false
   },
   "outputs": [],
   "source": [
    "from jdaviz import MosViz\n",
    "mosviz = MosViz()\n",
    "mosviz.app"
   ]
  },
  {
   "cell_type": "markdown",
   "metadata": {},
   "source": [
    "## Downloading data\n",
    "Now, we'll download our NIRISS WFSS simulation dataset from Box. Traditionally, NIRISS WFSS datasets will contain both Column and Row dispersions. For brevity purposes, this dataset has stripped out the Row dispersions and only contains the Column dispersions. We'll expect Mosviz to warn us about this at when we load it. "
   ]
  },
  {
   "cell_type": "code",
   "execution_count": null,
   "metadata": {},
   "outputs": [],
   "source": [
    "# Download file\n",
    "from astropy.utils.data import download_file\n",
    "data_archive_path = download_file(\"https://stsci.box.com/shared/static/bij29ciuxxpb2sdhnh4j2q3np1lq9yxr.zip\")\n",
    "# Unzip file\n",
    "import tempfile\n",
    "niriss_folder = tempfile.mkdtemp()\n",
    "print(niriss_folder)\n",
    "from zipfile import ZipFile\n",
    "with ZipFile(data_archive_path, 'r') as data_archive:\n",
    "    data_archive.extractall(niriss_folder)"
   ]
  },
  {
   "cell_type": "markdown",
   "metadata": {},
   "source": [
    "## Load data into Mosviz\n",
    "We have developed a specific parser for NIRISS data for Mosviz. This handles all the instrument specific parsing required to visualize NIRISS WFSS data. Once you see `Done` printed, the the dataset has been successfully loaded into Mosviz, and you should see the table populate with all the different cutouts above. Note again this dataset has removed the Row dispersions for brevity, so you will see some warning messages about those missing files during load time. This is expected for this demonstration."
   ]
  },
  {
   "cell_type": "markdown",
   "metadata": {},
   "source": [
    "NOTE: At the time of writing this notebook, our team is aware of a `IndexError: list index out of range` traceback at loadtime. You can safely ignore this traceback, as it has been tested not to impact the current behavior of the tool. We are working to resolve this issue, and we appreciate your patience!"
   ]
  },
  {
   "cell_type": "markdown",
   "metadata": {},
   "source": [
    "NOTE: At the time of writing this notebook, our team is aware of a `ValueError: FITS header values must contain standard printable ASCII character` traceback when selecting rows in the table viewer. You can safely ignore this traceback, as it has been tested not to impact the current behavior of the tool. We are working to resolve this issue, and we appreciate your patience!"
   ]
  },
  {
   "cell_type": "code",
   "execution_count": null,
   "metadata": {
    "scrolled": false
   },
   "outputs": [],
   "source": [
    "# Load extracted data into Mosviz\n",
    "mosviz.load_niriss_data(niriss_folder)"
   ]
  },
  {
   "cell_type": "markdown",
   "metadata": {},
   "source": [
    "The remainder of the demo will occur within the Mosviz App being displayed in Cell 2. "
   ]
  }
 ],
 "metadata": {
  "kernelspec": {
   "display_name": "Python 3",
   "language": "python",
   "name": "python3"
  },
  "language_info": {
   "codemirror_mode": {
    "name": "ipython",
    "version": 3
   },
   "file_extension": ".py",
   "mimetype": "text/x-python",
   "name": "python",
   "nbconvert_exporter": "python",
   "pygments_lexer": "ipython3",
   "version": "3.8.5"
  }
 },
 "nbformat": 4,
 "nbformat_minor": 4
}
