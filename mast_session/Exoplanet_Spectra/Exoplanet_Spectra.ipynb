{
 "cells": [
  {
   "cell_type": "markdown",
   "id": "cd633213",
   "metadata": {},
   "source": [
    "# JWST SI Search for Exoplanet Spectra\n",
    "## Introduction\n",
    "\n",
    "This tutorial will illustrate how to use the MAST API to search for JWST science data by values of [FITS](https://fits.gsfc.nasa.gov/fits_standard.html) header keywords, and then retrieve all products for the corresponding observations. \n",
    "Searching by SI Keyword values and accessing all data products is not supported in the [MAST Portal](https://mast.stsci.edu/portal/Mashup/Clients/Mast/Portal.html), nor with the [astroquery.mast](https://astroquery.readthedocs.io/en/latest/mast/mast.html) `Observations` class by itself. \n",
    "\n",
    "Specifically, this tutorial will show you how to:\n",
    "* Use the `Mast` class of [astroquery.mast](https://astroquery.readthedocs.io/en/latest/mast/mast.html) to search for JWST science files by values of [FITS](https://fits.gsfc.nasa.gov/fits_standard.html) header keywords\n",
    "* Construct a unique set of Observation IDs to perform a search with the astroquery.mast `Observation` class\n",
    "* Fetch the unique data products associated with the Observations\n",
    "* Filter the results for science products\n",
    "* Download a bash script to retrieve the filtered products\n",
    "\n",
    "<div class=\"alert alert-block alert-info\">\n",
    "\n",
    "<span style=\"color:black\">\n",
    "Here are key distinctions between the two search methods with <a href=\"https://astroquery.readthedocs.io/en/latest/mast/mast.html\">astroquery.mast</a>:\n",
    "    <ul>\n",
    "        <li> <b>SI Keyword Search:</b> Uses the <code>Mast</code> class to search for FITS products that match values of user-specified keywords, where the set of possible keywords is very large. Returns only FITS products, and only finds highest level of calibrated products (generally, L-2b and L-3). </li>\n",
    "        <li> <b>Advanced Search for Observations:</b> Uses the <code>Observations</code> class to search for data products that match certain metadata values. The <a href=\"https://mast.stsci.edu/api/v0/_productsfields.html\">available metadata</a> upon which to conduct such a search is limited to coordinates, timestamps, and a modest set of instrument configuration information. Returns MAST <code>Observations</code> objects, which are collections of all levels of products (all formats) and all ancillary data products. </li>\n",
    "    </ul>\n",
    "</span>\n",
    "</div>"
   ]
  },
  {
   "cell_type": "markdown",
   "id": "817445bc",
   "metadata": {},
   "source": [
    "Connecting files that match keyword values to observations is not difficult, but it is a little convoluted. First, you'll use the API to perform an `Science Instrument Keyword Search` to find matching product files. The names of these files contain the MAST Observation ID as a sub-string. Then we can use the IDs to perform an advanced `Observation` search for matching Observations.\n",
    "\n",
    "Here are the steps in the process:\n",
    "<ul>\n",
    "    <li><a href=\"#Imports\">Imports</a></li>\n",
    "    <li><a href=\"#Example\">Example: Search for Exoplanet Spectra</a></li>\n",
    "    <ul>\n",
    "        <li><a href=\"#Criteria\">Specify Search Criteria</a></li>\n",
    "        <li><a href=\"#Timestamp\">Timestamp</a></li>\n",
    "    </ul>\n",
    "    <li><a href=\"#KW Search\">The Keyword Search</a></li>\n",
    "    <li><a href=\"#Obs IDs\">The Observation Search</a></li>\n",
    "    <ul>\n",
    "        <li><a href=\"#Obs Query\">Execute the Observation Search</a></li>\n",
    "    </ul>\n",
    "    <li><a href=\"#Data Products\">Query for Data Products</a></li>\n",
    "    <ul>\n",
    "        <li><a href=\"#Product Filters\">Filter the Data Products</a></li>\n",
    "    </ul>\n",
    "    <li><a href=\"#Resources\">Additional Resources</a></li>\n",
    "    <ul>\n",
    "        <li><a href=\"#Login\">MAST Login</a></li>\n",
    "        <li><a href=\"#Retrieve Files\">Retrieve Files</a></li>\n",
    "    </ul>\n",
    "</ul>\n"
   ]
  },
  {
   "cell_type": "markdown",
   "id": "0e819a61",
   "metadata": {},
   "source": [
    "## Imports\n",
    "<a id=\"Imports\"></a>\n",
    "\n",
    "The following packages are needed for this tutorial: \n",
    "* We use the `fits` module from astropy.io to read data contained in FITS files.\n",
    "* We use the `unique` and `vstack` methods from `astropy.table` for table handling and manipulation.\n",
    "* [astropy.time](https://docs.astropy.org/en/stable/time/index.html) creates `Time` objects and converts between time representations.\n",
    "* The `Mast` and `Observations` classes from the `astroquery.mast` module allows you to make direct calls to the MAST API services, query and retrieve data products by coordinates, resolvable target names, or observational metadata like program IDs, filters, or exposure times."
   ]
  },
  {
   "cell_type": "code",
   "execution_count": 1,
   "id": "0ed11ba7",
   "metadata": {},
   "outputs": [],
   "source": [
    "from astropy.io import fits\n",
    "from astropy.table import unique, vstack\n",
    "from astropy.time import Time\n",
    "from astroquery.mast import Mast, Observations"
   ]
  },
  {
   "cell_type": "markdown",
   "id": "f0e6f612",
   "metadata": {},
   "source": [
    "# Example: Search for Exoplanet Spectra\n",
    "<a id=\"Example\"></a>\n",
    "\n",
    "This example shows how to search for [NIRISS spectral time-series observations (TSO)](https://jwst-docs.stsci.edu/jwst-near-infrared-imager-and-slitless-spectrograph/niriss-observing-modes/niriss-single-object-slitless-spectroscopy) taken of transiting exo-planets. The data are from Commissioning or Early Release Science programs, and are therefore public. \n",
    "\n",
    "## Specify Search Criteria\n",
    "<a id=\"Criteria\"></a>\n",
    "\n",
    "The criteria for SI Keyword searches consists of FITS header keyword name/value pairs. (Learn more about SI keywords from the [JWST Keyword Dictionary](https://mast.stsci.edu/portal/Mashup/Clients/jwkeywords/index.html), and about the supported set of [keyword values](https://mast.stsci.edu/api/v0/_jwst_inst_keywd.html) that can be queried.) With this kind of query it is necessary to construct a specific structure to hold the query parameters. \n",
    "\n",
    "The following helper routines translate a simple dictionary (one that is easy to customize in Python) to the required [JSON](https://www.w3schools.com/js/js_json_intro.asp)-style syntax, while the second creates a Min:Max pair of parameters for date-time stamps which, as with all parameters that vary continuously, must be expressed as a range of values in a dictionary. "
   ]
  },
  {
   "cell_type": "code",
   "execution_count": null,
   "id": "10c02928",
   "metadata": {},
   "outputs": [],
   "source": [
    "def set_params(parameters):\n",
    "    return [{\"paramName\":p, \"values\":v} for p,v in parameters.items()]\n",
    "\n",
    "def set_mjd_range(min, max):\n",
    "    '''Set time range in MJD given limits expressed as ISO-8601 dates'''\n",
    "    return {\n",
    "        \"min\": Time(min, format='isot').mjd, \n",
    "        \"max\": Time(max, format='isot').mjd\n",
    "        }"
   ]
  },
  {
   "cell_type": "markdown",
   "id": "f8e5f3e3",
   "metadata": {},
   "source": [
    "### Timestamp\n",
    "<a id=\"Timestamp\"></a>\n",
    "\n",
    "A date range is specified here (though is not strictly needed) to illustrate how to express these common parameters. For historical reasons the `astroquery.mast` parameter names for timestamps come in pairs: one with a similar name to the corresponding FITS keyword, and another with the string <code>_mjd</code> appended. The values are equivalent, but are expressed in ISO-8601 and MJD representations, respectively. \n",
    "\n",
    "Change or add keywords and values to the <code>keywords</code> dictionary below to customize your criteria. Note that multiple, discreet-valued parameters are given in a list. "
   ]
  },
  {
   "cell_type": "code",
   "execution_count": null,
   "id": "a7454aea",
   "metadata": {},
   "outputs": [],
   "source": [
    "keywords = {\n",
    "    'category': ['COM','ERS']\n",
    "    ,'exp_type': ['NIS_SOSS']\n",
    "    ,'tsovisit': ['T']\n",
    "    #,'productLevel': [3]\n",
    "    ,'date_obs_mjd': [set_mjd_range('2022-06-01','2022-08-04')]\n",
    "}\n",
    "\n",
    "params = {\n",
    "    'columns': '*',\n",
    "    'filters': set_params(keywords)\n",
    "    }"
   ]
  },
  {
   "cell_type": "markdown",
   "id": "eeecd0b8",
   "metadata": {},
   "source": [
    "The following cell displays the constructed parameter object to illustrate the syntax for the query, which is described formally [here](https://mast.stsci.edu/api/v0/_services.html#MastScienceInstrumentKeywordsNircam). "
   ]
  },
  {
   "cell_type": "code",
   "execution_count": 2,
   "id": "d827fd72",
   "metadata": {},
   "outputs": [
    {
     "data": {
      "text/html": [
       "<div><i>Table length=34</i>\n",
       "<table id=\"table4504350880\" class=\"table-striped table-bordered table-condensed\">\n",
       "<thead><tr><th>Column Name</th><th>Column Label</th><th>Data Type</th><th>Units</th><th>Description</th><th>Examples/Valid Values</th></tr></thead>\n",
       "<thead><tr><th>str21</th><th>str25</th><th>str7</th><th>str10</th><th>str72</th><th>str116</th></tr></thead>\n",
       "<tr><td>intentType</td><td>Observation Type</td><td>string</td><td></td><td>Whether observation is for science or calibration.</td><td>Valid values: science, calibration</td></tr>\n",
       "<tr><td>obs_collection</td><td>Mission</td><td>string</td><td></td><td>Collection</td><td>E.g. SWIFT, PS1, HST, IUE</td></tr>\n",
       "<tr><td>provenance_name</td><td>Provenance Name</td><td>string</td><td></td><td>Provenance name, or source of data</td><td>E.g. TASOC, CALSTIS, PS1</td></tr>\n",
       "<tr><td>instrument_name</td><td>Instrument</td><td>string</td><td></td><td>Instrument Name</td><td>E.g. WFPC2/WFC, UVOT, STIS/CCD</td></tr>\n",
       "<tr><td>project</td><td>Project</td><td>string</td><td></td><td>Processing project</td><td>E.g. HST, HLA, EUVE, hlsp_legus</td></tr>\n",
       "<tr><td>filters</td><td>Filters</td><td>string</td><td></td><td>Instrument filters</td><td>F469N, NUV, FUV, LOW DISP, MIRROR</td></tr>\n",
       "<tr><td>wavelength_region</td><td>Waveband</td><td>string</td><td></td><td>Energy Band</td><td>EUV, XRAY, OPTICAL</td></tr>\n",
       "<tr><td>target_name</td><td>Target Name</td><td>string</td><td></td><td>Target Name</td><td>Ex. COMET-67P-CHURYUMOV-GER-UPDATE</td></tr>\n",
       "<tr><td>target_classification</td><td>Target Classification</td><td>string</td><td></td><td>Type of target</td><td>Ex. COMET;COMET BEING ORBITED BY THE ROSETTA SPACECRAFT;SOLAR SYSTEM</td></tr>\n",
       "<tr><td>obs_id</td><td>Observation ID</td><td>string</td><td></td><td>Observation identifier, given by mission</td><td>U24Z0101T, N4QF18030</td></tr>\n",
       "<tr><td>s_ra</td><td>RA</td><td>float</td><td>deg</td><td>Observation Right Ascension</td><td>May be displayed in the Portal as hh:mm:ss.sss, but should be searched as decimal</td></tr>\n",
       "<tr><td>s_dec</td><td>Dec</td><td>float</td><td>deg</td><td>Observation Declination</td><td>May be displayed in the Portal as hh:mm:ss.sss, but should be searched as decimal</td></tr>\n",
       "<tr><td>proposal_id</td><td>Proposal ID</td><td>string</td><td></td><td>Proposal ID</td><td>E.g. EGCJC, 11360, 9401</td></tr>\n",
       "<tr><td>proposal_pi</td><td>Principal Investigator</td><td>string</td><td></td><td>Principal investigator&apos;s last name</td><td>Chander, Chu, Malkin</td></tr>\n",
       "<tr><td>obs_title</td><td>Observation Title</td><td>string</td><td></td><td>Observation description from proposal</td><td>Age-dating Star Clusters in M101</td></tr>\n",
       "<tr><td>dataproduct_type</td><td>Product Type</td><td>string</td><td></td><td>Type of product</td><td>Valid values: IMAGE, SPECTRUM, SED, TIMESERIES, VISIBILITY, EVENTLIST, CUBE, CATALOG, ENGINEERING, NULL</td></tr>\n",
       "<tr><td>calib_level</td><td>Calibration Level</td><td>integer</td><td></td><td>Calibration level</td><td>0 = raw, 1 = uncalibrated, 2 = calibrated, 3 = science product, 4 = contributed science product</td></tr>\n",
       "<tr><td>t_min</td><td>Start Time</td><td>float</td><td>MJD</td><td>Observation start datetime</td><td>May be displayed in the Portal as YYY-MM-DD HH:MM, but should be searched as MJD</td></tr>\n",
       "<tr><td>t_max</td><td>End Time</td><td>float</td><td>MJD</td><td>Observation end datetime</td><td>May be displayed in the Portal as YYY-MM-DD HH:MM, but should be searched as MJD</td></tr>\n",
       "<tr><td>t_obs_release</td><td>Release Date</td><td>float</td><td>MJD</td><td>Dataset release date</td><td>May be displayed in the Portal as YYY-MM-DD HH:MM, but should be searched as MJD</td></tr>\n",
       "<tr><td>t_exptime</td><td>Exposure Length</td><td>float</td><td>sec</td><td>Exposure time</td><td></td></tr>\n",
       "<tr><td>em_min</td><td>Min. Wavelength</td><td>float</td><td>nm</td><td>Minimum Wavelength</td><td></td></tr>\n",
       "<tr><td>em_max</td><td>Max. Wavelength</td><td>float</td><td>nm</td><td>Maximum Wavelength</td><td></td></tr>\n",
       "<tr><td>objID</td><td>Object ID</td><td>integer</td><td></td><td>Plane ID of observation at given calibration level</td><td>Long integer, e.g. 2012969445</td></tr>\n",
       "<tr><td>s_region</td><td>s_region</td><td>string</td><td>ICRS Shape</td><td>STC/S Footprint</td><td>Will be ICRS circle or polygon. E.g. CIRCLE ICRS 17.71740689 -58.40043015 0.625</td></tr>\n",
       "<tr><td>jpegURL</td><td>jpegURL</td><td>string</td><td></td><td>Preview Image URL</td><td>https://archive.stsci.edu/hst/previews/N4QF/N4QF18090.jpg</td></tr>\n",
       "<tr><td>distance</td><td>Distance (&quot;)</td><td>float</td><td>arcsec</td><td>Angular separation between searched coordinates and center of obsevation</td><td></td></tr>\n",
       "<tr><td>obsid</td><td>Product Group ID</td><td>integer</td><td></td><td>Database identifier for obs_id</td><td>Long integer, e.g. 2007590987</td></tr>\n",
       "<tr><td>dataRights</td><td>Data Rights</td><td>string</td><td></td><td>Data Rights</td><td>valid values: public,exclusive_access,restricted</td></tr>\n",
       "<tr><td>mtFlag</td><td>Moving Target</td><td>boolean</td><td></td><td>Moving Target Flag</td><td>If True, observation contains a moving target, if False or absent observation may or may not contain a moving target</td></tr>\n",
       "<tr><td>srcDen</td><td>Number of Catalog Objects</td><td>float</td><td></td><td>Number of cataloged objects found in observation</td><td></td></tr>\n",
       "<tr><td>dataURL</td><td>Data URL</td><td>string</td><td></td><td>Data URL</td><td></td></tr>\n",
       "<tr><td>proposal_type</td><td>Proposal Type</td><td>string</td><td></td><td>Type of telescope proposal</td><td>Eg. 3PI, GO, GO/DD, HLA, GII, AIS</td></tr>\n",
       "<tr><td>sequence_number</td><td>Sequence Number</td><td>integer</td><td></td><td>Sequence number, e.g. Kepler quarter or TESS sector</td><td></td></tr>\n",
       "</table></div>"
      ],
      "text/plain": [
       "<Table length=34>\n",
       "     Column Name      ...\n",
       "        str21         ...\n",
       "--------------------- ...\n",
       "           intentType ...\n",
       "       obs_collection ...\n",
       "      provenance_name ...\n",
       "      instrument_name ...\n",
       "              project ...\n",
       "              filters ...\n",
       "    wavelength_region ...\n",
       "          target_name ...\n",
       "target_classification ...\n",
       "               obs_id ...\n",
       "                 s_ra ...\n",
       "                s_dec ...\n",
       "          proposal_id ...\n",
       "          proposal_pi ...\n",
       "            obs_title ...\n",
       "     dataproduct_type ...\n",
       "          calib_level ...\n",
       "                t_min ...\n",
       "                t_max ...\n",
       "        t_obs_release ...\n",
       "            t_exptime ...\n",
       "               em_min ...\n",
       "               em_max ...\n",
       "                objID ...\n",
       "             s_region ...\n",
       "              jpegURL ...\n",
       "             distance ...\n",
       "                obsid ...\n",
       "           dataRights ...\n",
       "               mtFlag ...\n",
       "               srcDen ...\n",
       "              dataURL ...\n",
       "        proposal_type ...\n",
       "      sequence_number ..."
      ]
     },
     "execution_count": 2,
     "metadata": {},
     "output_type": "execute_result"
    }
   ],
   "source": [
    "from astroquery.mast import Observations \n",
    "Observations.get_metadata('observations')"
   ]
  },
  {
   "cell_type": "code",
   "execution_count": null,
   "id": "4d36e4fd",
   "metadata": {},
   "outputs": [],
   "source": [
    "from astroquery.mast import Observations \n",
    "Observations.query_criteria(instrument_name='NIRISS',\n",
    "                            )"
   ]
  },
  {
   "cell_type": "code",
   "execution_count": null,
   "id": "c3ef4b17",
   "metadata": {},
   "outputs": [],
   "source": [
    "params"
   ]
  },
  {
   "cell_type": "markdown",
   "id": "9491f5c9",
   "metadata": {},
   "source": [
    "The full selection of keywords upon which to build search criteria is described in the [Field Descriptions for JWST Instrument Keywords](https://mast.stsci.edu/api/v0/_jwst_inst_keywd.html). Note that [astroquery.mast](https://astroquery.readthedocs.io/en/latest/mast/mast.html) parameter names do not always match the FITS keyword names. "
   ]
  },
  {
   "cell_type": "markdown",
   "id": "d584c72a",
   "metadata": {},
   "source": [
    "## Execute the SI Keyword Search\n",
    "<a id=\"KW Search\"></a>\n",
    "\n",
    "This type of query is a little more primitive in [astroquery.mast](https://astroquery.readthedocs.io/en/latest/mast/mast.html) than that for the `Observation` class. Begin by specifying the webservice for the query, which for this case is the [SI keyword search for NIRCam](https://mast.stsci.edu/api/v0/_services.html#MastScienceInstrumentKeywordsNiriss). Then execute the query with arguments for the service and the search parameters that we created above."
   ]
  },
  {
   "cell_type": "code",
   "execution_count": null,
   "id": "e08f9e66",
   "metadata": {},
   "outputs": [],
   "source": [
    "service = 'Mast.Jwst.Filtered.Niriss'\n",
    "t = Mast.service_request(service, params)"
   ]
  },
  {
   "cell_type": "markdown",
   "id": "509e27b3",
   "metadata": {},
   "source": [
    "## Construct the Observation Search\n",
    "<a id=\"Obs IDs\"></a>\n",
    "\n",
    "The keyword search returns an astropy table of *files* that match the query criteria. We need to construct MAST Observation IDs from the file names in order to query for all JWST *Observations* that match our criteria. This can be derived from the filenames by removing all characters after and including the final underscore character. Here we make a list of unique Observation IDs for the subsequent query. Note that we limit the list to *unique* IDs, as many filenames have common roots."
   ]
  },
  {
   "cell_type": "code",
   "execution_count": null,
   "id": "d2cdd491",
   "metadata": {},
   "outputs": [],
   "source": [
    "# Unique file names:\n",
    "fn = list(set(t['filename']))\n",
    "\n",
    "# Set of derived Observation IDs:\n",
    "ids = list(set(['_'.join(x.split('_')[:-1]) for x in fn]))"
   ]
  },
  {
   "cell_type": "markdown",
   "id": "d1b1567a",
   "metadata": {},
   "source": [
    "Print the list of unique ids if you like."
   ]
  },
  {
   "cell_type": "code",
   "execution_count": null,
   "id": "f34e0487",
   "metadata": {},
   "outputs": [],
   "source": [
    "ids"
   ]
  },
  {
   "cell_type": "markdown",
   "id": "425d4bd7",
   "metadata": {},
   "source": [
    "### Execute the Query for Observations\n",
    "<a id=\"Obs Query\"></a>\n",
    "\n",
    "Now search for Observations that match the list of Observation IDs constructed above. This search uses the [astroquery.mast](https://astroquery.readthedocs.io/en/latest/mast/mast.html) `Observations` class, where the available search criteria are described [here](https://mast.stsci.edu/api/v0/_c_a_o_mfields.html). Note that we specify the MAST Mission (i.e., the `obs_collection` field) as <code>JWST</code> to limit the scope of the query (which also greatly speeds up the search). "
   ]
  },
  {
   "cell_type": "code",
   "execution_count": null,
   "id": "ab8c0310",
   "metadata": {},
   "outputs": [],
   "source": [
    "matched_obs = Observations.query_criteria(\n",
    "    obs_collection='JWST',\n",
    "    instrument_name='Niriss', \n",
    "    obs_id=ids\n",
    ")"
   ]
  },
  {
   "cell_type": "markdown",
   "id": "9080f483",
   "metadata": {},
   "source": [
    "Verify that your query matched at least one observation, or the remaining steps will fail."
   ]
  },
  {
   "cell_type": "code",
   "execution_count": null,
   "id": "646b96c7",
   "metadata": {},
   "outputs": [],
   "source": [
    "print(f'Found {len(matched_obs)} matching Observations.')"
   ]
  },
  {
   "cell_type": "markdown",
   "id": "61a482b4",
   "metadata": {},
   "source": [
    "## Query for Data Products\n",
    "<a id=\"Data Products\"></a>\n",
    "\n",
    "Next we'll fetch the data products that are connected to each Observation. Here we take care to fetch the products from Observations a few at a time (in chunks) to avoid server timeouts. This can happen if there are a large number of files in one or more of the matched Observations. A larger chunk size will execute faster, but increases the risk of a server timeout.\n",
    "\n",
    "The following bit of python magic splits a single long list into a list of smaller lists, each of which has a size no larger than `sz_chunk`."
   ]
  },
  {
   "cell_type": "code",
   "execution_count": null,
   "id": "c5c1c08a",
   "metadata": {},
   "outputs": [],
   "source": [
    "sz_chunk = 4\n",
    "chunks = [matched_obs[i:i+sz_chunk] for i in range(0,len(matched_obs), sz_chunk)]"
   ]
  },
  {
   "cell_type": "markdown",
   "id": "0349477a",
   "metadata": {},
   "source": [
    "Now fetch the constituent products in a list of tables."
   ]
  },
  {
   "cell_type": "code",
   "execution_count": null,
   "id": "84b78624",
   "metadata": {},
   "outputs": [],
   "source": [
    "t = [Observations.get_product_list(obs) for obs in chunks]"
   ]
  },
  {
   "cell_type": "markdown",
   "id": "0075100e",
   "metadata": {},
   "source": [
    "We need to stack the individual tables and extract a unique set of file names. This avoids redundancy because Observations often have many files in common (e.g., guide-star files). "
   ]
  },
  {
   "cell_type": "code",
   "execution_count": null,
   "id": "5c6386ca",
   "metadata": {},
   "outputs": [],
   "source": [
    "products = unique(vstack(t), keys='productFilename')\n",
    "print(f'  Number of unique products: {len(products)}')"
   ]
  },
  {
   "cell_type": "markdown",
   "id": "b883a0d8",
   "metadata": {},
   "source": [
    "Display the resulting list of files if you like. "
   ]
  },
  {
   "cell_type": "code",
   "execution_count": null,
   "id": "21a450dc",
   "metadata": {},
   "outputs": [],
   "source": [
    "products.show_in_notebook(display_length=10)"
   ]
  },
  {
   "cell_type": "markdown",
   "id": "9a115fee",
   "metadata": {},
   "source": [
    "### Filter the Data Products\n",
    "<a id=\"Product Filters\"></a>\n",
    "\n",
    "If there are a subset of products of interest (or, a set of products you would like to exclude) there are a number of ways to do that. The cell below applies a filter to select only products classified as `SCIENCE` plus the files that define product associations; it also excludes guide-star products. See the full set of [Products Field Descriptions](https://mast.stsci.edu/api/v0/_productsfields.html)."
   ]
  },
  {
   "cell_type": "code",
   "execution_count": null,
   "id": "1cbf1fd7",
   "metadata": {},
   "outputs": [],
   "source": [
    "filtered_products = Observations.filter_products(\n",
    "                    products\n",
    "                   ,productType=['SCIENCE', 'INFO']\n",
    "                    )"
   ]
  },
  {
   "cell_type": "markdown",
   "id": "9191079a",
   "metadata": {},
   "source": [
    "Display selected columns of the filtered products, if you like."
   ]
  },
  {
   "cell_type": "code",
   "execution_count": null,
   "id": "8877fa35",
   "metadata": {
    "scrolled": false
   },
   "outputs": [],
   "source": [
    "filtered_products['description','dataURI', 'calib_level', 'size'].show_in_notebook(display_length=10)"
   ]
  },
  {
   "cell_type": "markdown",
   "id": "4bbd8b7f",
   "metadata": {},
   "source": [
    "# Additional Resources\n",
    "<a id=\"Resources\"></a>\n",
    "\n",
    "The links below take you to documentation that you might find useful when constructing queries.\n",
    "\n",
    "* [astropy](https://docs.astropy.org/en/stable/index.html) documentation\n",
    "* [astroquery.mast](https://astroquery.readthedocs.io/en/latest/mast/mast.html) documentation for querying MAST\n",
    "* [Field Descriptions for JWST Instrument Keywords](https://mast.stsci.edu/api/v0/_jwst_inst_keywd.html)\n",
    "* [Queryable fields](https://mast.stsci.edu/api/v0/_c_a_o_mfields.html) in the MAST/CAOM database\n",
    "\n",
    "We also include this \"bonus content\" for accessing EAP data and retreiving files with scripts."
   ]
  },
  {
   "cell_type": "markdown",
   "id": "7b6ec36e",
   "metadata": {},
   "source": [
    "# Below to be re-factored as \"optional\" modules\n",
    "### MAST Login\n",
    "<a id=\"Login\"></a>\n",
    "\n",
    "If you intend to retrieve data that are protected by an Exclusive Access Period (EAP), you will need to be both *authorized* and *authenticated*. You can authenticate by presenting a valid [Auth.MAST](https://auth.mast.stsci.edu/info) token with the login function. (See [MAST User Accounts](https://outerspace.stsci.edu/display/MASTDOCS/MAST+User+Accounts) for more information about whether you need to login.) Note: this step is unnecessary if you are only retrieving public data. \n",
    "\n",
    "<div class=\"alert alert-block alert-warning\">\n",
    "\n",
    "<span style=\"color:black\">\n",
    "    If you have arrived at this point, wish to retrieve EAP products, and have <b>not</b> establihed a token, you need to do the following:\n",
    "    <ul>\n",
    "        <li> Create a token here: <a href=\"https://auth.mast.stsci.edu/info\">Auth.MAST</a>\n",
    "        <li> Cut/paste the token string in response to the prompt that will appear when downloading the script. </li>\n",
    "    </ul>\n",
    "    Defining the token string as an environment variable <b>will not work</b> for an already-running notebook.\n",
    "</span>\n",
    "</div>"
   ]
  },
  {
   "cell_type": "markdown",
   "id": "142cc506",
   "metadata": {},
   "source": [
    "### Retrieve FIles\n",
    "<a id=\"Retrieve Files\"></a>\n",
    "\n",
    "Now fetch the products. The example below shows how to retrieve a bash script (rather than direct file download) which enables the file retrievals at a later time. Scripts are a much better choice if the number of files in the download manifest is large (>100)."
   ]
  },
  {
   "cell_type": "markdown",
   "id": "16e0283e",
   "metadata": {},
   "source": [
    "Display the filtered product table if you like."
   ]
  },
  {
   "cell_type": "markdown",
   "id": "3b7a92be",
   "metadata": {},
   "source": [
    "The name of the download script will be something like: mastDownload_**YYYYMMDDhhmmss**.sh, where the latter part of the name is a numeric timestamp. What remains is to invoke the downloaded **bash** script on your machine to retrieve the files. "
   ]
  },
  {
   "cell_type": "markdown",
   "id": "88295faf",
   "metadata": {},
   "source": [
    "## About this notebook\n",
    "\n",
    "This notebook was developed by Archive Sciences Branch staff, chiefly Dick Shaw. For support, please contact the Archive HelpDesk at archive@stsci.edu, or through the [JWST HelpDesk Portal](https://jwsthelp.stsci.edu). \n",
    "<img style=\"float: right;\" src=\"https://raw.githubusercontent.com/spacetelescope/notebooks/master/assets/stsci_pri_combo_mark_horizonal_white_bkgd.png\" alt=\"Space Telescope Logo\" width=\"200px\"/>"
   ]
  }
 ],
 "metadata": {
  "kernelspec": {
   "display_name": "Python 3 (ipykernel)",
   "language": "python",
   "name": "python3"
  },
  "language_info": {
   "codemirror_mode": {
    "name": "ipython",
    "version": 3
   },
   "file_extension": ".py",
   "mimetype": "text/x-python",
   "name": "python",
   "nbconvert_exporter": "python",
   "pygments_lexer": "ipython3",
   "version": "3.9.7"
  }
 },
 "nbformat": 4,
 "nbformat_minor": 5
}
