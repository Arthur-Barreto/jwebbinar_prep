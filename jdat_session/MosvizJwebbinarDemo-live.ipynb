{
 "cells": [
  {
   "cell_type": "code",
   "execution_count": null,
   "metadata": {},
   "outputs": [],
   "source": [
    "from jdaviz import MosViz\n",
    "mosviz = MosViz()\n",
    "mosviz.app"
   ]
  },
  {
   "cell_type": "code",
   "execution_count": null,
   "metadata": {},
   "outputs": [],
   "source": [
    "# Download file\n",
    "from astropy.utils.data import download_file\n",
    "data_archive_path = download_file(\"https://stsci.box.com/shared/static/bij29ciuxxpb2sdhnh4j2q3np1lq9yxr.zip\")\n",
    "# Unzip file\n",
    "import tempfile\n",
    "niriss_folder = tempfile.mkdtemp()\n",
    "print(niriss_folder)\n",
    "from zipfile import ZipFile\n",
    "with ZipFile(data_archive_path, 'r') as data_archive:\n",
    "    data_archive.extractall(niriss_folder)"
   ]
  },
  {
   "cell_type": "code",
   "execution_count": null,
   "metadata": {
    "scrolled": false
   },
   "outputs": [],
   "source": [
    "# Load extracted data into Mosviz\n",
    "mosviz.load_niriss_data(niriss_folder)"
   ]
  }
 ],
 "metadata": {
  "kernelspec": {
   "display_name": "Python 3",
   "language": "python",
   "name": "python3"
  },
  "language_info": {
   "codemirror_mode": {
    "name": "ipython",
    "version": 3
   },
   "file_extension": ".py",
   "mimetype": "text/x-python",
   "name": "python",
   "nbconvert_exporter": "python",
   "pygments_lexer": "ipython3",
   "version": "3.8.5"
  }
 },
 "nbformat": 4,
 "nbformat_minor": 4
}
