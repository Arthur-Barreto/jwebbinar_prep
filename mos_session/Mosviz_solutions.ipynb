{
 "cells": [
  {
   "cell_type": "markdown",
   "metadata": {},
   "source": [
    "## Introduction\n",
    "\n",
    "This notebook demonstrates how to visualize and analyze JWST MOS spectra, including how to:\n",
    "\n",
    "* Launch [Mosviz](https://jdaviz.readthedocs.io/en/latest/mosviz/index.html)\n",
    "* [Load MOS data](https://jdaviz.readthedocs.io/en/latest/mosviz/import_data.html) from a notebook cell\n",
    "* Adjust [display parameters](https://jdaviz.readthedocs.io/en/latest/cubeviz/displaycubes.html#display-settings)\n",
    "* Select [spectral regions](https://jdaviz.readthedocs.io/en/latest/specviz/displaying.html#spectral-regions) for further analysis \n",
    "* [Line analysis](https://jdaviz.readthedocs.io/en/latest/specviz/plugins.html#line-analysis): centroids, widths, and fluxes\n",
    "* Load custom [line lists](https://jdaviz.readthedocs.io/en/latest/specviz/plugins.html#line-lists)\n",
    "\n",
    "\n",
    "JWebbinar notebook created by Patrick Ogle at STScI"
   ]
  },
  {
   "cell_type": "markdown",
   "metadata": {},
   "source": [
    "## Data\n",
    "\n",
    "We use simulated NIRSpec MOS PRISM data created with the NIRSpec Instrument Performance Simulator (IPS).  This consists of 33 sources (primarily galaxies) plus background \n",
    "from 33 open slitlets. The dataset is not publicly released and will be replaced with another, better dataset when it becomes available.  Please do not distribute this version.\n",
    "\n",
    "The simulated Level 2a data were run through the JWST Spec2 and Spec3 pipelines to create Level 2b and Level 3 (s2d and x1d) data products. Background subtraction was performed on the Level 3 data. The flux calibration for this dataset is inaccurate, pending on-orbit calibration."
   ]
  },
  {
   "cell_type": "markdown",
   "metadata": {},
   "source": [
    "## Imports\n",
    "* [_jdaviz_](https://jdaviz.readthedocs.io/en/latest/) : [Mosviz](https://jdaviz.readthedocs.io/en/latest/mosviz/index.html) data visualization tool\n",
    "* [os](https://docs.python.org/3/library/os.html), [glob](https://docs.python.org/3/library/glob.html), [zipfile](https://docs.python.org/3/library/zipfile.html), and [astropy.utils.data.download_file](https://docs.astropy.org/en/stable/api/astropy.utils.data.download_file.html) for file management \n",
    "* [astropy.units](https://docs.astropy.org/en/stable/units/index.html) and [astropy.table](https://docs.astropy.org/en/stable/table/index.html) for line lists"
   ]
  },
  {
   "cell_type": "code",
   "execution_count": null,
   "metadata": {},
   "outputs": [],
   "source": [
    "from jdaviz import Mosviz\n",
    "import os\n",
    "import glob\n",
    "import zipfile\n",
    "from astropy.utils.data import download_file\n",
    "\n",
    "import numpy as np\n",
    "import astropy.units as u\n",
    "import astropy.table as t"
   ]
  },
  {
   "cell_type": "markdown",
   "metadata": {
    "tags": []
   },
   "source": [
    "<p style=\"font-size:200%; color:#e56020; background-color:#1d1160;\"><b><i>Reviewer note:</i> Begin PEP8 check cells (delete below when finished)</b></p>"
   ]
  },
  {
   "cell_type": "code",
   "execution_count": null,
   "metadata": {},
   "outputs": [],
   "source": [
    "# disable all imported packages' loggers\n",
    "import logging\n",
    "logging.root.manager.loggerDict = {}"
   ]
  },
  {
   "cell_type": "code",
   "execution_count": null,
   "metadata": {},
   "outputs": [],
   "source": [
    "# enable PEP8 checker for this notebook\n",
    "%load_ext pycodestyle_magic\n",
    "%flake8_on --ignore E261,E501,W291,W293\n",
    "\n",
    "# only allow the checker to throw warnings when there's a violation\n",
    "logging.getLogger('flake8').setLevel('ERROR')\n",
    "logging.getLogger('stpipe').setLevel('ERROR')"
   ]
  },
  {
   "cell_type": "markdown",
   "metadata": {},
   "source": [
    "<p style=\"font-size:200%; color:#e56020; background-color:#1d1160;\"><b><i>Reviewer note:</i> End PEP8 check cells (delete above when finished)</b></p>"
   ]
  },
  {
   "cell_type": "markdown",
   "metadata": {},
   "source": [
    "## Visualize simulated NIRSpec MOS data\n",
    "\n",
    "Execute the next cell to launch Mosviz, then follow the instructions for each task enumerated in the cell directly below the Cubeviz app."
   ]
  },
  {
   "cell_type": "code",
   "execution_count": null,
   "metadata": {},
   "outputs": [],
   "source": [
    "mosviz = Mosviz()\n",
    "mosviz.app"
   ]
  },
  {
   "cell_type": "markdown",
   "metadata": {},
   "source": [
    "### UI Instructions:\n",
    "#### Task 1:  Load the MOS data and view it\n",
    "* Load the NIRSpec MOS spectra and image cutouts into Mosviz using the code cells below\n",
    "* Click on the third row (not the checkbox) in the Mosviz table viewer to display data for one of the sources in the MOS dataset.\n",
    "* Open the Display menu of the Image viewer. In the Layer tab, change the stretch to Logarithmic, 99 percentile.\n",
    "* Try adjusting the stretch and colormap in the 2D spectrum viewer.\n",
    "\n",
    "#### Task 2:  Toggle the slit viewer on and off\n",
    "* Find the Slit Overlay Plugin by clicking the 'Lego' icon at upper right.\n",
    "* Uncheck or check the box to turn the slit viewer off or on.\n",
    "\n",
    "#### Task 3: Select a spectral region for further analysis\n",
    "* Use the horizontal and vertical pan-zoom tools in the 1D spectrum viewer to zoom in on the spectral line at 2 microns.  Note that the 2D spectral region matches the selection in the 1D viewer.\n",
    "* Use the spectral region selection tool in the 1D spectrum viewer to select the line at 2 microns (Subset 1).\n",
    "\n",
    "#### Task 4: Measure line centroids using the Line Analysis plugin\n",
    "* Find the Line Analysis Plugin by clicking the 'Lego' icon at upper right.\n",
    "* Select a dataset with the Data dropdown (e.g. Subset1).\n",
    "* Several line properties are automatically computed (flux, equivalent width, Gaussian sigma, Gaussian FWHM, and Centroid) using specutils functionality. Note that the line flux, Gaussian sigma, FWHM, and centroid require continuum subtraction or normalization, and will not be correct if there is a significant continuum component. The equivalent width, on the other hand, requires the continuum to be normalized to unity to give a correct answer. \n",
    "* The Halpha emission line complex is at 1.92 microns (redshift z = 1.93) \n",
    "* Now determine the centroid wavelength of the line at ~1.5 microns.  What is the line ID?\n",
    "\n",
    "#### Task 5: Identify spectral lines using the Line Lists plugin\n",
    "* Open the Line Lists plugin to create a custom line list: OIII5007 (1.467 um), Halpha (1.923 um)\n",
    "* Click on the 'Custom' tab and enter the first line name, wavelength, and wavelength unit, and click 'Add Line'\n",
    "* In the same place, enter the values for the second line and 'Add Line'\n",
    "* Click through the other spectra to see if those same lines appear (Hint: it is one of the first 5)\n",
    "\n",
    "#### Task 6: Load a line list from the notebook and display them in the spectrum viewer\n",
    "* Run the cell below to load a custom line list programmatically\n",
    "* Open the Line Lists plugin\n",
    "* Change the color of the 'Galaxy3' line list to distinguish from the 'Custom' line list\n",
    "* Click on Hide/Show All in the Galaxy3 line list to toggle lines on and off\n",
    "* Check/uncheck individual lines to show only the ones you want\n"
   ]
  },
  {
   "cell_type": "code",
   "execution_count": null,
   "metadata": {},
   "outputs": [
    {
     "name": "stderr",
     "output_type": "stream",
     "text": [
      "INFO:pycodestyle:1:1: E265 block comment should start with '# '\n",
      "INFO:pycodestyle:5:4: E225 missing whitespace around operator\n",
      "INFO:pycodestyle:11:1: E265 block comment should start with '# '\n",
      "INFO:pycodestyle:19:1: E265 block comment should start with '# '\n"
     ]
    }
   ],
   "source": [
    "#Redshifted optical emission lines\n",
    "\n",
    "line = ['OII', 'Hbeta', 'OIIIa', 'OIIIb', 'Halpha', 'SII', 'Palpha']\n",
    "wavel = [.3727, .4861, .4959, .5007, .6563, .6724, 1.8756]\n",
    "z =1.93\n",
    "\n",
    "wave = np.array(wavel)*(1+z)\n",
    "print(line)\n",
    "print(wave)\n",
    "\n",
    "#Create an astropy table \n",
    "lt = t.QTable()\n",
    "lt['linename'] = line\n",
    "lt['rest'] = wavel*u.um\n",
    "lt['redshift'] = u.Quantity(z)\n",
    "lt['listname'] = \"Galaxy3\"\n",
    "print(lt)\n",
    "\n",
    "#Load the line list table into the Line Lists plugin\n",
    "mosviz.specviz.load_line_list(lt)"
   ]
  },
  {
   "cell_type": "markdown",
   "metadata": {},
   "source": [
    "### Download the data"
   ]
  },
  {
   "cell_type": "code",
   "execution_count": null,
   "metadata": {},
   "outputs": [
    {
     "name": "stderr",
     "output_type": "stream",
     "text": [
      "INFO:pycodestyle:2:1: E265 block comment should start with '# '\n",
      "INFO:pycodestyle:3:1: E265 block comment should start with '# '\n",
      "INFO:pycodestyle:5:1: E265 block comment should start with '# '\n",
      "INFO:pycodestyle:6:1: E265 block comment should start with '# '\n",
      "INFO:pycodestyle:7:1: E265 block comment should start with '# '\n",
      "INFO:pycodestyle:8:1: E265 block comment should start with '# '\n",
      "INFO:pycodestyle:9:11: E225 missing whitespace around operator\n"
     ]
    }
   ],
   "source": [
    "# From the Jwebbinar platform\n",
    "#!ls /home/shared/preloaded-fits/nirspec_files/mos_prism\n",
    "#data_dir = '/home/shared/preloaded-fits/nirspec_files/mos_prism'\n",
    "\n",
    "#From Box\n",
    "#Notes: \n",
    "#1) This requires the directory ./mosdata to already exist\n",
    "#2) This dataset is not publically available yet (ask Patrick Ogle)\n",
    "data_dir ='./mosdata'\n",
    "ziplink = 'https://stsci.box.com/shared/static/xddvu98qa5k2ggjz3ru4az37t63anr1g.zip'\n",
    "zipfilename = 'nirspec_mosdata_prism.zip'\n",
    "print(zipfilename)\n",
    "if not os.path.isfile(os.path.join(data_dir, zipfilename)):\n",
    "    print('Downloading {}...'.format(zipfilename))\n",
    "    demo_file = download_file(ziplink, cache=True)\n",
    "    # Make a symbolic link using a local name for convenience\n",
    "    print(os.path.join(data_dir, zipfilename))\n",
    "    os.symlink(demo_file, os.path.join(data_dir, zipfilename))\n",
    "else:\n",
    "    print('{} already exists, skipping download...'.format(zipfilename))\n",
    "zf = zipfile.ZipFile(data_dir+'/'+zipfilename, 'r')\n",
    "zf.extractall(data_dir)\n"
   ]
  },
  {
   "cell_type": "markdown",
   "metadata": {},
   "source": [
    "### Create the lists of data products\n",
    "Skip this cell if you want Mosviz to load by directory instead of file list."
   ]
  },
  {
   "cell_type": "code",
   "execution_count": null,
   "metadata": {},
   "outputs": [
    {
     "name": "stderr",
     "output_type": "stream",
     "text": [
      "INFO:pycodestyle:7:5: E265 block comment should start with '# '\n",
      "INFO:pycodestyle:17:1: E265 block comment should start with '# '\n",
      "INFO:pycodestyle:18:24: E211 whitespace before '('\n",
      "INFO:pycodestyle:23:1: E265 block comment should start with '# '\n"
     ]
    }
   ],
   "source": [
    "# Create the lists of data products\n",
    "slit_id = []\n",
    "spectra_1d = []\n",
    "spectra_2d = []\n",
    "cutouts = []\n",
    "for file_path in glob.glob(str(data_dir+'/*')):\n",
    "    #print(file_path)\n",
    "    if ('x1d' in file_path):\n",
    "        spectra_1d.append(file_path)\n",
    "        slitid = file_path[17:22]\n",
    "        slit_id.append(slitid)\n",
    "    elif ('s2d' in file_path):\n",
    "        spectra_2d.append(file_path)\n",
    "    elif ('cutout' in file_path):\n",
    "        cutouts.append(file_path)     \n",
    "\n",
    "#Sort the slit ids and filenames\n",
    "slit_id_sorted = sorted (slit_id)    \n",
    "spectra_1d_sorted = sorted(spectra_1d)\n",
    "spectra_2d_sorted = sorted(spectra_2d)\n",
    "cutouts_sorted = sorted(cutouts)\n",
    "  \n",
    "#Print out the matched filenames for each slit\n",
    "for s_id, f_1d, f_2d, f_cut in zip(slit_id_sorted, spectra_1d_sorted, spectra_2d_sorted, cutouts_sorted): \n",
    "\n",
    "    print(s_id, f_1d[10:], '...'+f_2d[44:], f_cut[10:])"
   ]
  },
  {
   "cell_type": "markdown",
   "metadata": {},
   "source": [
    "## Load the data into Mosviz"
   ]
  },
  {
   "cell_type": "code",
   "execution_count": null,
   "metadata": {},
   "outputs": [
    {
     "name": "stderr",
     "output_type": "stream",
     "text": [
      "INFO:pycodestyle:2:1: E265 block comment should start with '# '\n",
      "INFO:pycodestyle:3:1: E265 block comment should start with '# '\n",
      "INFO:pycodestyle:5:1: E265 block comment should start with '# '\n",
      "INFO:pycodestyle:6:1: E265 block comment should start with '# '\n",
      "INFO:pycodestyle:7:1: E265 block comment should start with '# '\n",
      "INFO:pycodestyle:8:1: E265 block comment should start with '# '\n",
      "INFO:pycodestyle:9:1: E265 block comment should start with '# '\n",
      "INFO:pycodestyle:11:1: E265 block comment should start with '# '\n",
      "INFO:pycodestyle:12:1: E265 block comment should start with '# '\n",
      "INFO:pycodestyle:13:11: E225 missing whitespace around operator\n"
     ]
    },
    {
     "ename": "FileNotFoundError",
     "evalue": "Could not locate file: mosdata",
     "output_type": "error",
     "traceback": [
      "\u001b[0;31m---------------------------------------------------------------------------\u001b[0m",
      "\u001b[0;31mFileNotFoundError\u001b[0m                         Traceback (most recent call last)",
      "\u001b[0;32m/var/folders/ls/7lh0_8jn0ndbm6g7plbzw8n400028t/T/ipykernel_71607/3555959140.py\u001b[0m in \u001b[0;36m<module>\u001b[0;34m\u001b[0m\n\u001b[1;32m     11\u001b[0m \u001b[0;31m#(Don't need to run the previous cell)\u001b[0m\u001b[0;34m\u001b[0m\u001b[0;34m\u001b[0m\u001b[0;34m\u001b[0m\u001b[0m\n\u001b[1;32m     12\u001b[0m \u001b[0mdata_dir\u001b[0m \u001b[0;34m=\u001b[0m\u001b[0;34m'./mosdata'\u001b[0m\u001b[0;34m\u001b[0m\u001b[0;34m\u001b[0m\u001b[0m\n\u001b[0;32m---> 13\u001b[0;31m \u001b[0mmosviz\u001b[0m\u001b[0;34m.\u001b[0m\u001b[0mload_data\u001b[0m\u001b[0;34m(\u001b[0m\u001b[0mdirectory\u001b[0m\u001b[0;34m=\u001b[0m\u001b[0mdata_dir\u001b[0m\u001b[0;34m,\u001b[0m \u001b[0minstrument\u001b[0m\u001b[0;34m=\u001b[0m\u001b[0;34m\"nirspec\"\u001b[0m\u001b[0;34m)\u001b[0m\u001b[0;34m\u001b[0m\u001b[0;34m\u001b[0m\u001b[0m\n\u001b[0m",
      "\u001b[0;32m~/opt/anaconda3/envs/jwebbinar7/lib/python3.8/site-packages/jdaviz/configs/mosviz/helper.py\u001b[0m in \u001b[0;36mload_data\u001b[0;34m(self, spectra_1d, spectra_2d, images, spectra_1d_label, spectra_2d_label, images_label, *args, **kwargs)\u001b[0m\n\u001b[1;32m    282\u001b[0m         \u001b[0;32mif\u001b[0m \u001b[0mdirectory\u001b[0m \u001b[0;32mis\u001b[0m \u001b[0;32mnot\u001b[0m \u001b[0;32mNone\u001b[0m \u001b[0;32mand\u001b[0m \u001b[0minstrument\u001b[0m \u001b[0;32mis\u001b[0m \u001b[0;32mnot\u001b[0m \u001b[0;32mNone\u001b[0m\u001b[0;34m:\u001b[0m\u001b[0;34m\u001b[0m\u001b[0;34m\u001b[0m\u001b[0m\n\u001b[1;32m    283\u001b[0m             \u001b[0;32mif\u001b[0m \u001b[0minstrument\u001b[0m\u001b[0;34m.\u001b[0m\u001b[0mlower\u001b[0m\u001b[0;34m(\u001b[0m\u001b[0;34m)\u001b[0m \u001b[0;34m==\u001b[0m \u001b[0;34m\"nirspec\"\u001b[0m\u001b[0;34m:\u001b[0m\u001b[0;34m\u001b[0m\u001b[0;34m\u001b[0m\u001b[0m\n\u001b[0;32m--> 284\u001b[0;31m                 \u001b[0msuper\u001b[0m\u001b[0;34m(\u001b[0m\u001b[0;34m)\u001b[0m\u001b[0;34m.\u001b[0m\u001b[0mload_data\u001b[0m\u001b[0;34m(\u001b[0m\u001b[0mdirectory\u001b[0m\u001b[0;34m,\u001b[0m \u001b[0;34m\"mosviz-nirspec-directory-parser\"\u001b[0m\u001b[0;34m)\u001b[0m\u001b[0;34m\u001b[0m\u001b[0;34m\u001b[0m\u001b[0m\n\u001b[0m\u001b[1;32m    285\u001b[0m             \u001b[0;32melif\u001b[0m \u001b[0minstrument\u001b[0m\u001b[0;34m.\u001b[0m\u001b[0mlower\u001b[0m\u001b[0;34m(\u001b[0m\u001b[0;34m)\u001b[0m \u001b[0;34m==\u001b[0m \u001b[0;34m\"niriss\"\u001b[0m\u001b[0;34m:\u001b[0m\u001b[0;34m\u001b[0m\u001b[0;34m\u001b[0m\u001b[0m\n\u001b[1;32m    286\u001b[0m                 \u001b[0mself\u001b[0m\u001b[0;34m.\u001b[0m\u001b[0mload_niriss_data\u001b[0m\u001b[0;34m(\u001b[0m\u001b[0mdirectory\u001b[0m\u001b[0;34m)\u001b[0m\u001b[0;34m\u001b[0m\u001b[0;34m\u001b[0m\u001b[0m\n",
      "\u001b[0;32m~/opt/anaconda3/envs/jwebbinar7/lib/python3.8/site-packages/jdaviz/core/helpers.py\u001b[0m in \u001b[0;36mload_data\u001b[0;34m(self, data, parser_reference, **kwargs)\u001b[0m\n\u001b[1;32m     44\u001b[0m \u001b[0;34m\u001b[0m\u001b[0m\n\u001b[1;32m     45\u001b[0m     \u001b[0;32mdef\u001b[0m \u001b[0mload_data\u001b[0m\u001b[0;34m(\u001b[0m\u001b[0mself\u001b[0m\u001b[0;34m,\u001b[0m \u001b[0mdata\u001b[0m\u001b[0;34m,\u001b[0m \u001b[0mparser_reference\u001b[0m\u001b[0;34m=\u001b[0m\u001b[0;32mNone\u001b[0m\u001b[0;34m,\u001b[0m \u001b[0;34m**\u001b[0m\u001b[0mkwargs\u001b[0m\u001b[0;34m)\u001b[0m\u001b[0;34m:\u001b[0m\u001b[0;34m\u001b[0m\u001b[0;34m\u001b[0m\u001b[0m\n\u001b[0;32m---> 46\u001b[0;31m         \u001b[0mself\u001b[0m\u001b[0;34m.\u001b[0m\u001b[0mapp\u001b[0m\u001b[0;34m.\u001b[0m\u001b[0mload_data\u001b[0m\u001b[0;34m(\u001b[0m\u001b[0mdata\u001b[0m\u001b[0;34m,\u001b[0m \u001b[0mparser_reference\u001b[0m\u001b[0;34m=\u001b[0m\u001b[0mparser_reference\u001b[0m\u001b[0;34m,\u001b[0m \u001b[0;34m**\u001b[0m\u001b[0mkwargs\u001b[0m\u001b[0;34m)\u001b[0m\u001b[0;34m\u001b[0m\u001b[0;34m\u001b[0m\u001b[0m\n\u001b[0m\u001b[1;32m     47\u001b[0m \u001b[0;34m\u001b[0m\u001b[0m\n\u001b[1;32m     48\u001b[0m     \u001b[0;34m@\u001b[0m\u001b[0mproperty\u001b[0m\u001b[0;34m\u001b[0m\u001b[0;34m\u001b[0m\u001b[0m\n",
      "\u001b[0;32m~/opt/anaconda3/envs/jwebbinar7/lib/python3.8/site-packages/jdaviz/app.py\u001b[0m in \u001b[0;36mload_data\u001b[0;34m(self, file_obj, parser_reference, **kwargs)\u001b[0m\n\u001b[1;32m    313\u001b[0m                                                        color='error')\n\u001b[1;32m    314\u001b[0m                     \u001b[0mself\u001b[0m\u001b[0;34m.\u001b[0m\u001b[0mhub\u001b[0m\u001b[0;34m.\u001b[0m\u001b[0mbroadcast\u001b[0m\u001b[0;34m(\u001b[0m\u001b[0msnackbar_message\u001b[0m\u001b[0;34m)\u001b[0m\u001b[0;34m\u001b[0m\u001b[0;34m\u001b[0m\u001b[0m\n\u001b[0;32m--> 315\u001b[0;31m                     \u001b[0;32mraise\u001b[0m \u001b[0mFileNotFoundError\u001b[0m\u001b[0;34m(\u001b[0m\u001b[0;34m\"Could not locate file: {}\"\u001b[0m\u001b[0;34m.\u001b[0m\u001b[0mformat\u001b[0m\u001b[0;34m(\u001b[0m\u001b[0mfile_obj\u001b[0m\u001b[0;34m)\u001b[0m\u001b[0;34m)\u001b[0m\u001b[0;34m\u001b[0m\u001b[0;34m\u001b[0m\u001b[0m\n\u001b[0m\u001b[1;32m    316\u001b[0m                 \u001b[0;32melse\u001b[0m\u001b[0;34m:\u001b[0m\u001b[0;34m\u001b[0m\u001b[0;34m\u001b[0m\u001b[0m\n\u001b[1;32m    317\u001b[0m                     \u001b[0;31m# Convert path to properly formatted string (Parsers do not accept path objs)\u001b[0m\u001b[0;34m\u001b[0m\u001b[0;34m\u001b[0m\u001b[0;34m\u001b[0m\u001b[0m\n",
      "\u001b[0;31mFileNotFoundError\u001b[0m: Could not locate file: mosdata"
     ]
    }
   ],
   "source": [
    "\n",
    "#Old method:\n",
    "#mosviz.load_data(spectra_1d_sorted, spectra_2d_sorted, images=cutouts_sorted)\n",
    "\n",
    "#Alternative old method, to load one type of data at a time: \n",
    "#mosviz.load_metadata(cutouts_sorted)            \n",
    "#mosviz.load_1d_spectra(spectra_1d_sorted)  \n",
    "#mosviz.load_2d_spectra(spectra_2d_sorted) \n",
    "#mosviz.load_images(cutouts_sorted)\n",
    "\n",
    "#New method: Mosviz convenience function to to load data from directory\n",
    "#(Don't need to run the previous cell)\n",
    "data_dir ='./mosdata'\n",
    "mosviz.load_data(directory=data_dir, instrument=\"nirspec\")\n"
   ]
  }
 ],
 "metadata": {
  "kernelspec": {
   "display_name": "Python 3 (ipykernel)",
   "language": "python",
   "name": "python3"
  },
  "language_info": {
   "codemirror_mode": {
    "name": "ipython",
    "version": 3
   },
   "file_extension": ".py",
   "mimetype": "text/x-python",
   "name": "python",
   "nbconvert_exporter": "python",
   "pygments_lexer": "ipython3",
   "version": "3.9.6"
  }
 },
 "nbformat": 4,
 "nbformat_minor": 4
}
