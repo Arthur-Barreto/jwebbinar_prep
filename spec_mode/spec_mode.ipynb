{
 "cells": [
  {
   "cell_type": "markdown",
   "metadata": {},
   "source": [
    "<a id='top'></a>\n",
    "# Spec Mode Data Calibration: Pipeline Stage 2\n",
    "---\n",
    "**Authors**:  \n",
    "Maria Pena-Guerrero (pena@stsci.edu), Jo Taylor (jotaylor@stsci.edu)\n",
    "\n",
    "**Latest Update**: 19 May 2021"
   ]
  },
  {
   "cell_type": "markdown",
   "metadata": {},
   "source": [
    "<div class=\"alert alert-block alert-warning\">\n",
    "    <h3><u><b>Notebook Goals</b></u></h3>\n",
    "    <ul>Working with the Spectroscopic Stage 2 Calibration Pipeline, we will:</ul>    \n",
    "<ul>\n",
    "    <li>Look at the different ways to call the pipeline</li>\n",
    "    <li>Examine exactly what each pipeline step does to the science data</li>    \n",
    "</ul>\n",
    "</div>"
   ]
  },
  {
   "cell_type": "markdown",
   "metadata": {},
   "source": [
    "## Table of Contents\n",
    "* [Introduction](#intro)\n",
    "* [Pipeline Resources and Documentation](#resources)\n",
    "   * [Installation](#installation)\n",
    "   * [Reference Files](#reference_files)\n",
    "* [Imports](#imports)\n",
    "* [Convenience Functions](#convenience_functions)\n",
    "* [Download Data](#download_data)\n",
    "* [Methods for calling steps/pipelines](#calling_methods)\n",
    "* [Parameter reference files](#parameter_reffiles)\n",
    "* [calwebb_spec2 - count rate files](#spec2) \n",
    "   * [Run the entire pipeline](#spec2_at_once)\n",
    "       * [run() method](#run_method)\n",
    "       * [call() method](#call_method)\n",
    "       * [command line](#command_line)\n",
    "   * [Run the individual pipeline steps](#spec2_step_by_step)\n",
    "       * [The `Assign WCS` step](#assign_wcs)\n",
    "       * [The `Background Subtraction` step](#background)\n",
    "       * [The `Imprint Subtraction` step](#imprint)\n",
    "       * [The `MSA Flagging` step](#msaflagging)\n",
    "       * [The `Extract_2d` step](#extract_2d)\n",
    "       * [The `Source Type` step](#srctype)\n",
    "       * [The `Master Background` step](#masterbg)\n",
    "       * [The `Wavecorr` step](#wavecorr)\n",
    "       * [The `Flat Field` step](#flat_field)\n",
    "       * [The `Straylight` step](#straylight)\n",
    "       * [The `Fringe` step](#fringe)\n",
    "       * [The `Pathloss` step](#pathloss)\n",
    "       * [The `Barshadow` step](#barshadow)\n",
    "       * [The `Photom` step](#photom)\n",
    "       * [The `Resample Spec` step](#resample)\n",
    "       * [The `Cube Build` step](#cube_build)\n",
    "       * [The `Extract_1d` step](#extract_1d)\n"
   ]
  },
  {
   "cell_type": "markdown",
   "metadata": {},
   "source": [
    "<a id='intro'></a>\n",
    "## Introduction\n",
    "\n",
    "This notebook covers the Stage 2 processing of the spectroscopic mode data calibration module. In this notebook we will review how to run Stage 2 of the JWST calibration pipeline, also known as *calwebb_spec2*. \n",
    "\n",
    "The [Stage 2 pipeline](https://jwst-pipeline.readthedocs.io/en/stable/jwst/pipeline/calwebb_spec2.html#calwebb-spec2) applies corrections to countrate files, which are the output files of the Stage 1 pipeline that works for all exposure types (imaging, spectroscopic, coronagraphic, etc.). The Stage 1 pipeline is applied to one exposure at a time, beginning with an uncalibrated multiaccum ramp (*_uncal.fits file*). It is sometimes referred to as “ramps-to-slopes” processing. For additional information, please see the [Stage 1 pipeline](https://jwst-pipeline.readthedocs.io/en/stable/jwst/pipeline/calwebb_detector1.html#calwebb-detector1) documentation and/or the corresponding notebooks.\n",
    "\n",
    "Each input file of *calwebb_spec2* is composed of one (*_rate.fits file*) or more (*_rateints.fits file*) exposures. For details on pipeline products, see [Pipeline Stages](https://jwst-pipeline.readthedocs.io/en/latest/jwst/pipeline/main.html).\n",
    "\n",
    "The output is a fully calibrated individual exposure, with units of MJy/str (or MJy for NIRSpec point sources).\n",
    "\n",
    "The *calwebb_spec2* pipeline of Stage 2, is the “Swiss army knife” of pipeline modules. It contains corrections that are only applied to certain instruments and/or instrument modes. "
   ]
  },
  {
   "cell_type": "markdown",
   "metadata": {},
   "source": [
    "<a id='resources'></a>\n",
    "## Pipeline Resources and Documentation"
   ]
  },
  {
   "cell_type": "markdown",
   "metadata": {},
   "source": [
    "There are several different places to find information on installing and running the pipeline. This notebook will summarize each Stage 2 spectroscopic pipeline step. To find more in-depth instructions use the links below.\n",
    "\n",
    "* [JWST Documentation (JDox) for the Stage 2 spectroscopic pipeline](https://jwst-docs.stsci.edu/jwst-data-reduction-pipeline/stages-of-processing/calwebb_spec2) including short a short summary of what each step does.\n",
    "\n",
    "* [High-level description of all pipeline stages and steps](https://jwst-pipeline.readthedocs.io/en/latest/jwst/pipeline/main.html) from the pipeline software documentation website.\n",
    "\n",
    "* [`jwst` package documentation](https://jwst-pipeline.readthedocs.io/en/latest/jwst/introduction.html) including how to run the pipeline, input/output files, etc.\n",
    "\n",
    "* [`jwst` package GitHub repository, with installation instructions](https://github.com/spacetelescope/jwst/blob/master/README.md)\n",
    "\n",
    "* [**Help Desk**](https://stsci.service-now.com/jwst?id=sc_cat_item&sys_id=27a8af2fdbf2220033b55dd5ce9619cd&sysparm_category=e15706fc0a0a0aa7007fc21e1ab70c2f): **If you have any questions or problems regarding the pipeline, submit a ticket to the Help Desk**"
   ]
  },
  {
   "cell_type": "markdown",
   "metadata": {},
   "source": [
    "<a id='installation'></a>\n",
    "### Installation"
   ]
  },
  {
   "cell_type": "markdown",
   "metadata": {},
   "source": [
    "<div class=\"alert alert-block alert-info\">\n",
    "    During the JWebbinar, we will be working in a pre-existing environment where the <b>jwst</b> package has already been installed, so you won't need to install it yourself.\n",
    "</div>\n",
    "\n",
    "<div class=\"alert alert-block alert-warning\">\n",
    "If you wish to run this notebook outside of this JWebbinar, you will have to first install the <b>jwst</b> package.<br>\n",
    "\n",
    "For more detailed instructions on the various ways to install the package, see the [installation instructions](https://github.com/spacetelescope/jwst/blob/master/README.md) on GitHub.\n",
    "\n",
    "The easiest way to install the pipeline is via `pip`. Below we show how to create a new conda environment, activate that environment, and then install the latest released version of the pipeline. You can name your environment anything you like. In the lines below, replace `<env_name>` with your chosen environment name.\n",
    "\n",
    ">`conda create -n <env_name> python`<br>\n",
    ">`conda activate <env_name>`<br>\n",
    ">`pip install jwst`\n",
    "\n",
    "If you wish to install the development version of the pipeline, which is more recent than (but not as well tested compared to) the latest released version:\n",
    "\n",
    ">`conda create -n <env_name> python`<br>\n",
    ">`conda activate <env_name>`<br>\n",
    ">`pip install git+https://github.com/spacetelescope/jwst`\n",
    "    \n",
    "</div>"
   ]
  },
  {
   "cell_type": "markdown",
   "metadata": {},
   "source": [
    "<a id='reference_files'></a>\n",
    "### Reference Files"
   ]
  },
  {
   "cell_type": "markdown",
   "metadata": {},
   "source": [
    "[Calibration reference files](https://jwst-docs.stsci.edu/data-processing-and-calibration-files/calibration-reference-files) are a collection of FITS and ASDF files that are used to remove instrumental signatures and calibrate JWST data. For example, the dark current reference file contains a multiaccum ramp of dark current signal to be subtracted from the data during the dark current subtraction step. \n",
    "\n",
    "When running a pipeline or pipeline step, the pipeline will automatically look for any required reference files in a pre-defined local directory. If the required reference files are not present, they will automatically be downloaded from the Calibration Reference Data System (CRDS) at STScI.\n",
    "\n",
    "<div class=\"alert alert-block alert-info\">\n",
    "    During the JWebbinar, our pre-existing existing environment is set up to correctly use and store calibration reference files, and you do not need to set the environment variables below.\n",
    "</div>\n",
    "    \n",
    "<div class=\"alert alert-block alert-warning\">\n",
    "If you wish to run this notebook outside of this JWebbinar, you will have to specify a local directory in which to store reference files, along with the server to use to download the reference files from CRDS. To accomplish this, there are two environment variables that should be set prior to calling the pipeline. These are the CRDS_PATH and CRDS_SERVER_URL variables. In the example below, reference files will be downloaded to the \"crds_cache\" directory under the home directory.\n",
    "\n",
    ">`$ export CRDS_PATH=$HOME/crds_cache`<br>\n",
    ">`$ export CRDS_SERVER_URL=https://jwst-crds.stsci.edu`<br>\n",
    "OR:<br>\n",
    "`os.environ[\"CRDS_PATH\"] = \"/user/myself/crds_cache\"`<br>\n",
    "`os.environ[\"CRDS_SERVER_URL\"] = \"https://jwst-crds.stsci.edu\"`<br>\n",
    "\n",
    "The first time you run the pipeline, the CRDS server should download all of the context and reference files that are needed for that pipeline run, and dump them into the CRDS_PATH directory. Subsequent executions of the pipeline will first look to see if it has what it needs in CRDS_PATH and anything it doesn't have will be downloaded from the STScI cache. \n",
    "</div>\n",
    "\n",
    "<div class=\"alert alert-block alert-warning\">NOTE: Users at STScI should automatically have access to the Calibration Reference Data System (CRDS) cache for running the pipeline, and can skip setting these environment variables.</div>"
   ]
  },
  {
   "cell_type": "markdown",
   "metadata": {},
   "source": [
    "[Top of Notebook](#top)"
   ]
  },
  {
   "cell_type": "markdown",
   "metadata": {},
   "source": [
    "<a id='imports'></a>\n",
    "## Imports"
   ]
  },
  {
   "cell_type": "markdown",
   "metadata": {},
   "source": [
    "Import packages necessary for this notebook"
   ]
  },
  {
   "cell_type": "code",
   "execution_count": 1,
   "metadata": {},
   "outputs": [],
   "source": [
    "# Packages that allow us to get information about objects:\n",
    "import asdf\n",
    "import copy\n",
    "import os\n",
    "import shutil\n",
    "\n",
    "# Numpy library:\n",
    "import numpy as np\n",
    "\n",
    "# For downloading data\n",
    "import requests\n",
    "\n",
    "# Astropy tools:\n",
    "from astropy.io import fits\n",
    "from astropy.utils.data import download_file\n",
    "from astropy.visualization import ImageNormalize, ManualInterval, LogStretch"
   ]
  },
  {
   "cell_type": "markdown",
   "metadata": {},
   "source": [
    "Set up matplotlib for plotting"
   ]
  },
  {
   "cell_type": "code",
   "execution_count": 2,
   "metadata": {},
   "outputs": [],
   "source": [
    "import matplotlib.pyplot as plt\n",
    "import matplotlib as mpl\n",
    "\n",
    "# Use this version for non-interactive plots (easier scrolling of the notebook)\n",
    "%matplotlib inline\n",
    "\n",
    "# Use this version (outside of Jupyter Lab) if you want interactive plots\n",
    "#%matplotlib notebook\n",
    "\n",
    "# These gymnastics are needed to make the sizes of the figures\n",
    "# be the same in both the inline and notebook versions\n",
    "%config InlineBackend.print_figure_kwargs = {'bbox_inches': None}\n",
    "\n",
    "mpl.rcParams['savefig.dpi'] = 80\n",
    "mpl.rcParams['figure.dpi'] = 80"
   ]
  },
  {
   "cell_type": "markdown",
   "metadata": {},
   "source": [
    "Import JWST pipeline-related modules"
   ]
  },
  {
   "cell_type": "code",
   "execution_count": 35,
   "metadata": {},
   "outputs": [
    {
     "name": "stderr",
     "output_type": "stream",
     "text": [
      "2021-05-21 15:52:50,224 - stpipe - WARNING - /Users/pena/anaconda3/envs/pipedev/lib/python3.9/site-packages/ipykernel/ipkernel.py:283: DeprecationWarning: `should_run_async` will not call `transform_cell` automatically in the future. Please pass the result to `transformed_cell` argument and any exception that happen during thetransform in `preprocessing_exc_tuple` in IPython 7.17 and above.\n",
      "  and should_run_async(code)\n",
      "\n"
     ]
    }
   ],
   "source": [
    "# List of possible data quality flags\n",
    "from jwst.datamodels import dqflags\n",
    "\n",
    "# The entire calwebb_spec2 pipeline\n",
    "from jwst.pipeline.calwebb_spec2 import Spec2Pipeline\n",
    "\n",
    "# Individual steps that make up calwebb_spec2 and datamodels\n",
    "from jwst import datamodels\n",
    "from gwcs import wcstools\n",
    "from jwst.assign_wcs.assign_wcs_step import AssignWcsStep\n",
    "from jwst.background.background_step import BackgroundStep\n",
    "from jwst.imprint.imprint_step import ImprintStep\n",
    "from jwst.msaflagopen.msaflagopen_step import MSAFlagOpenStep\n",
    "from jwst.extract_2d.extract_2d_step import Extract2dStep\n",
    "from jwst.srctype.srctype_step import SourceTypeStep\n",
    "from jwst.master_background.master_background_step import MasterBackgroundStep\n",
    "from jwst.wavecorr.wavecorr_step import WavecorrStep\n",
    "from jwst.flatfield.flat_field_step import FlatFieldStep\n",
    "from jwst.straylight.straylight_step import StraylightStep\n",
    "from jwst.fringe.fringe_step import FringeStep\n",
    "from jwst.pathloss.pathloss_step import PathLossStep\n",
    "from jwst.barshadow.barshadow_step import BarShadowStep\n",
    "from jwst.photom.photom_step import PhotomStep\n",
    "from jwst.resample import ResampleSpecStep\n",
    "from jwst.cube_build.cube_build_step import CubeBuildStep\n",
    "from jwst.extract_1d.extract_1d_step import Extract1dStep"
   ]
  },
  {
   "cell_type": "markdown",
   "metadata": {},
   "source": [
    "Check which version of the pipeline we are running:"
   ]
  },
  {
   "cell_type": "code",
   "execution_count": 4,
   "metadata": {},
   "outputs": [
    {
     "name": "stdout",
     "output_type": "stream",
     "text": [
      "1.1.1.dev92+ged5a6eae\n"
     ]
    }
   ],
   "source": [
    "import jwst\n",
    "print(jwst.__version__)"
   ]
  },
  {
   "cell_type": "markdown",
   "metadata": {},
   "source": [
    "<a id='convenience_functions'></a>\n",
    "## Define convenience functions and parameters"
   ]
  },
  {
   "cell_type": "markdown",
   "metadata": {},
   "source": [
    "Here we define some functions and some parameters that we will use repeatedly throughout the notebook."
   ]
  },
  {
   "cell_type": "code",
   "execution_count": 6,
   "metadata": {},
   "outputs": [],
   "source": [
    "# To make everything easier, all files saved by the pipeline\n",
    "# and pipeline steps will be saved to the working directory.\n",
    "# This is important for the level 2 and 3 pipelines\n",
    "# once we are working with association files.\n",
    "output_dir = './'"
   ]
  },
  {
   "cell_type": "code",
   "execution_count": 7,
   "metadata": {},
   "outputs": [],
   "source": [
    "# Make sure the output directory exists before downloading any data\n",
    "if not os.path.exists(output_dir):\n",
    "    os.makedirs(output_dir)"
   ]
  },
  {
   "cell_type": "code",
   "execution_count": null,
   "metadata": {},
   "outputs": [],
   "source": [
    "def download_files(files, output_directory):\n",
    "    \"\"\"Given a tuple or list of tuples containing (URL, filename),\n",
    "    download the given files into the current working directory.\n",
    "    Downloading is done via astropy's download_file. A symbolic link\n",
    "    is created in the specified output dirctory that points to the\n",
    "    downloaded file.\n",
    "    \n",
    "    Parameters\n",
    "    ----------\n",
    "    files : tuple or list of tuples\n",
    "        Each 2-tuple should contain (URL, filename), where\n",
    "        URL is the URL from which to download the file, and\n",
    "        filename will be the name of the symlink pointing to\n",
    "        the downloaded file.\n",
    "        \n",
    "    output_directory : str\n",
    "        Name of the directory in which to create the symbolic\n",
    "        links to the downloaded files\n",
    "                \n",
    "    Returns\n",
    "    -------\n",
    "    filenames : list\n",
    "        List of filenames corresponding to the symbolic links\n",
    "        of the downloaded files\n",
    "    \"\"\"\n",
    "    # In the case of a single input tuple, make it a\n",
    "    # 1 element list, for consistency.\n",
    "    filenames = []\n",
    "    if isinstance(files, tuple):\n",
    "        files = [files]\n",
    "        \n",
    "    for file in files:\n",
    "        filenames.append(file[1])\n",
    "        if not os.path.isfile(os.path.join(output_directory, file[1])):\n",
    "            print('Downloading {}...'.format(file[1]))\n",
    "            demo_file = download_file(file[0], cache=True)\n",
    "            # Make a symbolic link using a local name for convenience\n",
    "            os.symlink(demo_file, os.path.join(output_directory, file[1]))\n",
    "        else:\n",
    "            print('{} already exists, skipping download...'.format(file[1]))\n",
    "            continue\n",
    "    return filenames"
   ]
  },
  {
   "cell_type": "markdown",
   "metadata": {},
   "source": [
    "[Top of Notebook](#top)"
   ]
  },
  {
   "cell_type": "markdown",
   "metadata": {},
   "source": [
    "<a id='download_data'></a>\n",
    "## Download Data"
   ]
  },
  {
   "cell_type": "markdown",
   "metadata": {},
   "source": [
    "For this module, we will use an uncalibrated NIRCam simulated imaging exposure that is stored in Box. Let's grab it:"
   ]
  },
  {
   "cell_type": "code",
   "execution_count": null,
   "metadata": {
    "collapsed": true
   },
   "outputs": [],
   "source": [
    "rate_info = ('https://stsci.box.com/shared/static/j46wpyirlbqo30e7c9719ycnuc1qk2lu.fits',\n",
    "              'jw98765001001_01101_00003_nrcb5_uncal.fits')\n",
    "rate_file = download_files(uncal_info, output_dir)[0]"
   ]
  },
  {
   "cell_type": "code",
   "execution_count": null,
   "metadata": {},
   "outputs": [],
   "source": [
    "# Download example parameter reference files\n",
    "param_info = [('https://stsci.box.com/shared/static/nmaipgvlferrz95eyksra4zmlhx2m5bm.asdf',\n",
    "               'detector1pipeline_modified_paramfile.asdf'),\n",
    "              ('https://stsci.box.com/shared/static/kww0o8d77h2u03b38gtdr34g8vqygx8w.asdf',\n",
    "               'refpix_paramfile.asdf'),\n",
    "              ('https://stsci.box.com/shared/static/c95paaz9gsvrwwo3slx8k9qav242idi1.asdf',\n",
    "               'refpix_no_side_pix_paramfile.asdf')]\n",
    "detector1_param_reffile, refpix_param_reffile, refpix_param_reffile_no_side_pix = \\\n",
    "    download_files(param_info, output_dir)"
   ]
  },
  {
   "cell_type": "markdown",
   "metadata": {},
   "source": [
    "<a id='calling_methods'></a>\n",
    "## Methods for calling steps/pipelines"
   ]
  },
  {
   "cell_type": "markdown",
   "metadata": {},
   "source": [
    "There are three common methods by which the pipeline or pipeline steps can be called. From within python, the `run()` and `call()` methods of the pipeline or step classes can be used. Alternatively, the `strun` command can be used from the command line. Within this notebook, in the section where we [call the entire pipeline](#detector1_at_once), as well as the section where we [call the Reference Pixel Subtraction](#refpix) step, we show examples of all three methods. For the remainder of the pipeline steps, we will focus on using the `run()` method.\n",
    "\n",
    "When using the `call()` method or `strun`, optional input parameters can be specified via [parameter reference files](#parameter_reffiles). When using the `run()` method, these parameters are instead specified within python."
   ]
  },
  {
   "cell_type": "markdown",
   "metadata": {},
   "source": [
    "<a id='parameter_reffiles'></a>\n",
    "## Parameter Reference Files"
   ]
  },
  {
   "cell_type": "markdown",
   "metadata": {},
   "source": [
    "When calling a pipeline or pipeline step using the `call()` method or the command line, [parameter reference files](https://jwst-pipeline.readthedocs.io/en/stable/jwst/stpipe/config_asdf.html#config-asdf-files) can be used to specify values for input parameters. These reference files are in [asdf](https://asdf.readthedocs.io/en/stable/) format and appear somewhat similar to json files when examined in a text editor. \n",
    "\n",
    "Versions of parameter reference files containing default parameter values for each step and pipeline are available in CRDS. When using the `call()` method, if you do not specify a parameter reference file name in the call, the pipeline or step will retrieve and use the appropriate file from CRDS, which will then run the pipeline or step with the parameter values in that file. If you provide the name of a parameter reference file, then the parameter values in that file will take precedence. For any parameter not specified in your parameter reference file, the pipeline will use the default value.\n",
    "\n",
    "When using `strun`, the parameter reference file is a required input."
   ]
  },
  {
   "cell_type": "code",
   "execution_count": null,
   "metadata": {},
   "outputs": [],
   "source": [
    "# Don't forget to close the file\n"
   ]
  },
  {
   "cell_type": "markdown",
   "metadata": {},
   "source": [
    "The top part of the file contains various metadata entries about the file itself. Below that, you'll see a `'name'` entry, which lists `Detector1Pipeline` as the class to which these parameters apply. The next line contains the `parameters` entry, which lists parameters and values attached to the pipeline itself. Below this is the `steps` entry, which contains a list of dictionaries. Each dictionary refers to one step within the pipeline, and specifies parameters and values that apply to that step. If you look through these entries, you'll see the same parameters and values that we specified manually when using the `run()` method above."
   ]
  },
  {
   "cell_type": "markdown",
   "metadata": {},
   "source": [
    "[Top of Notebook](#top)"
   ]
  },
  {
   "cell_type": "markdown",
   "metadata": {},
   "source": [
    "---\n",
    "<a id='spec2'></a>\n",
    "## The calwebb_spec2 pipeline: count rate files"
   ]
  },
  {
   "cell_type": "markdown",
   "metadata": {},
   "source": [
    "In the sections below, we will run the Stage 2 pipeline on a single rate XXXX file. We will first call the entire [*calwebb_spec2* pipeline](https://jwst-pipeline.readthedocs.io/en/latest/jwst/pipeline/calwebb_spec2.html#calwebb-spec2) on the file. The pipeline is a wrapper which will string together all of the appropriate steps in the proper order. \n",
    "\n",
    "The final output from this call is an calibrated exposure image which is ready to go into the Stage 3 pipeline. In Stage 2 the flux calibration will be applied, at which point the data will be in physical units (e.g. MJy/str).\n",
    "\n",
    "See [Figure 1](https://jwst-docs.stsci.edu/jwst-data-reduction-pipeline/stages-of-processing/calwebb_spec2) on the calwebb_spec2 algorithm page for a map of which steps are performed on NIR data and which are used for MIRI data."
   ]
  },
  {
   "cell_type": "code",
   "execution_count": 20,
   "metadata": {},
   "outputs": [],
   "source": [
    "input_file_base = os.path.basename(rate_file).replace('rate.fits', '')"
   ]
  },
  {
   "cell_type": "code",
   "execution_count": 15,
   "metadata": {},
   "outputs": [],
   "source": [
    "rate_file = '/Users/pena/Documents/PyCharmProjects/nirspec/pipeline/testing_data/FS_FULL_FRAME/G140M_opaque/fs_fullframe_g140m_f100lp_NRS1_rate.fits'"
   ]
  },
  {
   "cell_type": "markdown",
   "metadata": {},
   "source": [
    "<a id='spec2_at_once'></a>\n",
    "### Run the entire `calwebb_spec2` pipeline\n",
    "\n",
    "In this section we show how to run the entire calwebb_spec2 pipeline with a single call. In this case the pipeline code can determine which instrument was used to collect the data and runs the appropriate steps in the proper order.\n",
    "\n",
    "We set parameter values for some of the individual steps, save some outputs, etc, and then call the pipeline.\n",
    "\n",
    "We will call the pipeline using the `run()` method and while that is running, we will go over the equivalent `call()` and `strun` commands, examine some of the pipeline log entries that are printed to the screen, and then look at the pipeline output."
   ]
  },
  {
   "cell_type": "markdown",
   "metadata": {},
   "source": [
    "<a id='run_method'></a>\n",
    "#### Call the pipeline using the run() method"
   ]
  },
  {
   "cell_type": "markdown",
   "metadata": {},
   "source": [
    "When using the `run()` method to execute a pipeline (or step), the pipeline class is first instantiated without the data to be processed. Optional input parameters are specified using attributes of the class instance. Finally, the call to the `run()` method is made and the data are supplied.  See here for [more examples of the run() method](https://jwst-pipeline.readthedocs.io/en/stable/jwst/stpipe/call_via_run.html)."
   ]
  },
  {
   "cell_type": "markdown",
   "metadata": {},
   "source": [
    "The `run()` method does not take any kind of parameter reference file as input. If you wish to set values for various parameters, you must do that manually. Below, we set several parameters in order to show how it's done. \n",
    "\n",
    "How do you know what parameters are available to be set and what their default values are? The `spec` property for individual steps will list them. The property is less useful for the pipelines themselves, as it does not show the parameters for the steps comprising the pipeline.\n",
    "\n",
    "All steps and pipelines have several common parameters that can be set. \n",
    "\n",
    "* `save_results` specifies whether or not to save the output of that step/pipeline to a file. The default is False.\n",
    "* `output_dir` is the directory into which the output files will be saved.\n",
    "* `output_file` is the base filename to use for the saved result. Note that each step/pipeline will add a custom suffix onto output_file. "
   ]
  },
  {
   "cell_type": "markdown",
   "metadata": {},
   "source": [
    "<a id='detector1_using_run'></a>\n",
    "\n",
    "<div class=\"alert alert-block alert-info\">\n",
    "Finally, let's run the pipeline. The output can be a little overwhelming. There will be multiple log entries printed to the screen for each step.\n",
    "</div>"
   ]
  },
  {
   "cell_type": "code",
   "execution_count": 16,
   "metadata": {
    "scrolled": true
   },
   "outputs": [
    {
     "name": "stderr",
     "output_type": "stream",
     "text": [
      "2021-05-21 14:48:54,413 - stpipe.Spec2Pipeline - INFO - Spec2Pipeline instance created.\n",
      "2021-05-21 14:48:54,416 - stpipe.Spec2Pipeline.bkg_subtract - INFO - BackgroundStep instance created.\n",
      "2021-05-21 14:48:54,418 - stpipe.Spec2Pipeline.assign_wcs - INFO - AssignWcsStep instance created.\n",
      "2021-05-21 14:48:54,419 - stpipe.Spec2Pipeline.imprint_subtract - INFO - ImprintStep instance created.\n",
      "2021-05-21 14:48:54,420 - stpipe.Spec2Pipeline.msa_flagging - INFO - MSAFlagOpenStep instance created.\n",
      "2021-05-21 14:48:54,422 - stpipe.Spec2Pipeline.extract_2d - INFO - Extract2dStep instance created.\n",
      "2021-05-21 14:48:54,426 - stpipe.Spec2Pipeline.master_background - INFO - MasterBackgroundNrsSlitsStep instance created.\n",
      "2021-05-21 14:48:54,427 - stpipe.Spec2Pipeline.master_background.flat_field - INFO - FlatFieldStep instance created.\n",
      "2021-05-21 14:48:54,429 - stpipe.Spec2Pipeline.master_background.pathloss - INFO - PathLossStep instance created.\n",
      "2021-05-21 14:48:54,431 - stpipe.Spec2Pipeline.master_background.barshadow - INFO - BarShadowStep instance created.\n",
      "2021-05-21 14:48:54,432 - stpipe.Spec2Pipeline.master_background.photom - INFO - PhotomStep instance created.\n",
      "2021-05-21 14:48:54,434 - stpipe.Spec2Pipeline.wavecorr - INFO - WavecorrStep instance created.\n",
      "2021-05-21 14:48:54,435 - stpipe.Spec2Pipeline.flat_field - INFO - FlatFieldStep instance created.\n",
      "2021-05-21 14:48:54,436 - stpipe.Spec2Pipeline.srctype - INFO - SourceTypeStep instance created.\n",
      "2021-05-21 14:48:54,439 - stpipe.Spec2Pipeline.straylight - INFO - StraylightStep instance created.\n",
      "2021-05-21 14:48:54,440 - stpipe.Spec2Pipeline.fringe - INFO - FringeStep instance created.\n",
      "2021-05-21 14:48:54,441 - stpipe.Spec2Pipeline.pathloss - INFO - PathLossStep instance created.\n",
      "2021-05-21 14:48:54,443 - stpipe.Spec2Pipeline.barshadow - INFO - BarShadowStep instance created.\n",
      "2021-05-21 14:48:54,444 - stpipe.Spec2Pipeline.photom - INFO - PhotomStep instance created.\n",
      "2021-05-21 14:48:54,447 - stpipe.Spec2Pipeline.resample_spec - INFO - ResampleSpecStep instance created.\n",
      "2021-05-21 14:48:54,450 - stpipe.Spec2Pipeline.cube_build - INFO - CubeBuildStep instance created.\n",
      "2021-05-21 14:48:54,452 - stpipe.Spec2Pipeline.extract_1d - INFO - Extract1dStep instance created.\n",
      "2021-05-21 14:48:54,506 - stpipe.Spec2Pipeline - INFO - Step Spec2Pipeline running with args ('/Users/pena/Documents/PyCharmProjects/nirspec/pipeline/testing_data/FS_FULL_FRAME/G140M_opaque/fs_fullframe_g140m_f100lp_NRS1_rate.fits',).\n",
      "2021-05-21 14:48:54,529 - stpipe.Spec2Pipeline - INFO - Step Spec2Pipeline parameters are: {'pre_hooks': [], 'post_hooks': [], 'output_file': None, 'output_dir': '/Users/pena/Documents/NIRSpec_projects/jwebbinars/output_spec_modules', 'output_ext': '.fits', 'output_use_model': False, 'output_use_index': True, 'save_results': True, 'skip': False, 'suffix': None, 'search_output_file': True, 'input_dir': '', 'save_bsub': False, 'fail_on_exception': True, 'steps': {'bkg_subtract': {'pre_hooks': [], 'post_hooks': [], 'output_file': None, 'output_dir': None, 'output_ext': '.fits', 'output_use_model': False, 'output_use_index': True, 'save_results': False, 'skip': False, 'suffix': None, 'search_output_file': True, 'input_dir': '', 'save_combined_background': False, 'sigma': 3.0, 'maxiters': None}, 'assign_wcs': {'pre_hooks': [], 'post_hooks': [], 'output_file': None, 'output_dir': None, 'output_ext': '.fits', 'output_use_model': False, 'output_use_index': True, 'save_results': False, 'skip': False, 'suffix': None, 'search_output_file': True, 'input_dir': '', 'sip_approx': True, 'sip_max_pix_error': 0.25, 'sip_degree': None, 'sip_max_inv_pix_error': 0.25, 'sip_inv_degree': None, 'sip_npoints': 32, 'slit_y_low': -0.55, 'slit_y_high': 0.55}, 'imprint_subtract': {'pre_hooks': [], 'post_hooks': [], 'output_file': None, 'output_dir': None, 'output_ext': '.fits', 'output_use_model': False, 'output_use_index': True, 'save_results': False, 'skip': False, 'suffix': None, 'search_output_file': True, 'input_dir': ''}, 'msa_flagging': {'pre_hooks': [], 'post_hooks': [], 'output_file': None, 'output_dir': None, 'output_ext': '.fits', 'output_use_model': False, 'output_use_index': True, 'save_results': False, 'skip': False, 'suffix': None, 'search_output_file': True, 'input_dir': ''}, 'extract_2d': {'pre_hooks': [], 'post_hooks': [], 'output_file': None, 'output_dir': None, 'output_ext': '.fits', 'output_use_model': False, 'output_use_index': True, 'save_results': False, 'skip': False, 'suffix': None, 'search_output_file': True, 'input_dir': '', 'slit_name': None, 'extract_orders': None, 'tsgrism_extract_height': None, 'wfss_extract_half_height': 5, 'grism_objects': None, 'mmag_extract': 99.0}, 'master_background': {'pre_hooks': [], 'post_hooks': [], 'output_file': None, 'output_dir': None, 'output_ext': '.fits', 'output_use_model': True, 'output_use_index': True, 'save_results': False, 'skip': False, 'suffix': None, 'search_output_file': True, 'input_dir': '', 'force_subtract': False, 'save_background': False, 'user_background': None, 'inverse': False, 'steps': {'flat_field': {'pre_hooks': [], 'post_hooks': [], 'output_file': None, 'output_dir': None, 'output_ext': '.fits', 'output_use_model': False, 'output_use_index': True, 'save_results': False, 'skip': False, 'suffix': None, 'search_output_file': True, 'input_dir': '', 'save_interpolated_flat': False, 'user_supplied_flat': None, 'inverse': False}, 'pathloss': {'pre_hooks': [], 'post_hooks': [], 'output_file': None, 'output_dir': None, 'output_ext': '.fits', 'output_use_model': False, 'output_use_index': True, 'save_results': False, 'skip': False, 'suffix': None, 'search_output_file': True, 'input_dir': '', 'inverse': False, 'source_type': None}, 'barshadow': {'pre_hooks': [], 'post_hooks': [], 'output_file': None, 'output_dir': None, 'output_ext': '.fits', 'output_use_model': False, 'output_use_index': True, 'save_results': False, 'skip': False, 'suffix': None, 'search_output_file': True, 'input_dir': '', 'inverse': False, 'source_type': None}, 'photom': {'pre_hooks': [], 'post_hooks': [], 'output_file': None, 'output_dir': None, 'output_ext': '.fits', 'output_use_model': False, 'output_use_index': True, 'save_results': False, 'skip': False, 'suffix': None, 'search_output_file': True, 'input_dir': '', 'inverse': False, 'source_type': None}}}, 'wavecorr': {'pre_hooks': [], 'post_hooks': [], 'output_file': None, 'output_dir': None, 'output_ext': '.fits', 'output_use_model': False, 'output_use_index': True, 'save_results': False, 'skip': False, 'suffix': None, 'search_output_file': True, 'input_dir': ''}, 'flat_field': {'pre_hooks': [], 'post_hooks': [], 'output_file': None, 'output_dir': None, 'output_ext': '.fits', 'output_use_model': False, 'output_use_index': True, 'save_results': False, 'skip': False, 'suffix': None, 'search_output_file': True, 'input_dir': '', 'save_interpolated_flat': False, 'user_supplied_flat': None, 'inverse': False}, 'srctype': {'pre_hooks': [], 'post_hooks': [], 'output_file': None, 'output_dir': None, 'output_ext': '.fits', 'output_use_model': False, 'output_use_index': True, 'save_results': False, 'skip': False, 'suffix': None, 'search_output_file': True, 'input_dir': ''}, 'straylight': {'pre_hooks': [], 'post_hooks': [], 'output_file': None, 'output_dir': None, 'output_ext': '.fits', 'output_use_model': False, 'output_use_index': True, 'save_results': False, 'skip': False, 'suffix': None, 'search_output_file': True, 'input_dir': '', 'method': 'ModShepard', 'roi': 50, 'power': 1.0}, 'fringe': {'pre_hooks': [], 'post_hooks': [], 'output_file': None, 'output_dir': None, 'output_ext': '.fits', 'output_use_model': False, 'output_use_index': True, 'save_results': False, 'skip': False, 'suffix': None, 'search_output_file': True, 'input_dir': ''}, 'pathloss': {'pre_hooks': [], 'post_hooks': [], 'output_file': None, 'output_dir': None, 'output_ext': '.fits', 'output_use_model': False, 'output_use_index': True, 'save_results': False, 'skip': False, 'suffix': None, 'search_output_file': True, 'input_dir': '', 'inverse': False, 'source_type': None}, 'barshadow': {'pre_hooks': [], 'post_hooks': [], 'output_file': None, 'output_dir': None, 'output_ext': '.fits', 'output_use_model': False, 'output_use_index': True, 'save_results': False, 'skip': False, 'suffix': None, 'search_output_file': True, 'input_dir': '', 'inverse': False, 'source_type': None}, 'photom': {'pre_hooks': [], 'post_hooks': [], 'output_file': None, 'output_dir': None, 'output_ext': '.fits', 'output_use_model': False, 'output_use_index': True, 'save_results': False, 'skip': False, 'suffix': None, 'search_output_file': True, 'input_dir': '', 'inverse': False, 'source_type': None}, 'resample_spec': {'pre_hooks': [], 'post_hooks': [], 'output_file': None, 'output_dir': None, 'output_ext': '.fits', 'output_use_model': False, 'output_use_index': True, 'save_results': False, 'skip': False, 'suffix': None, 'search_output_file': True, 'input_dir': '', 'pixfrac': 1.0, 'kernel': 'square', 'fillval': 'INDEF', 'weight_type': 'ivm', 'pixel_scale_ratio': 1.0, 'single': False, 'blendheaders': True, 'allowed_memory': None}, 'cube_build': {'pre_hooks': [], 'post_hooks': [], 'output_file': None, 'output_dir': None, 'output_ext': '.fits', 'output_use_model': True, 'output_use_index': True, 'save_results': False, 'skip': False, 'suffix': None, 'search_output_file': False, 'input_dir': '', 'channel': 'all', 'band': 'all', 'grating': 'all', 'filter': 'all', 'output_type': 'band', 'scale1': 0.0, 'scale2': 0.0, 'scalew': 0.0, 'weighting': 'emsm', 'coord_system': 'skyalign', 'rois': 0.0, 'roiw': 0.0, 'weight_power': 2.0, 'wavemin': None, 'wavemax': None, 'single': False, 'xdebug': None, 'ydebug': None, 'zdebug': None, 'skip_dqflagging': False}, 'extract_1d': {'pre_hooks': [], 'post_hooks': [], 'output_file': None, 'output_dir': None, 'output_ext': '.fits', 'output_use_model': False, 'output_use_index': True, 'save_results': False, 'skip': False, 'suffix': None, 'search_output_file': True, 'input_dir': '', 'smoothing_length': None, 'bkg_fit': 'poly', 'bkg_order': None, 'bkg_sigma_clip': 3.0, 'log_increment': 50, 'subtract_background': None, 'use_source_posn': None, 'apply_apcorr': True}}}\n"
     ]
    },
    {
     "name": "stderr",
     "output_type": "stream",
     "text": [
      "2021-05-21 14:48:55,078 - stpipe.Spec2Pipeline - WARNING - /Users/pena/anaconda3/envs/pipedev/lib/python3.9/site-packages/stdatamodels/validate.py:34: ValidationWarning: While validating meta.wcsinfo.spectral_order the following error occurred:\n",
      "1.0 is not of type 'integer'\n",
      "\n",
      "Failed validating 'type' in schema:\n",
      "    OrderedDict([('title', 'Spectral order number'),\n",
      "                 ('type', 'integer'),\n",
      "                 ('fits_keyword', 'SPORDER'),\n",
      "                 ('fits_hdu', 'SCI'),\n",
      "                 ('blend_table', True)])\n",
      "\n",
      "On instance:\n",
      "    1.0\n",
      "  warnings.warn(errmsg, ValidationWarning)\n",
      "\n",
      "2021-05-21 14:48:55,249 - stpipe.Spec2Pipeline - INFO - Prefetching reference files for dataset: 'fs_fullframe_g140m_f100lp_NRS1_rate.fits' reftypes = ['apcorr', 'area', 'barshadow', 'camera', 'collimator', 'cubepar', 'dflat', 'disperser', 'distortion', 'drizpars', 'extract1d', 'fflat', 'filteroffset', 'flat', 'fore', 'fpa', 'fringe', 'ifufore', 'ifupost', 'ifuslicer', 'msa', 'msaoper', 'ote', 'pathloss', 'photom', 'regions', 'resol', 'sflat', 'specwcs', 'wavecorr', 'wavelengthrange', 'wfssbkg']\n",
      "2021-05-21 14:48:56,015 - CRDS - INFO -  Fetching  /Users/pena/crds_cache/mappings/jwst/jwst_niriss_pars-tweakregstep_0004.rmap    3.1 K bytes  (1 / 10 files) (0 / 66.2 K bytes)\n",
      "2021-05-21 14:48:56,147 - CRDS - INFO -  Fetching  /Users/pena/crds_cache/mappings/jwst/jwst_niriss_distortion_0018.rmap      967 bytes  (2 / 10 files) (3.1 K / 66.2 K bytes)\n",
      "2021-05-21 14:48:56,264 - CRDS - INFO -  Fetching  /Users/pena/crds_cache/mappings/jwst/jwst_niriss_0145.imap    4.8 K bytes  (3 / 10 files) (4.1 K / 66.2 K bytes)\n",
      "2021-05-21 14:48:56,391 - CRDS - INFO -  Fetching  /Users/pena/crds_cache/mappings/jwst/jwst_nircam_flat_0018.rmap   30.0 K bytes  (4 / 10 files) (8.9 K / 66.2 K bytes)\n",
      "2021-05-21 14:48:56,523 - CRDS - INFO -  Fetching  /Users/pena/crds_cache/mappings/jwst/jwst_nircam_extract1d_0003.rmap      791 bytes  (5 / 10 files) (38.8 K / 66.2 K bytes)\n",
      "2021-05-21 14:48:56,637 - CRDS - INFO -  Fetching  /Users/pena/crds_cache/mappings/jwst/jwst_nircam_dark_0024.rmap   15.3 K bytes  (6 / 10 files) (39.6 K / 66.2 K bytes)\n",
      "2021-05-21 14:48:56,787 - CRDS - INFO -  Fetching  /Users/pena/crds_cache/mappings/jwst/jwst_nircam_0160.imap    4.8 K bytes  (7 / 10 files) (55.0 K / 66.2 K bytes)\n",
      "2021-05-21 14:48:56,902 - CRDS - INFO -  Fetching  /Users/pena/crds_cache/mappings/jwst/jwst_miri_extract1d_0014.rmap    1.1 K bytes  (8 / 10 files) (59.8 K / 66.2 K bytes)\n",
      "2021-05-21 14:48:57,015 - CRDS - INFO -  Fetching  /Users/pena/crds_cache/mappings/jwst/jwst_miri_0236.imap    4.8 K bytes  (9 / 10 files) (60.8 K / 66.2 K bytes)\n",
      "2021-05-21 14:48:57,133 - CRDS - INFO -  Fetching  /Users/pena/crds_cache/mappings/jwst/jwst_0723.pmap          580 bytes  (10 / 10 files) (65.6 K / 66.2 K bytes)\n",
      "2021-05-21 14:48:57,574 - stpipe.Spec2Pipeline - INFO - Prefetch for APCORR reference file is '/Users/pena/crds_cache/references/jwst/nirspec/jwst_nirspec_apcorr_0003.fits'.\n",
      "2021-05-21 14:48:57,575 - stpipe.Spec2Pipeline - INFO - Prefetch for AREA reference file is '/Users/pena/crds_cache/references/jwst/nirspec/jwst_nirspec_area_0024.fits'.\n",
      "2021-05-21 14:48:57,577 - stpipe.Spec2Pipeline - INFO - Prefetch for BARSHADOW reference file is 'N/A'.\n",
      "2021-05-21 14:48:57,578 - stpipe.Spec2Pipeline - INFO - Prefetch for CAMERA reference file is '/Users/pena/crds_cache/references/jwst/nirspec/jwst_nirspec_camera_0004.asdf'.\n",
      "2021-05-21 14:48:57,579 - stpipe.Spec2Pipeline - INFO - Prefetch for COLLIMATOR reference file is '/Users/pena/crds_cache/references/jwst/nirspec/jwst_nirspec_collimator_0004.asdf'.\n",
      "2021-05-21 14:48:57,580 - stpipe.Spec2Pipeline - INFO - Prefetch for CUBEPAR reference file is 'N/A'.\n",
      "2021-05-21 14:48:57,581 - stpipe.Spec2Pipeline - INFO - Prefetch for DFLAT reference file is '/Users/pena/crds_cache/references/jwst/nirspec/jwst_nirspec_dflat_0001.fits'.\n",
      "2021-05-21 14:48:57,582 - stpipe.Spec2Pipeline - INFO - Prefetch for DISPERSER reference file is '/Users/pena/crds_cache/references/jwst/nirspec/jwst_nirspec_disperser_0032.asdf'.\n",
      "2021-05-21 14:48:57,583 - stpipe.Spec2Pipeline - INFO - Prefetch for DISTORTION reference file is 'N/A'.\n",
      "2021-05-21 14:48:57,584 - stpipe.Spec2Pipeline - INFO - Prefetch for DRIZPARS reference file is 'N/A'.\n",
      "2021-05-21 14:48:57,585 - stpipe.Spec2Pipeline - INFO - Prefetch for EXTRACT1D reference file is '/Users/pena/crds_cache/references/jwst/nirspec/jwst_nirspec_extract1d_0004.json'.\n",
      "2021-05-21 14:48:57,587 - stpipe.Spec2Pipeline - INFO - Prefetch for FFLAT reference file is '/Users/pena/crds_cache/references/jwst/nirspec/jwst_nirspec_fflat_0014.fits'.\n",
      "2021-05-21 14:48:57,588 - stpipe.Spec2Pipeline - INFO - Prefetch for FILTEROFFSET reference file is 'N/A'.\n",
      "2021-05-21 14:48:57,589 - stpipe.Spec2Pipeline - INFO - Prefetch for FLAT reference file is 'N/A'.\n",
      "2021-05-21 14:48:57,589 - stpipe.Spec2Pipeline - INFO - Prefetch for FORE reference file is '/Users/pena/crds_cache/references/jwst/nirspec/jwst_nirspec_fore_0023.asdf'.\n",
      "2021-05-21 14:48:57,591 - stpipe.Spec2Pipeline - INFO - Prefetch for FPA reference file is '/Users/pena/crds_cache/references/jwst/nirspec/jwst_nirspec_fpa_0005.asdf'.\n",
      "2021-05-21 14:48:57,592 - stpipe.Spec2Pipeline - INFO - Prefetch for FRINGE reference file is 'N/A'.\n",
      "2021-05-21 14:48:57,593 - stpipe.Spec2Pipeline - INFO - Prefetch for IFUFORE reference file is 'N/A'.\n",
      "2021-05-21 14:48:57,593 - stpipe.Spec2Pipeline - INFO - Prefetch for IFUPOST reference file is 'N/A'.\n",
      "2021-05-21 14:48:57,594 - stpipe.Spec2Pipeline - INFO - Prefetch for IFUSLICER reference file is 'N/A'.\n",
      "2021-05-21 14:48:57,594 - stpipe.Spec2Pipeline - INFO - Prefetch for MSA reference file is '/Users/pena/crds_cache/references/jwst/nirspec/jwst_nirspec_msa_0005.asdf'.\n",
      "2021-05-21 14:48:57,596 - stpipe.Spec2Pipeline - INFO - Prefetch for MSAOPER reference file is '/Users/pena/crds_cache/references/jwst/nirspec/jwst_nirspec_msaoper_0001.json'.\n",
      "2021-05-21 14:48:57,598 - stpipe.Spec2Pipeline - INFO - Prefetch for OTE reference file is '/Users/pena/crds_cache/references/jwst/nirspec/jwst_nirspec_ote_0005.asdf'.\n",
      "2021-05-21 14:48:57,600 - stpipe.Spec2Pipeline - INFO - Prefetch for PATHLOSS reference file is '/Users/pena/crds_cache/references/jwst/nirspec/jwst_nirspec_pathloss_0001.fits'.\n",
      "2021-05-21 14:48:57,601 - stpipe.Spec2Pipeline - INFO - Prefetch for PHOTOM reference file is '/Users/pena/crds_cache/references/jwst/nirspec/jwst_nirspec_photom_0014.fits'.\n",
      "2021-05-21 14:48:57,604 - stpipe.Spec2Pipeline - INFO - Prefetch for REGIONS reference file is 'N/A'.\n",
      "2021-05-21 14:48:57,605 - stpipe.Spec2Pipeline - INFO - Prefetch for RESOL reference file is 'N/A'.\n",
      "2021-05-21 14:48:57,605 - stpipe.Spec2Pipeline - INFO - Prefetch for SFLAT reference file is '/Users/pena/crds_cache/references/jwst/nirspec/jwst_nirspec_sflat_0019.fits'.\n",
      "2021-05-21 14:48:57,607 - stpipe.Spec2Pipeline - INFO - Prefetch for SPECWCS reference file is 'N/A'.\n",
      "2021-05-21 14:48:57,608 - stpipe.Spec2Pipeline - INFO - Prefetch for WAVECORR reference file is '/Users/pena/crds_cache/references/jwst/nirspec/jwst_nirspec_wavecorr_0001.asdf'.\n",
      "2021-05-21 14:48:57,609 - stpipe.Spec2Pipeline - INFO - Prefetch for WAVELENGTHRANGE reference file is '/Users/pena/crds_cache/references/jwst/nirspec/jwst_nirspec_wavelengthrange_0004.asdf'.\n",
      "2021-05-21 14:48:57,611 - stpipe.Spec2Pipeline - INFO - Prefetch for WFSSBKG reference file is 'N/A'.\n",
      "2021-05-21 14:48:57,612 - stpipe.Spec2Pipeline - INFO - Starting calwebb_spec2 ...\n",
      "2021-05-21 14:48:57,613 - stpipe.Spec2Pipeline - INFO - Processing product /Users/pena/Documents/PyCharmProjects/nirspec/pipeline/testing_data/FS_FULL_FRAME/G140M_opaque/fs_fullframe_g140m_f100lp_NRS1\n",
      "2021-05-21 14:48:57,614 - stpipe.Spec2Pipeline - INFO - Working on input /Users/pena/Documents/PyCharmProjects/nirspec/pipeline/testing_data/FS_FULL_FRAME/G140M_opaque/fs_fullframe_g140m_f100lp_NRS1_rate.fits ...\n",
      "2021-05-21 14:48:57,919 - stpipe.Spec2Pipeline.assign_wcs - INFO - Step assign_wcs running with args (<ImageModel(2048, 2048) from fs_fullframe_g140m_f100lp_NRS1_rate.fits>,).\n",
      "2021-05-21 14:48:57,922 - stpipe.Spec2Pipeline.assign_wcs - INFO - Step assign_wcs parameters are: {'pre_hooks': [], 'post_hooks': [], 'output_file': None, 'output_dir': None, 'output_ext': '.fits', 'output_use_model': False, 'output_use_index': True, 'save_results': False, 'skip': False, 'suffix': None, 'search_output_file': True, 'input_dir': '/Users/pena/Documents/PyCharmProjects/nirspec/pipeline/testing_data/FS_FULL_FRAME/G140M_opaque', 'sip_approx': True, 'sip_max_pix_error': 0.25, 'sip_degree': None, 'sip_max_inv_pix_error': 0.25, 'sip_inv_degree': None, 'sip_npoints': 32, 'slit_y_low': -0.55, 'slit_y_high': 0.55}\n"
     ]
    },
    {
     "name": "stderr",
     "output_type": "stream",
     "text": [
      "2021-05-21 14:48:58,154 - stpipe.Spec2Pipeline.assign_wcs - INFO - gwa_ytilt is 0.1260581910610199 deg\n",
      "2021-05-21 14:48:58,155 - stpipe.Spec2Pipeline.assign_wcs - INFO - gwa_xtilt is 0.3316612243652344 deg\n",
      "2021-05-21 14:48:58,156 - stpipe.Spec2Pipeline.assign_wcs - INFO - theta_y correction: 0.0002496099796717191 deg\n",
      "2021-05-21 14:48:58,157 - stpipe.Spec2Pipeline.assign_wcs - INFO - theta_x correction: 0.0 deg\n",
      "2021-05-21 14:48:58,711 - stpipe.Spec2Pipeline.assign_wcs - INFO - Removing slit S200B1 from the list of open slits because the WCS bounding_box is completely outside the detector.\n",
      "2021-05-21 14:48:58,712 - stpipe.Spec2Pipeline.assign_wcs - INFO - Slits projected on detector NRS1: ['S200A1', 'S200A2', 'S400A1', 'S1600A1']\n",
      "2021-05-21 14:48:58,713 - stpipe.Spec2Pipeline.assign_wcs - INFO - Computing WCS for 4 open slitlets\n",
      "2021-05-21 14:48:58,732 - stpipe.Spec2Pipeline.assign_wcs - INFO - gwa_ytilt is 0.1260581910610199 deg\n",
      "2021-05-21 14:48:58,733 - stpipe.Spec2Pipeline.assign_wcs - INFO - gwa_xtilt is 0.3316612243652344 deg\n",
      "2021-05-21 14:48:58,734 - stpipe.Spec2Pipeline.assign_wcs - INFO - theta_y correction: 0.0002496099796717191 deg\n",
      "2021-05-21 14:48:58,735 - stpipe.Spec2Pipeline.assign_wcs - INFO - theta_x correction: 0.0 deg\n",
      "2021-05-21 14:48:58,747 - stpipe.Spec2Pipeline.assign_wcs - INFO - SPORDER= -1, wrange=[9.7e-07, 1.89e-06]\n",
      "2021-05-21 14:48:58,964 - stpipe.Spec2Pipeline.assign_wcs - INFO - There are 0 open slits in quadrant 1\n",
      "2021-05-21 14:48:58,964 - stpipe.Spec2Pipeline.assign_wcs - INFO - There are 0 open slits in quadrant 2\n",
      "2021-05-21 14:48:58,965 - stpipe.Spec2Pipeline.assign_wcs - INFO - There are 0 open slits in quadrant 3\n",
      "2021-05-21 14:48:58,966 - stpipe.Spec2Pipeline.assign_wcs - INFO - There are 0 open slits in quadrant 4\n",
      "2021-05-21 14:48:58,966 - stpipe.Spec2Pipeline.assign_wcs - INFO - There are 4 open slits in quadrant 5\n",
      "2021-05-21 14:48:59,288 - stpipe.Spec2Pipeline.assign_wcs - INFO - Created a NIRSPEC nrs_fixedslit pipeline with references {'distortion': None, 'filteroffset': None, 'specwcs': None, 'regions': None, 'wavelengthrange': '/Users/pena/crds_cache/references/jwst/nirspec/jwst_nirspec_wavelengthrange_0004.asdf', 'camera': '/Users/pena/crds_cache/references/jwst/nirspec/jwst_nirspec_camera_0004.asdf', 'collimator': '/Users/pena/crds_cache/references/jwst/nirspec/jwst_nirspec_collimator_0004.asdf', 'disperser': '/Users/pena/crds_cache/references/jwst/nirspec/jwst_nirspec_disperser_0032.asdf', 'fore': '/Users/pena/crds_cache/references/jwst/nirspec/jwst_nirspec_fore_0023.asdf', 'fpa': '/Users/pena/crds_cache/references/jwst/nirspec/jwst_nirspec_fpa_0005.asdf', 'msa': '/Users/pena/crds_cache/references/jwst/nirspec/jwst_nirspec_msa_0005.asdf', 'ote': '/Users/pena/crds_cache/references/jwst/nirspec/jwst_nirspec_ote_0005.asdf', 'ifupost': None, 'ifufore': None, 'ifuslicer': None}\n",
      "2021-05-21 14:48:59,516 - stpipe.Spec2Pipeline.assign_wcs - INFO - COMPLETED assign_wcs\n",
      "2021-05-21 14:48:59,520 - stpipe.Spec2Pipeline.assign_wcs - INFO - Step assign_wcs done\n",
      "2021-05-21 14:48:59,592 - stpipe.Spec2Pipeline.bkg_subtract - INFO - Step bkg_subtract running with args (<ImageModel(2048, 2048) from fs_fullframe_g140m_f100lp_NRS1_rate.fits>, []).\n",
      "2021-05-21 14:48:59,594 - stpipe.Spec2Pipeline.bkg_subtract - INFO - Step bkg_subtract parameters are: {'pre_hooks': [], 'post_hooks': [], 'output_file': None, 'output_dir': None, 'output_ext': '.fits', 'output_use_model': False, 'output_use_index': True, 'save_results': False, 'skip': True, 'suffix': None, 'search_output_file': True, 'input_dir': '/Users/pena/Documents/PyCharmProjects/nirspec/pipeline/testing_data/FS_FULL_FRAME/G140M_opaque', 'save_combined_background': False, 'sigma': 3.0, 'maxiters': None}\n",
      "2021-05-21 14:48:59,595 - stpipe.Spec2Pipeline.bkg_subtract - INFO - Step skipped.\n",
      "2021-05-21 14:48:59,596 - stpipe.Spec2Pipeline.bkg_subtract - INFO - Step bkg_subtract done\n",
      "2021-05-21 14:48:59,668 - stpipe.Spec2Pipeline.imprint_subtract - INFO - Step imprint_subtract running with args (<ImageModel(2048, 2048) from fs_fullframe_g140m_f100lp_NRS1_rate.fits>, []).\n",
      "2021-05-21 14:48:59,670 - stpipe.Spec2Pipeline.imprint_subtract - INFO - Step imprint_subtract parameters are: {'pre_hooks': [], 'post_hooks': [], 'output_file': None, 'output_dir': None, 'output_ext': '.fits', 'output_use_model': False, 'output_use_index': True, 'save_results': False, 'skip': True, 'suffix': None, 'search_output_file': True, 'input_dir': '/Users/pena/Documents/PyCharmProjects/nirspec/pipeline/testing_data/FS_FULL_FRAME/G140M_opaque'}\n",
      "2021-05-21 14:48:59,671 - stpipe.Spec2Pipeline.imprint_subtract - INFO - Step skipped.\n",
      "2021-05-21 14:48:59,672 - stpipe.Spec2Pipeline.imprint_subtract - INFO - Step imprint_subtract done\n",
      "2021-05-21 14:48:59,741 - stpipe.Spec2Pipeline.msa_flagging - INFO - Step msa_flagging running with args (<ImageModel(2048, 2048) from fs_fullframe_g140m_f100lp_NRS1_rate.fits>,).\n",
      "2021-05-21 14:48:59,742 - stpipe.Spec2Pipeline.msa_flagging - INFO - Step msa_flagging parameters are: {'pre_hooks': [], 'post_hooks': [], 'output_file': None, 'output_dir': None, 'output_ext': '.fits', 'output_use_model': False, 'output_use_index': True, 'save_results': False, 'skip': True, 'suffix': None, 'search_output_file': True, 'input_dir': '/Users/pena/Documents/PyCharmProjects/nirspec/pipeline/testing_data/FS_FULL_FRAME/G140M_opaque'}\n",
      "2021-05-21 14:48:59,743 - stpipe.Spec2Pipeline.msa_flagging - INFO - Step skipped.\n",
      "2021-05-21 14:48:59,744 - stpipe.Spec2Pipeline.msa_flagging - INFO - Step msa_flagging done\n",
      "2021-05-21 14:48:59,811 - stpipe.Spec2Pipeline.extract_2d - INFO - Step extract_2d running with args (<ImageModel(2048, 2048) from fs_fullframe_g140m_f100lp_NRS1_rate.fits>,).\n",
      "2021-05-21 14:48:59,813 - stpipe.Spec2Pipeline.extract_2d - INFO - Step extract_2d parameters are: {'pre_hooks': [], 'post_hooks': [], 'output_file': None, 'output_dir': None, 'output_ext': '.fits', 'output_use_model': False, 'output_use_index': True, 'save_results': False, 'skip': False, 'suffix': None, 'search_output_file': True, 'input_dir': '/Users/pena/Documents/PyCharmProjects/nirspec/pipeline/testing_data/FS_FULL_FRAME/G140M_opaque', 'slit_name': None, 'extract_orders': None, 'tsgrism_extract_height': None, 'wfss_extract_half_height': 5, 'grism_objects': None, 'mmag_extract': 99.0}\n",
      "2021-05-21 14:48:59,837 - stpipe.Spec2Pipeline.extract_2d - INFO - EXP_TYPE is NRS_FIXEDSLIT\n",
      "2021-05-21 14:49:00,056 - stpipe.Spec2Pipeline.extract_2d - INFO - Name of subarray extracted: S200A1\n",
      "2021-05-21 14:49:00,057 - stpipe.Spec2Pipeline.extract_2d - INFO - Subarray x-extents are: 666 2048\n",
      "2021-05-21 14:49:00,057 - stpipe.Spec2Pipeline.extract_2d - INFO - Subarray y-extents are: 1053 1101\n",
      "2021-05-21 14:49:00,124 - stpipe.Spec2Pipeline.extract_2d - WARNING - /Users/pena/anaconda3/envs/pipedev/lib/python3.9/site-packages/gwcs/geometry.py:203: RuntimeWarning: invalid value encountered in remainder\n",
      "  lon = np.mod(lon, 360.0 * u.deg if nquant else 360.0)\n",
      "\n",
      "2021-05-21 14:49:00,227 - stpipe.Spec2Pipeline.extract_2d - INFO - set slit_attributes completed\n",
      "2021-05-21 14:49:00,238 - stpipe.Spec2Pipeline.extract_2d - INFO - Update S_REGION to POLYGON ICRS  156.191685737 -45.682908511 156.190837415 -45.682092120 156.190771015 -45.682126390 156.191619323 -45.682942792\n",
      "2021-05-21 14:49:00,239 - stpipe.Spec2Pipeline.extract_2d - INFO - Updated S_REGION to POLYGON ICRS  156.191685737 -45.682908511 156.190837415 -45.682092120 156.190771015 -45.682126390 156.191619323 -45.682942792\n",
      "2021-05-21 14:49:00,448 - stpipe.Spec2Pipeline.extract_2d - INFO - Name of subarray extracted: S200A2\n",
      "2021-05-21 14:49:00,448 - stpipe.Spec2Pipeline.extract_2d - INFO - Subarray x-extents are: 475 1941\n",
      "2021-05-21 14:49:00,449 - stpipe.Spec2Pipeline.extract_2d - INFO - Subarray y-extents are: 1016 1066\n",
      "2021-05-21 14:49:00,650 - stpipe.Spec2Pipeline.extract_2d - INFO - set slit_attributes completed\n",
      "2021-05-21 14:49:00,663 - stpipe.Spec2Pipeline.extract_2d - INFO - Update S_REGION to POLYGON ICRS  156.184519149 -45.685298792 156.183675453 -45.684484578 156.183609578 -45.684518640 156.184453260 -45.685332865\n",
      "2021-05-21 14:49:00,664 - stpipe.Spec2Pipeline.extract_2d - INFO - Updated S_REGION to POLYGON ICRS  156.184519149 -45.685298792 156.183675453 -45.684484578 156.183609578 -45.684518640 156.184453260 -45.685332865\n"
     ]
    },
    {
     "name": "stderr",
     "output_type": "stream",
     "text": [
      "2021-05-21 14:49:00,952 - stpipe.Spec2Pipeline.extract_2d - INFO - Name of subarray extracted: S400A1\n",
      "2021-05-21 14:49:00,953 - stpipe.Spec2Pipeline.extract_2d - INFO - Subarray x-extents are: 596 2048\n",
      "2021-05-21 14:49:00,953 - stpipe.Spec2Pipeline.extract_2d - INFO - Subarray y-extents are: 976 1030\n",
      "2021-05-21 14:49:01,163 - stpipe.Spec2Pipeline.extract_2d - INFO - set slit_attributes completed\n",
      "2021-05-21 14:49:01,176 - stpipe.Spec2Pipeline.extract_2d - INFO - Update S_REGION to POLYGON ICRS  156.187759056 -45.682331806 156.186793281 -45.681401531 156.186663358 -45.681468621 156.187629101 -45.682398919\n",
      "2021-05-21 14:49:01,177 - stpipe.Spec2Pipeline.extract_2d - INFO - Updated S_REGION to POLYGON ICRS  156.187759056 -45.682331806 156.186793281 -45.681401531 156.186663358 -45.681468621 156.187629101 -45.682398919\n",
      "2021-05-21 14:49:01,408 - stpipe.Spec2Pipeline.extract_2d - INFO - Name of subarray extracted: S1600A1\n",
      "2021-05-21 14:49:01,408 - stpipe.Spec2Pipeline.extract_2d - INFO - Subarray x-extents are: 620 2048\n",
      "2021-05-21 14:49:01,409 - stpipe.Spec2Pipeline.extract_2d - INFO - Subarray y-extents are: 956 987\n",
      "2021-05-21 14:49:01,559 - stpipe.Spec2Pipeline.extract_2d - INFO - set slit_attributes completed\n",
      "2021-05-21 14:49:01,569 - stpipe.Spec2Pipeline.extract_2d - INFO - Update S_REGION to POLYGON ICRS  156.187720636 -45.680802803 156.187307671 -45.680405209 156.186792650 -45.680671077 156.187205560 -45.681068709\n",
      "2021-05-21 14:49:01,570 - stpipe.Spec2Pipeline.extract_2d - INFO - Updated S_REGION to POLYGON ICRS  156.187720636 -45.680802803 156.187307671 -45.680405209 156.186792650 -45.680671077 156.187205560 -45.681068709\n",
      "2021-05-21 14:49:01,713 - stpipe.Spec2Pipeline.extract_2d - INFO - Step extract_2d done\n",
      "2021-05-21 14:49:01,798 - stpipe.Spec2Pipeline.srctype - INFO - Step srctype running with args (<MultiSlitModel from fs_fullframe_g140m_f100lp_NRS1_rate.fits>,).\n",
      "2021-05-21 14:49:01,800 - stpipe.Spec2Pipeline.srctype - INFO - Step srctype parameters are: {'pre_hooks': [], 'post_hooks': [], 'output_file': None, 'output_dir': None, 'output_ext': '.fits', 'output_use_model': False, 'output_use_index': True, 'save_results': False, 'skip': False, 'suffix': None, 'search_output_file': True, 'input_dir': '/Users/pena/Documents/PyCharmProjects/nirspec/pipeline/testing_data/FS_FULL_FRAME/G140M_opaque'}\n",
      "2021-05-21 14:49:01,811 - stpipe.Spec2Pipeline.srctype - INFO - Input EXP_TYPE is NRS_FIXEDSLIT\n",
      "2021-05-21 14:49:01,812 - stpipe.Spec2Pipeline.srctype - INFO - Input SRCTYAPT = UNKNOWN\n",
      "2021-05-21 14:49:01,813 - stpipe.Spec2Pipeline.srctype - INFO - Input source type is unknown; setting default SRCTYPE = POINT\n",
      "2021-05-21 14:49:01,816 - stpipe.Spec2Pipeline.srctype - INFO - Step srctype done\n",
      "2021-05-21 14:49:01,901 - stpipe.Spec2Pipeline.master_background - INFO - Step master_background running with args (<MultiSlitModel from fs_fullframe_g140m_f100lp_NRS1_rate.fits>,).\n",
      "2021-05-21 14:49:01,907 - stpipe.Spec2Pipeline.master_background - INFO - Step master_background parameters are: {'pre_hooks': [], 'post_hooks': [], 'output_file': None, 'output_dir': None, 'output_ext': '.fits', 'output_use_model': True, 'output_use_index': True, 'save_results': False, 'skip': True, 'suffix': None, 'search_output_file': True, 'input_dir': '/Users/pena/Documents/PyCharmProjects/nirspec/pipeline/testing_data/FS_FULL_FRAME/G140M_opaque', 'force_subtract': False, 'save_background': False, 'user_background': None, 'inverse': False, 'steps': {'flat_field': {'pre_hooks': [], 'post_hooks': [], 'output_file': None, 'output_dir': None, 'output_ext': '.fits', 'output_use_model': False, 'output_use_index': True, 'save_results': False, 'skip': False, 'suffix': None, 'search_output_file': True, 'input_dir': '/Users/pena/Documents/PyCharmProjects/nirspec/pipeline/testing_data/FS_FULL_FRAME/G140M_opaque', 'save_interpolated_flat': False, 'user_supplied_flat': None, 'inverse': False}, 'pathloss': {'pre_hooks': [], 'post_hooks': [], 'output_file': None, 'output_dir': None, 'output_ext': '.fits', 'output_use_model': False, 'output_use_index': True, 'save_results': False, 'skip': False, 'suffix': None, 'search_output_file': True, 'input_dir': '/Users/pena/Documents/PyCharmProjects/nirspec/pipeline/testing_data/FS_FULL_FRAME/G140M_opaque', 'inverse': False, 'source_type': None}, 'barshadow': {'pre_hooks': [], 'post_hooks': [], 'output_file': None, 'output_dir': None, 'output_ext': '.fits', 'output_use_model': False, 'output_use_index': True, 'save_results': False, 'skip': False, 'suffix': None, 'search_output_file': True, 'input_dir': '/Users/pena/Documents/PyCharmProjects/nirspec/pipeline/testing_data/FS_FULL_FRAME/G140M_opaque', 'inverse': False, 'source_type': None}, 'photom': {'pre_hooks': [], 'post_hooks': [], 'output_file': None, 'output_dir': None, 'output_ext': '.fits', 'output_use_model': False, 'output_use_index': True, 'save_results': False, 'skip': False, 'suffix': None, 'search_output_file': True, 'input_dir': '/Users/pena/Documents/PyCharmProjects/nirspec/pipeline/testing_data/FS_FULL_FRAME/G140M_opaque', 'inverse': False, 'source_type': None}}}\n",
      "2021-05-21 14:49:01,908 - stpipe.Spec2Pipeline.master_background - INFO - Step skipped.\n",
      "2021-05-21 14:49:01,909 - stpipe.Spec2Pipeline.master_background - INFO - Step master_background done\n",
      "2021-05-21 14:49:01,991 - stpipe.Spec2Pipeline.wavecorr - INFO - Step wavecorr running with args (<MultiSlitModel from fs_fullframe_g140m_f100lp_NRS1_rate.fits>,).\n",
      "2021-05-21 14:49:01,993 - stpipe.Spec2Pipeline.wavecorr - INFO - Step wavecorr parameters are: {'pre_hooks': [], 'post_hooks': [], 'output_file': None, 'output_dir': None, 'output_ext': '.fits', 'output_use_model': False, 'output_use_index': True, 'save_results': False, 'skip': False, 'suffix': None, 'search_output_file': True, 'input_dir': '/Users/pena/Documents/PyCharmProjects/nirspec/pipeline/testing_data/FS_FULL_FRAME/G140M_opaque'}\n",
      "2021-05-21 14:49:02,631 - stpipe.Spec2Pipeline.wavecorr - INFO - Using WAVECORR reference file /Users/pena/crds_cache/references/jwst/nirspec/jwst_nirspec_wavecorr_0001.asdf\n",
      "2021-05-21 14:49:03,284 - stpipe.Spec2Pipeline.wavecorr - INFO - Detected a POINT source type in slit S200A1\n",
      "2021-05-21 14:49:03,286 - stpipe.AssignWcsStep - INFO - AssignWcsStep instance created.\n",
      "2021-05-21 14:49:03,594 - stpipe.Spec2Pipeline.wavecorr - INFO - Using wavelength zero-point correction for aperture S200A1\n",
      "2021-05-21 14:49:03,605 - stpipe.Spec2Pipeline.wavecorr - INFO - Step wavecorr done\n",
      "2021-05-21 14:49:03,701 - stpipe.Spec2Pipeline.flat_field - INFO - Step flat_field running with args (<MultiSlitModel from fs_fullframe_g140m_f100lp_NRS1_rate.fits>,).\n",
      "2021-05-21 14:49:03,703 - stpipe.Spec2Pipeline.flat_field - INFO - Step flat_field parameters are: {'pre_hooks': [], 'post_hooks': [], 'output_file': None, 'output_dir': None, 'output_ext': '.fits', 'output_use_model': False, 'output_use_index': True, 'save_results': False, 'skip': False, 'suffix': None, 'search_output_file': True, 'input_dir': '/Users/pena/Documents/PyCharmProjects/nirspec/pipeline/testing_data/FS_FULL_FRAME/G140M_opaque', 'save_interpolated_flat': False, 'user_supplied_flat': None, 'inverse': False}\n",
      "2021-05-21 14:49:05,890 - stpipe.Spec2Pipeline.flat_field - INFO - Working on slit S200A1\n",
      "2021-05-21 14:49:05,891 - stpipe.Spec2Pipeline.flat_field - INFO - Creating wavelength array from WCS for slit S200A1\n",
      "2021-05-21 14:49:24,317 - stpipe.Spec2Pipeline.flat_field - INFO - Working on slit S200A2\n",
      "2021-05-21 14:49:35,159 - stpipe.Spec2Pipeline.flat_field - INFO - Working on slit S400A1\n",
      "2021-05-21 14:49:47,827 - stpipe.Spec2Pipeline.flat_field - INFO - Working on slit S1600A1\n",
      "2021-05-21 14:49:53,329 - stpipe.Spec2Pipeline.flat_field - INFO - Step flat_field done\n",
      "2021-05-21 14:49:53,515 - stpipe.Spec2Pipeline.pathloss - INFO - Step pathloss running with args (<MultiSlitModel from fs_fullframe_g140m_f100lp_NRS1_rate.fits>,).\n",
      "2021-05-21 14:49:53,517 - stpipe.Spec2Pipeline.pathloss - INFO - Step pathloss parameters are: {'pre_hooks': [], 'post_hooks': [], 'output_file': None, 'output_dir': None, 'output_ext': '.fits', 'output_use_model': False, 'output_use_index': True, 'save_results': False, 'skip': False, 'suffix': None, 'search_output_file': True, 'input_dir': '/Users/pena/Documents/PyCharmProjects/nirspec/pipeline/testing_data/FS_FULL_FRAME/G140M_opaque', 'inverse': False, 'source_type': None}\n"
     ]
    },
    {
     "name": "stderr",
     "output_type": "stream",
     "text": [
      "2021-05-21 14:49:53,551 - stpipe.Spec2Pipeline.pathloss - INFO - Using PATHLOSS reference file /Users/pena/crds_cache/references/jwst/nirspec/jwst_nirspec_pathloss_0001.fits\n",
      "2021-05-21 14:49:53,636 - stpipe.Spec2Pipeline.pathloss - INFO - Input exposure type is NRS_FIXEDSLIT\n",
      "2021-05-21 14:49:54,310 - stpipe.Spec2Pipeline.pathloss - INFO - Working on slit S200A1\n",
      "2021-05-21 14:49:54,311 - stpipe.Spec2Pipeline.pathloss - INFO - Using aperture S200A1\n",
      "2021-05-21 14:49:54,338 - stpipe.Spec2Pipeline.pathloss - INFO - Working on slit S200A2\n",
      "2021-05-21 14:49:54,339 - stpipe.Spec2Pipeline.pathloss - INFO - Using aperture S200A2\n",
      "2021-05-21 14:49:54,365 - stpipe.Spec2Pipeline.pathloss - INFO - Working on slit S400A1\n",
      "2021-05-21 14:49:54,366 - stpipe.Spec2Pipeline.pathloss - WARNING - Cannot find matching pathloss model for S400A1\n",
      "2021-05-21 14:49:54,367 - stpipe.Spec2Pipeline.pathloss - WARNING - Skipping pathloss correction for this slit\n",
      "2021-05-21 14:49:54,368 - stpipe.Spec2Pipeline.pathloss - WARNING - No correction provided for slit 2. Skipping\n",
      "2021-05-21 14:49:54,368 - stpipe.Spec2Pipeline.pathloss - INFO - Working on slit S1600A1\n",
      "2021-05-21 14:49:54,369 - stpipe.Spec2Pipeline.pathloss - INFO - Using aperture S1600A1\n",
      "2021-05-21 14:49:54,396 - stpipe.Spec2Pipeline.pathloss - INFO - Step pathloss done\n",
      "2021-05-21 14:49:54,499 - stpipe.Spec2Pipeline.barshadow - INFO - Step barshadow running with args (<MultiSlitModel from fs_fullframe_g140m_f100lp_NRS1_rate.fits>,).\n",
      "2021-05-21 14:49:54,500 - stpipe.Spec2Pipeline.barshadow - INFO - Step barshadow parameters are: {'pre_hooks': [], 'post_hooks': [], 'output_file': None, 'output_dir': None, 'output_ext': '.fits', 'output_use_model': False, 'output_use_index': True, 'save_results': False, 'skip': True, 'suffix': None, 'search_output_file': True, 'input_dir': '/Users/pena/Documents/PyCharmProjects/nirspec/pipeline/testing_data/FS_FULL_FRAME/G140M_opaque', 'inverse': False, 'source_type': None}\n",
      "2021-05-21 14:49:54,501 - stpipe.Spec2Pipeline.barshadow - INFO - Step skipped.\n",
      "2021-05-21 14:49:54,502 - stpipe.Spec2Pipeline.barshadow - INFO - Step barshadow done\n",
      "2021-05-21 14:49:54,597 - stpipe.Spec2Pipeline.photom - INFO - Step photom running with args (<MultiSlitModel from fs_fullframe_g140m_f100lp_NRS1_rate.fits>,).\n",
      "2021-05-21 14:49:54,599 - stpipe.Spec2Pipeline.photom - INFO - Step photom parameters are: {'pre_hooks': [], 'post_hooks': [], 'output_file': None, 'output_dir': None, 'output_ext': '.fits', 'output_use_model': False, 'output_use_index': True, 'save_results': False, 'skip': False, 'suffix': None, 'search_output_file': True, 'input_dir': '/Users/pena/Documents/PyCharmProjects/nirspec/pipeline/testing_data/FS_FULL_FRAME/G140M_opaque', 'inverse': False, 'source_type': None}\n",
      "2021-05-21 14:49:54,665 - stpipe.Spec2Pipeline.photom - INFO - Using photom reference file: /Users/pena/crds_cache/references/jwst/nirspec/jwst_nirspec_photom_0014.fits\n",
      "2021-05-21 14:49:54,666 - stpipe.Spec2Pipeline.photom - INFO - Using area reference file: /Users/pena/crds_cache/references/jwst/nirspec/jwst_nirspec_area_0024.fits\n",
      "2021-05-21 14:49:55,322 - stpipe.Spec2Pipeline.photom - INFO - Using instrument: NIRSPEC\n",
      "2021-05-21 14:49:55,323 - stpipe.Spec2Pipeline.photom - INFO -  detector: NRS1\n",
      "2021-05-21 14:49:55,323 - stpipe.Spec2Pipeline.photom - INFO -  exp_type: NRS_FIXEDSLIT\n",
      "2021-05-21 14:49:55,324 - stpipe.Spec2Pipeline.photom - INFO -  filter: F100LP\n",
      "2021-05-21 14:49:55,324 - stpipe.Spec2Pipeline.photom - INFO -  grating: G140M\n",
      "2021-05-21 14:49:55,388 - stpipe.Spec2Pipeline.photom - INFO - Working on slit S200A1\n",
      "2021-05-21 14:49:55,390 - stpipe.Spec2Pipeline.photom - INFO - PHOTMJSR value: 1\n",
      "2021-05-21 14:49:55,497 - stpipe.Spec2Pipeline.photom - INFO - Working on slit S200A2\n",
      "2021-05-21 14:49:55,498 - stpipe.Spec2Pipeline.photom - INFO - PHOTMJSR value: 1\n",
      "2021-05-21 14:49:55,510 - stpipe.Spec2Pipeline.photom - INFO - Working on slit S400A1\n",
      "2021-05-21 14:49:55,511 - stpipe.Spec2Pipeline.photom - INFO - PHOTMJSR value: 1\n",
      "2021-05-21 14:49:55,523 - stpipe.Spec2Pipeline.photom - INFO - Working on slit S1600A1\n",
      "2021-05-21 14:49:55,525 - stpipe.Spec2Pipeline.photom - INFO - PHOTMJSR value: 1\n",
      "2021-05-21 14:49:55,536 - stpipe.Spec2Pipeline.photom - INFO - Step photom done\n",
      "2021-05-21 14:49:55,706 - stpipe.Spec2Pipeline.resample_spec - INFO - Step resample_spec running with args (<MultiSlitModel from /Users/pena/Documents/NIRSpec_projects/jwebbinars/output_spec_modules/fs_fullframe_g140m_f100lp_NRS1_cal.fits>,).\n",
      "2021-05-21 14:49:55,707 - stpipe.Spec2Pipeline.resample_spec - INFO - Step resample_spec parameters are: {'pre_hooks': [], 'post_hooks': [], 'output_file': None, 'output_dir': None, 'output_ext': '.fits', 'output_use_model': False, 'output_use_index': True, 'save_results': True, 'skip': False, 'suffix': 's2d', 'search_output_file': True, 'input_dir': '/Users/pena/Documents/PyCharmProjects/nirspec/pipeline/testing_data/FS_FULL_FRAME/G140M_opaque', 'pixfrac': 1.0, 'kernel': 'square', 'fillval': 'INDEF', 'weight_type': 'ivm', 'pixel_scale_ratio': 1.0, 'single': False, 'blendheaders': True, 'allowed_memory': None}\n",
      "2021-05-21 14:49:55,775 - stpipe.Spec2Pipeline.resample_spec - INFO - No NIRSpec DIRZPARS reffile\n",
      "2021-05-21 14:49:55,777 - stpipe.Spec2Pipeline.resample_spec - INFO -   setting: pixfrac=1.0\n",
      "2021-05-21 14:49:55,778 - stpipe.Spec2Pipeline.resample_spec - INFO -   setting: kernel='square'\n",
      "2021-05-21 14:49:55,778 - stpipe.Spec2Pipeline.resample_spec - INFO -   setting: fillval='INDEF'\n",
      "2021-05-21 14:49:55,779 - stpipe.Spec2Pipeline.resample_spec - INFO -   setting: weight_type='ivm'\n",
      "2021-05-21 14:49:55,780 - stpipe.Spec2Pipeline.resample_spec - INFO -   setting: pscale_ratio=1.0\n",
      "2021-05-21 14:49:55,781 - stpipe.Spec2Pipeline.resample_spec - INFO - Reorganizing data from exposure /Users/pena/Documents/NIRSpec_projects/jwebbinars/output_spec_modules/fs_fullframe_g140m_f100lp_NRS1_cal.fits\n",
      "2021-05-21 14:49:56,869 - stpipe.Spec2Pipeline.resample_spec - INFO - Resampling slit S200A1 (35, 1382)\n",
      "2021-05-21 14:49:56,930 - stpipe.Spec2Pipeline.resample_spec - WARNING - /Users/pena/anaconda3/envs/pipedev/lib/python3.9/site-packages/gwcs/geometry.py:203: RuntimeWarning: invalid value encountered in remainder\n",
      "  lon = np.mod(lon, 360.0 * u.deg if nquant else 360.0)\n",
      "\n",
      "2021-05-21 14:49:56,945 - stpipe.Spec2Pipeline.resample_spec - INFO - Drizzling (48, 1382) --> (35, 1382)\n",
      "2021-05-21 14:49:56,993 - stpipe.Spec2Pipeline.resample_spec - INFO - Update S_REGION to POLYGON ICRS  156.190811002 -45.682921101 156.191648439 -45.682921101 156.191648439 -45.682115174 156.190811002 -45.682115174\n",
      "2021-05-21 14:49:57,075 - stpipe.Spec2Pipeline.resample_spec - WARNING - /Users/pena/anaconda3/envs/pipedev/lib/python3.9/site-packages/gwcs/geometry.py:203: RuntimeWarning: invalid value encountered in remainder\n",
      "  lon = np.mod(lon, 360.0 * u.deg if nquant else 360.0)\n",
      "\n",
      "2021-05-21 14:49:57,526 - stpipe.Spec2Pipeline.resample_spec - INFO - Resampling slit S200A2 (34, 1466)\n",
      "2021-05-21 14:49:57,611 - stpipe.Spec2Pipeline.resample_spec - WARNING - /Users/pena/anaconda3/envs/pipedev/lib/python3.9/site-packages/gwcs/geometry.py:203: RuntimeWarning: invalid value encountered in remainder\n",
      "  lon = np.mod(lon, 360.0 * u.deg if nquant else 360.0)\n",
      "\n",
      "2021-05-21 14:49:57,632 - stpipe.Spec2Pipeline.resample_spec - INFO - Drizzling (50, 1466) --> (34, 1466)\n",
      "2021-05-21 14:49:57,693 - stpipe.Spec2Pipeline.resample_spec - INFO - Update S_REGION to POLYGON ICRS  156.183653022 -45.685293415 156.184463766 -45.685293415 156.184463766 -45.684510992 156.183653022 -45.684510992\n",
      "2021-05-21 14:49:57,787 - stpipe.Spec2Pipeline.resample_spec - WARNING - /Users/pena/anaconda3/envs/pipedev/lib/python3.9/site-packages/gwcs/geometry.py:203: RuntimeWarning: invalid value encountered in remainder\n",
      "  lon = np.mod(lon, 360.0 * u.deg if nquant else 360.0)\n",
      "\n",
      "2021-05-21 14:49:58,348 - stpipe.Spec2Pipeline.resample_spec - INFO - Resampling slit S400A1 (39, 1452)\n",
      "2021-05-21 14:49:58,424 - stpipe.Spec2Pipeline.resample_spec - WARNING - /Users/pena/anaconda3/envs/pipedev/lib/python3.9/site-packages/gwcs/geometry.py:203: RuntimeWarning: invalid value encountered in remainder\n",
      "  lon = np.mod(lon, 360.0 * u.deg if nquant else 360.0)\n",
      "\n"
     ]
    },
    {
     "name": "stderr",
     "output_type": "stream",
     "text": [
      "2021-05-21 14:49:58,441 - stpipe.Spec2Pipeline.resample_spec - INFO - Drizzling (54, 1452) --> (39, 1452)\n",
      "2021-05-21 14:49:58,505 - stpipe.Spec2Pipeline.resample_spec - INFO - Update S_REGION to POLYGON ICRS  156.186749042 -45.682353788 156.187682741 -45.682353788 156.187682741 -45.681454385 156.186749042 -45.681454385\n",
      "2021-05-21 14:49:58,588 - stpipe.Spec2Pipeline.resample_spec - WARNING - /Users/pena/anaconda3/envs/pipedev/lib/python3.9/site-packages/gwcs/geometry.py:203: RuntimeWarning: invalid value encountered in remainder\n",
      "  lon = np.mod(lon, 360.0 * u.deg if nquant else 360.0)\n",
      "\n",
      "2021-05-21 14:49:58,855 - stpipe.Spec2Pipeline.resample_spec - INFO - Resampling slit S1600A1 (16, 1428)\n",
      "2021-05-21 14:49:58,918 - stpipe.Spec2Pipeline.resample_spec - WARNING - /Users/pena/anaconda3/envs/pipedev/lib/python3.9/site-packages/gwcs/geometry.py:203: RuntimeWarning: invalid value encountered in remainder\n",
      "  lon = np.mod(lon, 360.0 * u.deg if nquant else 360.0)\n",
      "\n",
      "2021-05-21 14:49:58,930 - stpipe.Spec2Pipeline.resample_spec - INFO - Drizzling (31, 1428) --> (16, 1428)\n",
      "2021-05-21 14:49:58,966 - stpipe.Spec2Pipeline.resample_spec - INFO - Update S_REGION to POLYGON ICRS  156.187072010 -45.680913219 156.187440357 -45.680913219 156.187440357 -45.680558542 156.187072010 -45.680558542\n",
      "2021-05-21 14:49:59,297 - stpipe.Spec2Pipeline.resample_spec - INFO - Saved model in /Users/pena/Documents/NIRSpec_projects/jwebbinars/output_spec_modules/fs_fullframe_g140m_f100lp_NRS1_s2d.fits\n",
      "2021-05-21 14:49:59,297 - stpipe.Spec2Pipeline.resample_spec - INFO - Step resample_spec done\n",
      "2021-05-21 14:49:59,400 - stpipe.Spec2Pipeline.extract_1d - INFO - Step extract_1d running with args (<MultiSlitModel from fs_fullframe_g140m_f100lp_NRS1_s2d.fits>,).\n",
      "2021-05-21 14:49:59,403 - stpipe.Spec2Pipeline.extract_1d - INFO - Step extract_1d parameters are: {'pre_hooks': [], 'post_hooks': [], 'output_file': None, 'output_dir': None, 'output_ext': '.fits', 'output_use_model': False, 'output_use_index': True, 'save_results': True, 'skip': False, 'suffix': 'x1d', 'search_output_file': True, 'input_dir': '/Users/pena/Documents/PyCharmProjects/nirspec/pipeline/testing_data/FS_FULL_FRAME/G140M_opaque', 'smoothing_length': None, 'bkg_fit': 'poly', 'bkg_order': None, 'bkg_sigma_clip': 3.0, 'log_increment': 50, 'subtract_background': None, 'use_source_posn': None, 'apply_apcorr': True}\n",
      "2021-05-21 14:49:59,503 - stpipe.Spec2Pipeline.extract_1d - INFO - Using EXTRACT1D reference file /Users/pena/crds_cache/references/jwst/nirspec/jwst_nirspec_extract1d_0004.json\n",
      "2021-05-21 14:49:59,522 - stpipe.Spec2Pipeline.extract_1d - INFO - Using APCORR file /Users/pena/crds_cache/references/jwst/nirspec/jwst_nirspec_apcorr_0003.fits\n",
      "2021-05-21 14:49:59,602 - stpipe.Spec2Pipeline.extract_1d - INFO - Turning on source position correction for exp_type = NRS_FIXEDSLIT\n",
      "2021-05-21 14:49:59,603 - stpipe.Spec2Pipeline.extract_1d - INFO - Working on slit S200A1\n",
      "2021-05-21 14:49:59,634 - stpipe.Spec2Pipeline.extract_1d - WARNING - WCS implies the target is at 2102928.20, which is outside the bounding box,\n",
      "2021-05-21 14:49:59,635 - stpipe.Spec2Pipeline.extract_1d - WARNING - so we can't get spectrum location using the WCS\n",
      "2021-05-21 14:49:59,637 - stpipe.Spec2Pipeline.extract_1d - INFO - Using extraction limits: \n",
      "2021-05-21 14:49:59,638 - stpipe.Spec2Pipeline.extract_1d - INFO - xstart=0, xstop=1381, ystart=14.0, ystop=20.0\n",
      "2021-05-21 14:49:59,791 - stpipe.Spec2Pipeline.extract_1d - INFO - Applying Aperture correction.\n",
      "2021-05-21 14:50:02,144 - stpipe.Spec2Pipeline.extract_1d - INFO - Working on slit S200A2\n",
      "2021-05-21 14:50:02,144 - stpipe.Spec2Pipeline.extract_1d - INFO - Setting use_source_posn to False for source type EXTENDED\n",
      "2021-05-21 14:50:02,145 - stpipe.Spec2Pipeline.extract_1d - INFO - Can only compute source location for primary NIRSpec slit, \n",
      "2021-05-21 14:50:02,145 - stpipe.Spec2Pipeline.extract_1d - INFO - so setting use_source_posn to False\n",
      "2021-05-21 14:50:02,165 - stpipe.Spec2Pipeline.extract_1d - INFO - Using extraction limits: \n",
      "2021-05-21 14:50:02,166 - stpipe.Spec2Pipeline.extract_1d - INFO - xstart=0, xstop=1465, ystart=13.5, ystop=19.5\n",
      "2021-05-21 14:50:02,365 - stpipe.Spec2Pipeline.extract_1d - INFO - Working on slit S400A1\n",
      "2021-05-21 14:50:02,366 - stpipe.Spec2Pipeline.extract_1d - INFO - Setting use_source_posn to False for source type EXTENDED\n",
      "2021-05-21 14:50:02,367 - stpipe.Spec2Pipeline.extract_1d - INFO - Can only compute source location for primary NIRSpec slit, \n",
      "2021-05-21 14:50:02,368 - stpipe.Spec2Pipeline.extract_1d - INFO - so setting use_source_posn to False\n",
      "2021-05-21 14:50:02,393 - stpipe.Spec2Pipeline.extract_1d - INFO - Using extraction limits: \n",
      "2021-05-21 14:50:02,394 - stpipe.Spec2Pipeline.extract_1d - INFO - xstart=0, xstop=1451, ystart=16.0, ystop=22.0\n",
      "2021-05-21 14:50:02,571 - stpipe.Spec2Pipeline.extract_1d - INFO - Working on slit S1600A1\n",
      "2021-05-21 14:50:02,572 - stpipe.Spec2Pipeline.extract_1d - INFO - Setting use_source_posn to False for source type EXTENDED\n",
      "2021-05-21 14:50:02,573 - stpipe.Spec2Pipeline.extract_1d - INFO - Can only compute source location for primary NIRSpec slit, \n",
      "2021-05-21 14:50:02,574 - stpipe.Spec2Pipeline.extract_1d - INFO - so setting use_source_posn to False\n",
      "2021-05-21 14:50:02,586 - stpipe.Spec2Pipeline.extract_1d - INFO - Using extraction limits: \n",
      "2021-05-21 14:50:02,587 - stpipe.Spec2Pipeline.extract_1d - INFO - xstart=0, xstop=1427, ystart=4.5, ystop=10.5\n",
      "2021-05-21 14:50:02,869 - stpipe.Spec2Pipeline.extract_1d - INFO - Saved model in /Users/pena/Documents/NIRSpec_projects/jwebbinars/output_spec_modules/fs_fullframe_g140m_f100lp_NRS1_x1d.fits\n",
      "2021-05-21 14:50:02,869 - stpipe.Spec2Pipeline.extract_1d - INFO - Step extract_1d done\n",
      "2021-05-21 14:50:02,870 - stpipe.Spec2Pipeline - INFO - Finished processing product /Users/pena/Documents/PyCharmProjects/nirspec/pipeline/testing_data/FS_FULL_FRAME/G140M_opaque/fs_fullframe_g140m_f100lp_NRS1\n",
      "2021-05-21 14:50:02,870 - stpipe.Spec2Pipeline - INFO - Ending calwebb_spec2\n",
      "2021-05-21 14:50:03,895 - stpipe.Spec2Pipeline - INFO - Saved model in /Users/pena/Documents/NIRSpec_projects/jwebbinars/output_spec_modules/fs_fullframe_g140m_f100lp_NRS1_cal.fits\n",
      "2021-05-21 14:50:03,895 - stpipe.Spec2Pipeline - INFO - Step Spec2Pipeline done\n"
     ]
    }
   ],
   "source": [
    "# Create an instance of the pipeline class\n",
    "step = Spec2Pipeline()\n",
    "\n",
    "# Set some parameters that pertain to the\n",
    "# entire pipeline\n",
    "step.save_results = True\n",
    "output_dir = '/Users/pena/Documents/NIRSpec_projects/jwebbinars/output_spec_modules'\n",
    "step.output_dir = output_dir\n",
    "\n",
    "# Set some parameters that pertain to some of\n",
    "# the individual steps\n",
    "\n",
    "\n",
    "# Call the run() method\n",
    "result = step.run(rate_file)"
   ]
  },
  {
   "cell_type": "markdown",
   "metadata": {},
   "source": [
    "<a id='call_method'></a>\n",
    "#### Call the pipeline using the call() method"
   ]
  },
  {
   "cell_type": "markdown",
   "metadata": {},
   "source": [
    "When using the `call()` method, a single command will instantiate and run the pipeline (or step). The input data and optional parameter reference files are supplied in this single command. In this case, any desired input parameters cannot be set after instantiation, as with the `run()` method. See here for [example usage of call() method](https://jwst-pipeline.readthedocs.io/en/stable/jwst/stpipe/call_via_call.html).\n",
    "\n",
    "The commands below will call the pipeline using the `call()` method and will supply the parameter reference file. Since we just ran the pipeline with the `run()` method above, we won't actually execute the call to `call()`. But if you wish to try it out, use the pull-down menu above to change the cell to be 'Code', and then execute it. (Or, Click 'Cell' > 'Cell Type' > 'Code')"
   ]
  },
  {
   "cell_type": "markdown",
   "metadata": {},
   "source": [
    "<div class=\"alert alert-block alert-info\">\n",
    "\n",
    "<b>Method #1:</b>\n",
    "Provide the name of the observation file, the pipeline-specific input paramters, and the name of the parameter reference file that specifies step-specific parameters\n",
    "</div>"
   ]
  },
  {
   "cell_type": "raw",
   "metadata": {},
   "source": [
    "# NOTE: This is a \"raw\" cell and will not run unless you change to \"code\", or paste it in the cell below\n",
    "call_output = Spec2Pipeline.call(rate_file,\n",
    "                                 output_dir=output_dir,\n",
    "                                 save_results=True,\n",
    "                                 config_file=spec2_param_reffile)"
   ]
  },
  {
   "cell_type": "code",
   "execution_count": null,
   "metadata": {},
   "outputs": [],
   "source": []
  },
  {
   "cell_type": "markdown",
   "metadata": {},
   "source": [
    "<div class=\"alert alert-block alert-info\">\n",
    "\n",
    "<b>Method #2:</b>\n",
    "In this case, build a nested dictionary that specifies parameter values for various steps, and provide it in the call to call().\n",
    "</div>"
   ]
  },
  {
   "cell_type": "raw",
   "metadata": {},
   "source": [
    "# NOTE: This is a \"raw\" cell and will not run unless you change to \"code\"\n",
    "parameter_dict = {\"refpix\": {\"use_side_ref_pixels\": True},\n",
    "                  \"linearity\": {\"save_results\": True},\n",
    "                  \"jump\": {\"rejection_threshold\": 6},\n",
    "                 }\n",
    "call_output = calwebb_detector1.Detector1Pipeline.call(uncal_file, output_dir=output_dir, save_results=True,\n",
    "                                                       steps=parameter_dict)"
   ]
  },
  {
   "cell_type": "markdown",
   "metadata": {},
   "source": [
    "<a id='command_line'></a>\n",
    "#### Call the pipeline using the command line"
   ]
  },
  {
   "cell_type": "markdown",
   "metadata": {},
   "source": [
    "Calling a pipeline or step from the command line is similar to using the `call()` method. The data file to be processed, along with an optional parameter reference file and optional parameter/value pairs can be provided to the `strun` command. See here for [additional examples of command line calls](https://jwst-pipeline.readthedocs.io/en/stable/jwst/introduction.html?highlight=%22command%20line%22#running-from-the-command-line).\n",
    "\n",
    "The cells below contains two different command line commands that use `strun` to call the calwebb_spec2 pipeline. "
   ]
  },
  {
   "cell_type": "markdown",
   "metadata": {},
   "source": [
    "<div class=\"alert alert-block alert-info\">\n",
    "\n",
    "<b>Method #1:</b>\n",
    "We provide the name of the pipeline class, the observation file, and explicitly set pipeline- and step-specific parameters. You can see that the command quickly becomes quite large with the added parameter settings. \n",
    "    \n",
    "```\n",
    "    strun jwst.pipeline.Spec2Pipeline jw98765001001_01101_00003_nrsb5_rate.fits --save_results=True --output_dir='./' --steps.flat_field.save_interpolated_flat=True --steps.pathloss.override_pathloss=jwst-nirspec-a400.plrf.fits \n",
    "```\n",
    "</div>"
   ]
  },
  {
   "cell_type": "markdown",
   "metadata": {},
   "source": [
    "<div class=\"alert alert-block alert-info\">\n",
    "\n",
    "<b>Method #2:</b>\n",
    "This version of the command is much more succinct, as the parameter values to be set are all contained within the parameter reference file. The pipeline class is also contained in the parameter reference file, so there is no need to specify it in the command itself.\n",
    "    \n",
    "```\n",
    "    strun spec2_modified_paramfile.asdf jw98765001001_01101_00003_nrsb5_rate.fits\n",
    "```\n",
    "</div>"
   ]
  },
  {
   "cell_type": "markdown",
   "metadata": {},
   "source": [
    "[Top of Notebook](#top)"
   ]
  },
  {
   "cell_type": "markdown",
   "metadata": {},
   "source": [
    "<a id='detector1_step_by_step'></a>\n",
    "## Run the individual pipeline steps"
   ]
  },
  {
   "cell_type": "markdown",
   "metadata": {},
   "source": [
    "In the sections below we show how to run the individual steps and a corresponding brief description."
   ]
  },
  {
   "cell_type": "markdown",
   "metadata": {},
   "source": [
    "<a id='assign_wcs'></a>\n",
    "### The `Assign WCS` step\n",
    "\n",
    "#### Summary\n",
    "\n",
    "This step transforms positions in the detector frame to positions in a world coordinate system (WCS) - ICRS and wavelength. There may be intermediate coordinate frames depending on the instrument (e.g. from detector to slit frame). The WCS is saved in the ASDF extension of the FITS file, and it can be accessed as an attribute of the meta object when the fits file is opened as a data model. More information can be found at [assign_wcs](https://jwst-pipeline.readthedocs.io/en/stable/jwst/assign_wcs/index.html).\n",
    "\n",
    "#### Documentation\n",
    "\n",
    "[Full description](https://jwst-pipeline.readthedocs.io/en/stable/jwst/assign_wcs/main.html) of the step.\n",
    "\n",
    "#### Arguments\n",
    "\n",
    "There are no optional arguments for this step\n",
    "\n",
    "#### Reference files used\n",
    "\n",
    "This step uses various reference files, see [assign_wcs_reference_files](https://jwst-pipeline.readthedocs.io/en/stable/jwst/assign_wcs/reference_files.html). \n"
   ]
  },
  {
   "cell_type": "markdown",
   "metadata": {},
   "source": [
    "#### Run the step"
   ]
  },
  {
   "cell_type": "code",
   "execution_count": 26,
   "metadata": {
    "scrolled": true
   },
   "outputs": [
    {
     "name": "stderr",
     "output_type": "stream",
     "text": [
      "2021-05-21 15:40:10,637 - stpipe.AssignWcsStep - INFO - AssignWcsStep instance created.\n",
      "2021-05-21 15:40:11,008 - stpipe.AssignWcsStep - INFO - Step AssignWcsStep running with args ('/Users/pena/Documents/PyCharmProjects/nirspec/pipeline/testing_data/FS_FULL_FRAME/G140M_opaque/fs_fullframe_g140m_f100lp_NRS1_rate.fits',).\n",
      "2021-05-21 15:40:11,010 - stpipe.AssignWcsStep - INFO - Step AssignWcsStep parameters are: {'pre_hooks': [], 'post_hooks': [], 'output_file': None, 'output_dir': '/Users/pena/Documents/NIRSpec_projects/jwebbinars/output_spec_modules', 'output_ext': '.fits', 'output_use_model': False, 'output_use_index': True, 'save_results': True, 'skip': False, 'suffix': None, 'search_output_file': True, 'input_dir': '', 'sip_approx': True, 'sip_max_pix_error': 0.25, 'sip_degree': None, 'sip_max_inv_pix_error': 0.25, 'sip_inv_degree': None, 'sip_npoints': 32, 'slit_y_low': -0.55, 'slit_y_high': 0.55}\n",
      "2021-05-21 15:40:11,113 - stpipe.AssignWcsStep - WARNING - /Users/pena/anaconda3/envs/pipedev/lib/python3.9/site-packages/stdatamodels/validate.py:34: ValidationWarning: While validating meta.wcsinfo.spectral_order the following error occurred:\n",
      "1.0 is not of type 'integer'\n",
      "\n",
      "Failed validating 'type' in schema:\n",
      "    OrderedDict([('title', 'Spectral order number'),\n",
      "                 ('type', 'integer'),\n",
      "                 ('fits_keyword', 'SPORDER'),\n",
      "                 ('fits_hdu', 'SCI'),\n",
      "                 ('blend_table', True)])\n",
      "\n",
      "On instance:\n",
      "    1.0\n",
      "  warnings.warn(errmsg, ValidationWarning)\n",
      "\n",
      "2021-05-21 15:40:11,353 - stpipe.AssignWcsStep - INFO - gwa_ytilt is 0.1260581910610199 deg\n",
      "2021-05-21 15:40:11,353 - stpipe.AssignWcsStep - INFO - gwa_xtilt is 0.3316612243652344 deg\n",
      "2021-05-21 15:40:11,354 - stpipe.AssignWcsStep - INFO - theta_y correction: 0.0002496099796717191 deg\n",
      "2021-05-21 15:40:11,355 - stpipe.AssignWcsStep - INFO - theta_x correction: 0.0 deg\n",
      "2021-05-21 15:40:11,624 - stpipe.AssignWcsStep - INFO - Removing slit S200B1 from the list of open slits because the WCS bounding_box is completely outside the detector.\n",
      "2021-05-21 15:40:11,625 - stpipe.AssignWcsStep - INFO - Slits projected on detector NRS1: ['S200A1', 'S200A2', 'S400A1', 'S1600A1']\n",
      "2021-05-21 15:40:11,625 - stpipe.AssignWcsStep - INFO - Computing WCS for 4 open slitlets\n",
      "2021-05-21 15:40:11,640 - stpipe.AssignWcsStep - INFO - gwa_ytilt is 0.1260581910610199 deg\n",
      "2021-05-21 15:40:11,640 - stpipe.AssignWcsStep - INFO - gwa_xtilt is 0.3316612243652344 deg\n",
      "2021-05-21 15:40:11,641 - stpipe.AssignWcsStep - INFO - theta_y correction: 0.0002496099796717191 deg\n",
      "2021-05-21 15:40:11,642 - stpipe.AssignWcsStep - INFO - theta_x correction: 0.0 deg\n",
      "2021-05-21 15:40:11,651 - stpipe.AssignWcsStep - INFO - SPORDER= -1, wrange=[9.7e-07, 1.89e-06]\n",
      "2021-05-21 15:40:11,806 - stpipe.AssignWcsStep - INFO - There are 0 open slits in quadrant 1\n",
      "2021-05-21 15:40:11,807 - stpipe.AssignWcsStep - INFO - There are 0 open slits in quadrant 2\n",
      "2021-05-21 15:40:11,807 - stpipe.AssignWcsStep - INFO - There are 0 open slits in quadrant 3\n",
      "2021-05-21 15:40:11,808 - stpipe.AssignWcsStep - INFO - There are 0 open slits in quadrant 4\n",
      "2021-05-21 15:40:11,809 - stpipe.AssignWcsStep - INFO - There are 4 open slits in quadrant 5\n",
      "2021-05-21 15:40:12,076 - stpipe.AssignWcsStep - INFO - Created a NIRSPEC nrs_fixedslit pipeline with references {'distortion': None, 'filteroffset': None, 'specwcs': None, 'regions': None, 'wavelengthrange': '/Users/pena/crds_cache/references/jwst/nirspec/jwst_nirspec_wavelengthrange_0004.asdf', 'camera': '/Users/pena/crds_cache/references/jwst/nirspec/jwst_nirspec_camera_0004.asdf', 'collimator': '/Users/pena/crds_cache/references/jwst/nirspec/jwst_nirspec_collimator_0004.asdf', 'disperser': '/Users/pena/crds_cache/references/jwst/nirspec/jwst_nirspec_disperser_0032.asdf', 'fore': '/Users/pena/crds_cache/references/jwst/nirspec/jwst_nirspec_fore_0023.asdf', 'fpa': '/Users/pena/crds_cache/references/jwst/nirspec/jwst_nirspec_fpa_0005.asdf', 'msa': '/Users/pena/crds_cache/references/jwst/nirspec/jwst_nirspec_msa_0005.asdf', 'ote': '/Users/pena/crds_cache/references/jwst/nirspec/jwst_nirspec_ote_0005.asdf', 'ifupost': None, 'ifufore': None, 'ifuslicer': None}\n",
      "2021-05-21 15:40:12,354 - stpipe.AssignWcsStep - INFO - COMPLETED assign_wcs\n",
      "2021-05-21 15:40:13,043 - stpipe.AssignWcsStep - INFO - Saved model in /Users/pena/Documents/NIRSpec_projects/jwebbinars/output_spec_modules/fs_fullframe_g140m_f100lp_NRS1_assignwcsstep.fits\n",
      "2021-05-21 15:40:13,044 - stpipe.AssignWcsStep - INFO - Step AssignWcsStep done\n"
     ]
    }
   ],
   "source": [
    "# Using the run() method. Instantiate and set parameters\n",
    "step = AssignWcsStep()\n",
    "\n",
    "# Call the run() method on the uncal file\n",
    "step.save_results = True\n",
    "step.output_dir = output_dir\n",
    "\n",
    "\n",
    "# Call the run() method\n",
    "result = step.run(rate_file)"
   ]
  },
  {
   "cell_type": "markdown",
   "metadata": {},
   "source": [
    "We have the datamodel instance of the output available already, but if you wanted to open the output file from the data quality initiailzation step, the output file has the same name as the input file, with the original suffix replaced by \"assign_wcs\"."
   ]
  },
  {
   "cell_type": "code",
   "execution_count": 29,
   "metadata": {},
   "outputs": [
    {
     "name": "stdout",
     "output_type": "stream",
     "text": [
      "/Users/pena/Documents/NIRSpec_projects/jwebbinars/output_spec_modules/fs_fullframe_g140m_f100lp_NRS1_assignwcsstep.fits\n"
     ]
    }
   ],
   "source": [
    "# Generate the assign_wcs step output file from the rate file name\n",
    "output_file = os.path.join(output_dir, '{}assignwcsstep.fits'.format(input_file_base))\n",
    "print(output_file)"
   ]
  },
  {
   "cell_type": "code",
   "execution_count": 69,
   "metadata": {
    "scrolled": true
   },
   "outputs": [
    {
     "name": "stderr",
     "output_type": "stream",
     "text": [
      "2021-05-21 16:49:22,012 - stpipe - WARNING - /Users/pena/anaconda3/envs/pipedev/lib/python3.9/site-packages/ipykernel/ipkernel.py:283: DeprecationWarning: `should_run_async` will not call `transform_cell` automatically in the future. Please pass the result to `transformed_cell` argument and any exception that happen during thetransform in `preprocessing_exc_tuple` in IPython 7.17 and above.\n",
      "  and should_run_async(code)\n",
      "\n"
     ]
    },
    {
     "name": "stdout",
     "output_type": "stream",
     "text": [
      "from assign_wcs file --> Detector: NRS1   Grating: G140M   Filter: F100LP   Lamp: LINE1\n",
      "Subarray:  <stdatamodels.properties.ObjectNode object at 0x7ffc202af100>\n",
      "GWA_XTILT: 0.3316612243652344\n",
      "GWA_YTILT: 0.1260581910610199\n",
      "GWA_TTILT: 40.28447479156018 \n",
      "\n",
      "\n",
      "Working with slit:  S200A1\n",
      "Avalable frames:  ['detector', 'sca', 'gwa', 'slit_frame', 'msa_frame', 'oteip', 'v2v3', 'v2v3vacorr', 'world']\n",
      "\n",
      "Working with slit:  S200A2\n",
      "Avalable frames:  ['detector', 'sca', 'gwa', 'slit_frame', 'msa_frame', 'oteip', 'v2v3', 'v2v3vacorr', 'world']\n",
      "\n",
      "Working with slit:  S400A1\n",
      "Avalable frames:  ['detector', 'sca', 'gwa', 'slit_frame', 'msa_frame', 'oteip', 'v2v3', 'v2v3vacorr', 'world']\n",
      "\n",
      "Working with slit:  S1600A1\n",
      "Avalable frames:  ['detector', 'sca', 'gwa', 'slit_frame', 'msa_frame', 'oteip', 'v2v3', 'v2v3vacorr', 'world']\n"
     ]
    }
   ],
   "source": [
    "# Open the data models\n",
    "img = datamodels.ImageModel(output_file)\n",
    "# see everything in the model\n",
    "#d = img.to_flat_dict()\n",
    "#for k,v in d.items():\n",
    "#    print(k, v)\n",
    "\n",
    "# Print basic information\n",
    "det = img.meta.instrument.detector\n",
    "lamp = img.meta.instrument.lamp_state\n",
    "grat = img.meta.instrument.grating\n",
    "filt = img.meta.instrument.filter\n",
    "msg = \"from assign_wcs file --> Detector: \" + det + \"   Grating: \" + grat + \"   Filter: \" + filt + \"   Lamp: \" + lamp\n",
    "print(msg)\n",
    "subarray = img.meta.subarray\n",
    "print('Subarray: ', subarray)\n",
    "\n",
    "print(\"GWA_XTILT: {}\".format(img.meta.instrument.gwa_xtilt))\n",
    "print(\"GWA_YTILT: {}\".format(img.meta.instrument.gwa_ytilt))\n",
    "print(\"GWA_TTILT: {}\".format(img.meta.instrument.gwa_tilt), \"\\n\")\n",
    "\n",
    "# To get the open and projected on the detector slits of the pipeline processed file\n",
    "open_slits = img.meta.wcs.get_transform('gwa', 'slit_frame').slits\n",
    "\n",
    "for opslit in open_slits:\n",
    "    pipeslit = opslit.name\n",
    "            \n",
    "    print(\"\\nWorking with slit: \", pipeslit)\n",
    "    \n",
    "    # get the wcs for this slit\n",
    "    wcs_slit = jwst.assign_wcs.nirspec.nrs_wcs_set_input(model, pipeslit)\n",
    "    available_frames = wcs_slit.available_frames\n",
    "    print(\"Avalable frames: \", available_frames)\n"
   ]
  },
  {
   "cell_type": "markdown",
   "metadata": {},
   "source": [
    "[Top of Notebook](#top)"
   ]
  },
  {
   "cell_type": "markdown",
   "metadata": {},
   "source": [
    "<a id='background'></a>\n",
    "## The `Background` step\n",
    "\n",
    "#### Summary\n",
    "\n",
    "The background subtraction step performs image-from-image subtraction, to remove the background signal. The step takes as input one target exposure and one or more background exposures, which are then subtracted from the target exosure.\n",
    "\n",
    "#### Documentation\n",
    "\n",
    "[Full description](https://jwst-pipeline.readthedocs.io/en/stable/jwst/background/description.html) of the step.\n",
    "\n",
    "#### Arguments\n",
    "\n",
    "There are two optional arguments for this step, that are only used for non-Wide-Field Slitless Spectroscopy (WFSS) Slitless Spectroscopy exposures. Please see the documentation for further detail [optional_arguments](https://jwst-pipeline.readthedocs.io/en/stable/jwst/background/arguments.html).\n",
    "\n",
    "#### Reference files used\n",
    "\n",
    "The background image subtraction step uses reference files only when processing WFSS exposures [WFSS_reference_files](https://jwst-pipeline.readthedocs.io/en/stable/jwst/background/reference_files.html)."
   ]
  },
  {
   "cell_type": "markdown",
   "metadata": {},
   "source": [
    "#### Run the step"
   ]
  },
  {
   "cell_type": "code",
   "execution_count": null,
   "metadata": {},
   "outputs": [],
   "source": [
    "# Using the run() method. Instantiate and set parameters\n",
    "step = BackgroundStep()\n",
    "\n",
    "# Call the run() method on the uncal file\n",
    "step.save_results = True\n",
    "step.output_dir = output_dir\n",
    "bkg_list = [background_img1, background_img2]\n",
    "\n",
    "# Call the run() method\n",
    "result = step.run(result, bkg_list)"
   ]
  },
  {
   "cell_type": "markdown",
   "metadata": {},
   "source": [
    " <a id='imprint'> </a>\n",
    "## The `Imprint Subtraction` step\n",
    "\n",
    "#### Summary\n",
    "\n",
    "This is a NIRSpec-specific step, particularly for the MSA and IFU modes. The step removes patterns created in NIRSpec MOS and IFU exposures by the MSA metal grid of the little shutters. Thes is pattern removal is done by subtracting a dedicated exposure taken with all MSA shutters closed and the IFU entrance aperture blocked.\n",
    "\n",
    "The Step uses as input the resulting file of the Background subtraction step or the Assign WCS, if there were no\n",
    "background exposures taken.\n",
    "\n",
    "#### Documentation\n",
    "\n",
    "[Full description](https://jwst-pipeline.readthedocs.io/en/stable/jwst/imprint/description.html) of the step.\n",
    "\n",
    "#### Arguments\n",
    "\n",
    "There are no optional arguments for this step.\n",
    "\n",
    "#### Reference files used\n",
    "\n",
    "This step uses no specific reference files.\n"
   ]
  },
  {
   "cell_type": "markdown",
   "metadata": {},
   "source": [
    "#### Run the step"
   ]
  },
  {
   "cell_type": "code",
   "execution_count": null,
   "metadata": {
    "scrolled": false
   },
   "outputs": [],
   "source": [
    "# Using the run() method. Instantiate and set parameters\n",
    "step = ImprintStep()\n",
    "\n",
    "# Call the run() method on the uncal file\n",
    "step.save_results = True\n",
    "step.output_dir = output_dir\n",
    "msa_imprint = '/somewhere/msa_imprint.fits'\n",
    "\n",
    "# Call the run() method\n",
    "result = step.run(result, msa_imprint)"
   ]
  },
  {
   "cell_type": "markdown",
   "metadata": {},
   "source": [
    "[Top of Notebook](#top)"
   ]
  },
  {
   "cell_type": "markdown",
   "metadata": {},
   "source": [
    "<a id='msaflagging'></a>\n",
    "## The `MSA Flagging` step\n",
    "\n",
    "#### Summary\n",
    "\n",
    "This is a NIRSpec-specific step, particularly for the MSA and IFU modes. The step flags pixels that are affected by MSA shutters that are stuck in the open position.\n",
    "\n",
    "#### Documentation\n",
    "\n",
    "[Full description](https://jwst-pipeline.readthedocs.io/en/stable/jwst/msaflagopen/description.html) of the step.\n",
    "\n",
    "#### Arguments\n",
    "\n",
    "There are no optional arguments for this step.\n",
    "\n",
    "#### Reference files used\n",
    "\n",
    "This step uses the MSAOPER reference file, see the [reference_file_documentation](https://jwst-pipeline.readthedocs.io/en/stable/jwst/msaflagopen/reference_files.html) for details.\n"
   ]
  },
  {
   "cell_type": "markdown",
   "metadata": {},
   "source": [
    "#### Run the step"
   ]
  },
  {
   "cell_type": "code",
   "execution_count": null,
   "metadata": {},
   "outputs": [],
   "source": [
    "# Instantiate and set parameters\n",
    "step = MSAFlagOpenStep()\n",
    "step.output_dir = output_dir\n",
    "step.save_results = True\n",
    "\n",
    "# Call using the saturation instance from the previously-run step\n",
    "result = step.run(result)"
   ]
  },
  {
   "cell_type": "markdown",
   "metadata": {},
   "source": [
    "<a id='refpix_call'></a>\n",
    "##### Using the call() method"
   ]
  },
  {
   "cell_type": "code",
   "execution_count": null,
   "metadata": {},
   "outputs": [],
   "source": [
    "result = MSAFlagOpenStep.call(result, output_dir=output_dir,\n",
    "                              save_results=True)"
   ]
  },
  {
   "cell_type": "markdown",
   "metadata": {},
   "source": [
    "<a id='refpix_strun'></a>\n",
    "##### From the command line"
   ]
  },
  {
   "cell_type": "markdown",
   "metadata": {},
   "source": [
    "Here we show the commands that can be used from the command line."
   ]
  },
  {
   "cell_type": "markdown",
   "metadata": {},
   "source": [
    "<div class=\"alert alert-block alert-info\">\n",
    "    \n",
    "```\n",
    "strun jwst.msaflagopen.MSAFlagOpenStep previous_step.fits\n",
    "````    \n",
    "</div>"
   ]
  },
  {
   "cell_type": "markdown",
   "metadata": {},
   "source": [
    "[Top of Notebook](#top)"
   ]
  },
  {
   "cell_type": "markdown",
   "metadata": {},
   "source": [
    "<a id='extract_2d'></a>\n",
    "## The `Extract 2D` step \n",
    "\n",
    "#### Summary\n",
    "\n",
    "This step extracts 2D arrays from spectral images. The extractions are performed within all of the SCI, ERR, and DQ arrays of the input image model, as well as any variance arrays that may be present. \n",
    "\n",
    "It also computes an array of wavelengths to attach to the extracted data. The extracted arrays are stored as one or more slit objects in an output MultiSlitModel and saved as separate tuples of extensions in the output FITS file.\n",
    "\n",
    "#### Documentation\n",
    "\n",
    "[Full description](https://jwst-pipeline.readthedocs.io/en/stable/jwst/extract_2d/main.html) of the step.\n",
    "\n",
    "#### Arguments\n",
    "\n",
    "This step has several [optional arguments](https://jwst-pipeline.readthedocs.io/en/stable/jwst/extract_2d/main.html#step-arguments)\n",
    "\n",
    "#### Reference files used\n",
    "\n",
    "This step uses the [`WAVELENGTHRANGE`](https://jwst-pipeline.readthedocs.io/en/stable/jwst/extract_2d/reference_files.html) reference file. \n"
   ]
  },
  {
   "cell_type": "markdown",
   "metadata": {},
   "source": [
    "#### Run the step"
   ]
  },
  {
   "cell_type": "code",
   "execution_count": null,
   "metadata": {},
   "outputs": [],
   "source": [
    "# Instantiate and set parameters\n",
    "step = Extract2dStep()\n",
    "step.output_dir = output_dir\n",
    "step.save_results = True\n",
    "\n",
    "# Call using the saturation instance from the previously-run step\n",
    "result = step.run(result)"
   ]
  },
  {
   "cell_type": "markdown",
   "metadata": {},
   "source": [
    "[Top of Notebook](#top)"
   ]
  },
  {
   "cell_type": "markdown",
   "metadata": {},
   "source": [
    "<a id='srctype'></a>\n",
    "## The `Source Type` step \n",
    "\n",
    "#### Summary\n",
    "\n",
    "This step ewstimates if a spectroscopic source should be considered to be a point or extended object, and populates the “SRCTYPE” main header keyword with a value of either “POINT” or “EXTENDED.” This information is then used in some subsequent spectroscopic processing steps to apply source-dependent corrections.\n",
    "\n",
    "#### Documentation\n",
    "\n",
    "[Full description](https://jwst-pipeline.readthedocs.io/en/stable/jwst/srctype/description.html)\n",
    "\n",
    "#### Arguments\n",
    "\n",
    "There are no optional arguments for this step.\n",
    "\n",
    "#### Reference files used\n",
    "\n",
    "This step uses no specific reference files.\n"
   ]
  },
  {
   "cell_type": "markdown",
   "metadata": {},
   "source": [
    "#### Run the step"
   ]
  },
  {
   "cell_type": "code",
   "execution_count": null,
   "metadata": {},
   "outputs": [],
   "source": [
    "# Instantiate and set parameters\n",
    "step = SourceTypeStep()\n",
    "step.output_dir = output_dir\n",
    "step.save_results = True\n",
    "\n",
    "# Call using the saturation instance from the previously-run step\n",
    "result = step.run(result)"
   ]
  },
  {
   "cell_type": "markdown",
   "metadata": {},
   "source": [
    "<a id='masterbg'></a>\n",
    "##  The `Master Background Subtraction` step \n",
    "\n",
    "#### Summary\n",
    "\n",
    "This step subtracts background signal from 2-D spectroscopic data using a 1-D master background spectrum. \n",
    "\n",
    "The 1-D master background spectrum is created from one or more input exposures, or can alternatively be supplied by the user. \n",
    "\n",
    "The 1-D background spectrum - surface brightness versus wavelength - is projected into the 2-D space of source data based on the wavelength of each pixel in the 2-D data. The resulting 2-D background signal is then subtracted directly from the 2-D source data.\n",
    "\n",
    "#### Documentation\n",
    "\n",
    "[Full description](https://jwst-pipeline.readthedocs.io/en/stable/jwst/master_background/description.html) of the step.\n",
    "\n",
    "#### Arguments\n",
    "\n",
    "This steps takes four optional arguments: user_background, save_background, force_subtract, output_use_model. For further details please see the [documentation](https://jwst-pipeline.readthedocs.io/en/stable/jwst/master_background/arguments.html)\n",
    "\n",
    "\n",
    "#### Reference files used\n",
    "\n",
    "This step uses no specific reference files.\n"
   ]
  },
  {
   "cell_type": "markdown",
   "metadata": {},
   "source": [
    "#### Run the step"
   ]
  },
  {
   "cell_type": "code",
   "execution_count": null,
   "metadata": {},
   "outputs": [],
   "source": [
    "# Instantiate and set parameters\n",
    "step = MasterBackgroundStep()\n",
    "step.output_dir = output_dir\n",
    "step.save_results = True\n",
    "\n",
    "# Call using the saturation instance from the previously-run step\n",
    "result = step.run(result)"
   ]
  },
  {
   "cell_type": "markdown",
   "metadata": {},
   "source": [
    "[Top of Notebook](#top)"
   ]
  },
  {
   "cell_type": "markdown",
   "metadata": {},
   "source": [
    "<a id='wavecorr'></a>\n",
    "## The `Wavecorr` step\n",
    "\n",
    "#### Summary\n",
    "\n",
    "This step is also NIRSpec specific, for FS and MOS modes. The wavelength correction (wavecorr) step updates the wavelength assignments for point sources that are known to be off center (in the dispersion direction) in their slit.\n",
    "\n",
    "#### Documentation\n",
    "\n",
    "[Full description](https://jwst-pipeline.readthedocs.io/en/stable/jwst/wavecorr/description.html) of the step.\n",
    "\n",
    "#### Arguments\n",
    "\n",
    "This step has no step-specific arguments.\n",
    "\n",
    "#### Reference files used\n",
    "\n",
    "This step uses the [`WAVECORR`](https://jwst-pipeline.readthedocs.io/en/stable/jwst/wavecorr/reference_files.html).\n"
   ]
  },
  {
   "cell_type": "markdown",
   "metadata": {},
   "source": [
    "#### Run the step"
   ]
  },
  {
   "cell_type": "code",
   "execution_count": null,
   "metadata": {},
   "outputs": [],
   "source": [
    "# Instantiate and set parameters\n",
    "step = WavecorrStep()\n",
    "step.output_dir = output_dir\n",
    "step.save_results = True\n",
    "\n",
    "# Call using the saturation instance from the previously-run step\n",
    "result = step.run(result)"
   ]
  },
  {
   "cell_type": "markdown",
   "metadata": {},
   "source": [
    "[Top of Notebook](#top)"
   ]
  },
  {
   "cell_type": "markdown",
   "metadata": {},
   "source": [
    "<a id='flat_field'></a>\n",
    "## The `Flat Field` step"
   ]
  },
  {
   "cell_type": "markdown",
   "metadata": {},
   "source": [
    "#### Summary\n",
    "\n",
    "This step flat-fields an input science data set by dividing by a flat-field reference image. In particular, the SCI array from the flat-field reference file is divided into both the SCI and ERR arrays of the science data set, and the flat-field DQ array is combined with the science DQ array using a bitwise OR operation. \n",
    "\n",
    "Flat field correction for NIRSpec modes calculates an on-the-fly flat rather than reading data from CRDS. \n",
    "\n",
    "\n",
    "#### Documentation\n",
    "\n",
    "[Full description](https://jwst-pipeline.readthedocs.io/en/stable/jwst/flatfield/main.html) of the step.\n",
    "\n",
    "#### Arguments\n",
    "\n",
    "This step has only one optional argument, used for NIRSpec modes [save_interpolated_flat](https://jwst-pipeline.readthedocs.io/en/stable/jwst/flatfield/arguments.html).\n",
    "\n",
    "#### Reference files used\n",
    "\n",
    "This step uses several reference files [`Non-NIRSpec flats`](https://jwst-pipeline.readthedocs.io/en/stable/jwst/flatfield/reference_files.html) and [`NIRSpec flats`](https://jwst-pipeline.readthedocs.io/en/stable/jwst/flatfield/reference_files.html#reference-files-for-nirspec-spectroscopy).\n"
   ]
  },
  {
   "cell_type": "markdown",
   "metadata": {},
   "source": [
    "#### Run the step"
   ]
  },
  {
   "cell_type": "code",
   "execution_count": null,
   "metadata": {},
   "outputs": [],
   "source": [
    "# Instantiate and set parameters\n",
    "step = FlatFieldStep()\n",
    "step.output_dir = output_dir\n",
    "step.save_results = True\n",
    "\n",
    "# Call using the saturation instance from the previously-run step\n",
    "result = step.run(result)"
   ]
  },
  {
   "cell_type": "markdown",
   "metadata": {},
   "source": [
    "[Top of Notebook](#top)"
   ]
  },
  {
   "cell_type": "markdown",
   "metadata": {},
   "source": [
    "<a id='straylight'></a>\n",
    "## The `Straylight` step"
   ]
  },
  {
   "cell_type": "markdown",
   "metadata": {},
   "source": [
    "#### Summary\n",
    "\n",
    "This step is for MIRI MRS channel 1 and 2 data. The straylight correction uses information in the REGIONS reference file about which pixels belong to a slice and which pixels are located in the slice gaps.\n",
    "\n",
    "\n",
    "#### Documentation\n",
    "\n",
    "[Full description](https://jwst-pipeline.readthedocs.io/en/stable/jwst/straylight/main.html) of the step.\n",
    "\n",
    "#### Arguments\n",
    "\n",
    "This step has three [optional arguments](https://jwst-pipeline.readthedocs.io/en/stable/jwst/straylight/arguments.html)\n",
    "\n",
    "\n",
    "#### Reference files used\n",
    "\n",
    "This step uses the [REGIONS](https://jwst-pipeline.readthedocs.io/en/stable/jwst/straylight/reference_files.html)\n"
   ]
  },
  {
   "cell_type": "markdown",
   "metadata": {},
   "source": [
    "#### Run the step"
   ]
  },
  {
   "cell_type": "code",
   "execution_count": null,
   "metadata": {},
   "outputs": [],
   "source": [
    "# Instantiate and set parameters\n",
    "step = StraylightStep()\n",
    "step.output_dir = output_dir\n",
    "step.save_results = True\n",
    "\n",
    "# Call using the saturation instance from the previously-run step\n",
    "result = step.run(result)"
   ]
  },
  {
   "cell_type": "markdown",
   "metadata": {},
   "source": [
    "[Top of Notebook](#top)"
   ]
  },
  {
   "cell_type": "markdown",
   "metadata": {},
   "source": [
    "<a id='fringe'></a>\n",
    "## The `Fringe` step"
   ]
  },
  {
   "cell_type": "markdown",
   "metadata": {},
   "source": [
    "#### Summary\n",
    "\n",
    "\n",
    "\n",
    "\n",
    "#### Documentation\n",
    "\n",
    "[Full description](https://jwst-pipeline.readthedocs.io/en/stable/jwst/flatfield/main.html) of the step.\n",
    "\n",
    "#### Arguments\n",
    "\n",
    "\n",
    "\n",
    "#### Reference files used\n",
    "\n",
    "\n"
   ]
  },
  {
   "cell_type": "markdown",
   "metadata": {},
   "source": [
    "#### Run the step"
   ]
  },
  {
   "cell_type": "code",
   "execution_count": null,
   "metadata": {},
   "outputs": [],
   "source": [
    "# Instantiate and set parameters\n",
    "step = FringeStep()\n",
    "step.output_dir = output_dir\n",
    "step.save_results = True\n",
    "\n",
    "# Call using the saturation instance from the previously-run step\n",
    "result = step.run(result)"
   ]
  },
  {
   "cell_type": "markdown",
   "metadata": {},
   "source": [
    "[Top of Notebook](#top)"
   ]
  },
  {
   "cell_type": "markdown",
   "metadata": {},
   "source": [
    "<a id='pathloss'></a>\n",
    "## The `Pathloss` step"
   ]
  },
  {
   "cell_type": "markdown",
   "metadata": {},
   "source": [
    "#### Summary\n",
    "\n",
    "\n",
    "\n",
    "\n",
    "#### Documentation\n",
    "\n",
    "[Full description](https://jwst-pipeline.readthedocs.io/en/stable/jwst/flatfield/main.html) of the step.\n",
    "\n",
    "#### Arguments\n",
    "\n",
    "\n",
    "\n",
    "#### Reference files used\n",
    "\n",
    "\n"
   ]
  },
  {
   "cell_type": "markdown",
   "metadata": {},
   "source": [
    "#### Run the step"
   ]
  },
  {
   "cell_type": "code",
   "execution_count": null,
   "metadata": {},
   "outputs": [],
   "source": [
    "# Instantiate and set parameters\n",
    "step = PathLossStep()\n",
    "step.output_dir = output_dir\n",
    "step.save_results = True\n",
    "\n",
    "# Call using the saturation instance from the previously-run step\n",
    "result = step.run(result)"
   ]
  },
  {
   "cell_type": "markdown",
   "metadata": {},
   "source": [
    "[Top of Notebook](#top)"
   ]
  },
  {
   "cell_type": "markdown",
   "metadata": {},
   "source": [
    "<a id='barshadow'></a>\n",
    "## The `Barshadow` step"
   ]
  },
  {
   "cell_type": "markdown",
   "metadata": {},
   "source": [
    "#### Summary\n",
    "\n",
    "This step is also NIRSpec specific, for MOS data. The step calculates the correction to be applied to NIRSpec MSA data for extended sources due to the bar that separates adjacent microshutters. This correction is applied to MultiSlit data after the pathloss correction has been applied.\n",
    "\n",
    "#### Documentation\n",
    "\n",
    "[Full description](https://jwst-pipeline.readthedocs.io/en/stable/jwst/barshadow/description.html) of the step.\n",
    "\n",
    "#### Arguments\n",
    "\n",
    "This step has no specific arguments.\n",
    "\n",
    "#### Reference files used\n",
    "\n",
    "This step uses the [BARSHADOW reference file](https://jwst-pipeline.readthedocs.io/en/stable/jwst/barshadow/reference_files.html)\n"
   ]
  },
  {
   "cell_type": "markdown",
   "metadata": {},
   "source": [
    "#### Run the step"
   ]
  },
  {
   "cell_type": "code",
   "execution_count": null,
   "metadata": {},
   "outputs": [],
   "source": [
    "# Instantiate and set parameters\n",
    "step = BarShadowStep()\n",
    "step.output_dir = output_dir\n",
    "step.save_results = True\n",
    "\n",
    "# Call using the saturation instance from the previously-run step\n",
    "result = step.run(result)"
   ]
  },
  {
   "cell_type": "markdown",
   "metadata": {},
   "source": [
    "[Top of Notebook](#top)"
   ]
  },
  {
   "cell_type": "markdown",
   "metadata": {},
   "source": [
    "<a id='photom'></a>\n",
    "## The `Photom` step"
   ]
  },
  {
   "cell_type": "markdown",
   "metadata": {},
   "source": [
    "#### Summary\n",
    "\n",
    "\n",
    "\n",
    "#### Documentation\n",
    "\n",
    "[Full description](https://jwst-pipeline.readthedocs.io/en/stable/jwst/barshadow/description.html) of the step.\n",
    "\n",
    "#### Arguments\n",
    "\n",
    "\n",
    "\n",
    "#### Reference files used\n",
    "\n",
    "\n"
   ]
  },
  {
   "cell_type": "markdown",
   "metadata": {},
   "source": [
    "#### Run the step"
   ]
  },
  {
   "cell_type": "code",
   "execution_count": null,
   "metadata": {},
   "outputs": [],
   "source": [
    "# Instantiate and set parameters\n",
    "step = PhotomStep()\n",
    "step.output_dir = output_dir\n",
    "step.save_results = True\n",
    "\n",
    "# Call using the saturation instance from the previously-run step\n",
    "result = step.run(result)"
   ]
  },
  {
   "cell_type": "markdown",
   "metadata": {},
   "source": [
    "[Top of Notebook](#top)"
   ]
  },
  {
   "cell_type": "markdown",
   "metadata": {},
   "source": [
    "<a id='resample'></a>\n",
    "## The `Resample Spec` step"
   ]
  },
  {
   "cell_type": "markdown",
   "metadata": {},
   "source": [
    "#### Summary\n",
    "\n",
    "This step resamples each input 2D image based on the WCS and distortion information, and combines multiple resampled images into a single undistorted product. The distortion information should have been incorporated into the image using the assign_wcs step.\n",
    "\n",
    "#### Documentation\n",
    "\n",
    "[Full description](https://jwst-pipeline.readthedocs.io/en/stable/jwst/resample/main.html) of the step.\n",
    "\n",
    "#### Arguments\n",
    "\n",
    "This step has multiple [optional arguments](https://jwst-pipeline.readthedocs.io/en/stable/jwst/resample/arguments.html)\n",
    "\n",
    "#### Reference files used\n",
    "\n",
    "This step uses the [DRIZPARS](https://jwst-pipeline.readthedocs.io/en/stable/jwst/resample/reference_files.html) reference file.\n"
   ]
  },
  {
   "cell_type": "markdown",
   "metadata": {},
   "source": [
    "#### Run the step"
   ]
  },
  {
   "cell_type": "code",
   "execution_count": null,
   "metadata": {},
   "outputs": [],
   "source": [
    "# Instantiate and set parameters\n",
    "step = ResampleSpecStep()\n",
    "step.output_dir = output_dir\n",
    "step.save_results = True\n",
    "\n",
    "# Call using the saturation instance from the previously-run step\n",
    "result = step.run(result)"
   ]
  },
  {
   "cell_type": "markdown",
   "metadata": {},
   "source": [
    "[Top of Notebook](#top)"
   ]
  },
  {
   "cell_type": "markdown",
   "metadata": {},
   "source": [
    "<a id='cube_build'></a>\n",
    "## The `Cube Build` step "
   ]
  },
  {
   "cell_type": "markdown",
   "metadata": {},
   "source": [
    "#### Summary\n",
    "\n",
    "This step runs for MIRI or NIRSpec IFU calibrated 2-D images and produces 3-D spectral cubes. The 2-D disjointed IFU slice spectra are corrected for distortion and assembled into a rectangular cube with three orthogonal axes: two spatial and one spectral.\n",
    "\n",
    "#### Documentation\n",
    "\n",
    "[Full description](https://jwst-pipeline.readthedocs.io/en/stable/jwst/cube_build/main.html) of the step.\n",
    "\n",
    "#### Arguments\n",
    "\n",
    "This step has multiple [optional arguments](https://jwst-pipeline.readthedocs.io/en/stable/jwst/cube_build/arguments.html)\n",
    "\n",
    "#### Reference files used\n",
    "\n",
    "This step uses the [CUBEPAR](https://jwst-pipeline.readthedocs.io/en/stable/jwst/cube_build/reference_files.html) reference file.\n"
   ]
  },
  {
   "cell_type": "markdown",
   "metadata": {},
   "source": [
    "#### Run the step"
   ]
  },
  {
   "cell_type": "code",
   "execution_count": null,
   "metadata": {},
   "outputs": [],
   "source": [
    "# Instantiate and set parameters\n",
    "step = CubeBuildStep()\n",
    "step.output_dir = output_dir\n",
    "step.save_results = True\n",
    "\n",
    "# Call using the saturation instance from the previously-run step\n",
    "result = step.run(result)"
   ]
  },
  {
   "cell_type": "markdown",
   "metadata": {},
   "source": [
    "[Top of Notebook](#top)"
   ]
  },
  {
   "cell_type": "markdown",
   "metadata": {},
   "source": [
    "<a id='extract_1d'></a>\n",
    "## The `Extract 1D` step "
   ]
  },
  {
   "cell_type": "markdown",
   "metadata": {},
   "source": [
    "#### Summary\n",
    "\n",
    "This step extracts a 1D signal from a 2D or 3D dataset and writes spectral data to one of the calwebb_spec2 output files, “x1d”. This works on all JWST spectroscopic modes, including MIRI LRS (slit and slitless) and MRS, NIRCam WFSS and TSGRISM, NIRISS WFSS and SOSS, and NIRSpec fixed-slit, IFU, and MOS.\n",
    "\n",
    "#### Documentation\n",
    "\n",
    "[Full description](https://jwst-pipeline.readthedocs.io/en/stable/jwst/extract_1d/description.html) of the step.\n",
    "\n",
    "#### Arguments\n",
    "\n",
    "This step has multiple [optional arguments](https://jwst-pipeline.readthedocs.io/en/stable/jwst/extract_1d/arguments.html)\n",
    "\n",
    "#### Reference files used\n",
    "\n",
    "This step uses multiple [reference files](https://jwst-pipeline.readthedocs.io/en/stable/jwst/extract_1d/reference_files.html).\n"
   ]
  },
  {
   "cell_type": "markdown",
   "metadata": {},
   "source": [
    "#### Run the step"
   ]
  },
  {
   "cell_type": "code",
   "execution_count": null,
   "metadata": {},
   "outputs": [],
   "source": [
    "# Instantiate and set parameters\n",
    "step = Extract1dStep()\n",
    "step.output_dir = output_dir\n",
    "step.save_results = True\n",
    "\n",
    "# Call using the saturation instance from the previously-run step\n",
    "result = step.run(result)"
   ]
  },
  {
   "cell_type": "markdown",
   "metadata": {},
   "source": [
    "[Top of Notebook](#top)"
   ]
  }
 ],
 "metadata": {
  "kernelspec": {
   "display_name": "Python 3",
   "language": "python",
   "name": "python3"
  },
  "language_info": {
   "codemirror_mode": {
    "name": "ipython",
    "version": 3
   },
   "file_extension": ".py",
   "mimetype": "text/x-python",
   "name": "python",
   "nbconvert_exporter": "python",
   "pygments_lexer": "ipython3",
   "version": "3.9.1"
  }
 },
 "nbformat": 4,
 "nbformat_minor": 4
}
