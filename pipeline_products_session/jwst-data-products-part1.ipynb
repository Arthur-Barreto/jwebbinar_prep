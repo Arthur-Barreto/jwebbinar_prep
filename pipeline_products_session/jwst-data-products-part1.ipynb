{
 "cells": [
  {
   "cell_type": "markdown",
   "metadata": {},
   "source": [
    "<a id=\"title_ID\"></a>\n",
    "# JWST Data Products: Uncalibrated Data \n",
    "--------------------------------------------------------------\n",
    "**Author**: Alicia Canipe (acanipe@stsci.edu) | **Latest update**: March 2, 2021.\n",
    "\n",
    "## Table of contents\n",
    "1. [Introduction](#intro)\n",
    "   1. [Resources](#resources)   \n",
    "2. [Data in MAST](#mast)\n",
    "3. [Example data for this exercise](#example)\n",
    "4. [Examining an exposure with astropy](#astro)\n",
    "   1. [Format](#astro-format)\n",
    "   2. [Metadata](#astro-meta)\n",
    "   3. [Vizualizing data](#astro-viz)\n",
    "5. [A different perspective: JWST data models](#model) \n",
    "   1. [Current models](#list)\n",
    "   1. [Format](#model-format)\n",
    "   2. [Metadata](#model-meta)\n",
    "6. [Other ways to use the models](#use)\n",
    "   1. [Create data from scratch](#scratch)\n",
    "   2. [Create data from a file](#file)\n",
    "7. [Simulations](#simulations)"
   ]
  },
  {
   "cell_type": "markdown",
   "metadata": {},
   "source": [
    "1.<font color='white'>-</font>Introduction <a class=\"anchor\" id=\"intro\"></a>\n",
    "------------------\n",
    "\n",
    "Welcome to the first module about JWST data products! JWST is a complex observatory with four instruments and many modes, so there is a lot to learn about about the different types of data and their formats, and the tools available to help observers examine and analyze their data. In this session, we will examine JWST data products and how they change as they go through the pipeline. We will start with uncalibrated data and proceed through the processing stages of the JWST data calibration pipeline (hereafter, the pipeline) in separate modules, highlighting important notes along the way. Detailed information about how to run the pipeline will be saved for the next couple of JWebbinars.\n",
    "\n",
    "Most JWST science data products are in FITS format, which should be familiar to observers. However, there are ancillary input and output files for the pipeline that are not; there are JSON files (used to associate different observations), ASDF files (typically pipeline configuration files), and ECSV files (for ASCII table data, such as catalogs). \n",
    "\n",
    "In the following sections, we will begin by exploring an example uncalibrated JWST observation to get a sense of the format, and then we will demonstrate a very important tool designed to simplify the complexity of JWST data: data models. In the notebook for the next module, we will explore the input and output data products for the first stage of processing in the pipeline. \n",
    "\n",
    "### A.<font color='white'>-</font>Resources<a class=\"anchor\" id=\"resources\"></a>\n",
    "\n",
    "\n",
    "Visit (the webpage for JWebbinars - TBD) to find resources for:\n",
    "* The Mikulski Archive for Space Telescopes (MAST) \n",
    "* JWST Documentation (JDox) for JWST data products\n",
    "* The most up-to-date information about JWST data products in the pipeline readthedocs\n",
    "* Pipeline roadmaps for when to recalibrate your data\n",
    "\n",
    "Before we begin, import the libraries used in this notebook:"
   ]
  },
  {
   "cell_type": "code",
   "execution_count": null,
   "metadata": {},
   "outputs": [],
   "source": [
    "# Module with functions to get information about objects:\n",
    "import os\n",
    "import inspect\n",
    "\n",
    "# Numpy library:\n",
    "import numpy as np\n",
    "\n",
    "# Astropy tools:\n",
    "from astropy.utils.data import download_file\n",
    "from astropy.io import fits\n",
    "\n",
    "# The JWST models:\n",
    "from jwst import datamodels"
   ]
  },
  {
   "cell_type": "markdown",
   "metadata": {},
   "source": [
    "And set up matplotlib for plotting:"
   ]
  },
  {
   "cell_type": "code",
   "execution_count": null,
   "metadata": {},
   "outputs": [],
   "source": [
    "import matplotlib.pyplot as plt\n",
    "import matplotlib as mpl\n",
    "\n",
    "# Use this version for non-interactive plots (easier scrolling of the notebook)\n",
    "# %matplotlib inline\n",
    "\n",
    "# Use this version if you want interactive plots\n",
    "%matplotlib notebook\n",
    "\n",
    "# These gymnastics are needed to make the sizes of the figures\n",
    "# be the same in both the inline and notebook versions\n",
    "%config InlineBackend.print_figure_kwargs = {'bbox_inches': None}\n",
    "\n",
    "mpl.rcParams['savefig.dpi'] = 80\n",
    "mpl.rcParams['figure.dpi'] = 80"
   ]
  },
  {
   "cell_type": "markdown",
   "metadata": {},
   "source": [
    "[Top of Page](#title_ID)"
   ]
  },
  {
   "cell_type": "markdown",
   "metadata": {},
   "source": [
    "2.<font color='white'>-</font>Data in MAST <a class=\"anchor\" id=\"mast\"></a>\n",
    "------------------\n",
    "\n",
    "The JWST Data Management System (DMS) produces many products for each JWST observation, including the science files generated by the pipeline. The exact type and number of products depends on the instrument, its configuration, and observing mode. Observers should consult the [MAST documentation for information about standard data products](https://jwst-docs.stsci.edu/obtaining-data/data-discovery#DataDiscovery-Dataproducttypes). \n",
    "\n",
    "Of the many different data products produced by the calibration pipeline, most observers will find the science data files in MAST to be sufficient for their analysis. However, other data products such as guide star data, associations, and engineering data are also available. \n",
    "\n",
    "Standard science data files include:\n",
    "\n",
    "* [uncalibrated raw data](https://jwst-pipeline.readthedocs.io/en/stable/jwst/data_products/science_products.html#uncalibrated-raw-data-uncal), identified by the suffix ```uncal```\n",
    "* [countrate data](https://jwst-pipeline.readthedocs.io/en/stable/jwst/data_products/science_products.html#countrate-data-rate-and-rateints) produced by applying the Stage 1 (detector-level) corrections in order to compute count rates from the original accumulating signal ramps, identified by the suffix ```rate``` or ```rateints```\n",
    "* [calibrated single exposures](https://jwst-pipeline.readthedocs.io/en/stable/jwst/data_products/science_products.html#calibrated-data-cal-and-calints), identified by the suffix ```cal```\n",
    "* [resampled and/or combined exposures](https://jwst-pipeline.readthedocs.io/en/stable/jwst/data_products/science_products.html#resampled-2-d-data-i2d-and-s2d), identified by the suffixes ```i2d``` or ```s2d```\n",
    "* [extracted spectroscopic 1D data](https://jwst-pipeline.readthedocs.io/en/stable/jwst/data_products/science_products.html#extracted-1-d-spectroscopic-data-x1d-and-x1dints), identified by the suffixes ```c1d```\n",
    "\n",
    "In addition, there are also [several other products depending on the observing mode](https://jwst-pipeline.readthedocs.io/en/stable/jwst/data_products/science_products.html#source-catalog-cat), such as source and photometry catalogs, stacked PSF data, and NIRISS AMI derived data.  "
   ]
  },
  {
   "cell_type": "markdown",
   "metadata": {},
   "source": [
    "[Top of Page](#title_ID)"
   ]
  },
  {
   "cell_type": "markdown",
   "metadata": {},
   "source": [
    "3.<font color='white'>-</font>Example data for this exercise <a class=\"anchor\" id=\"example\"></a>\n",
    "------------------\n",
    "\n",
    "For this module, we will use an uncalibrated NIRCam simulated imaging exposure that is stored in Box (**note: this data isn't in the jwebbinar box**). Let's grab it:"
   ]
  },
  {
   "cell_type": "code",
   "execution_count": null,
   "metadata": {
    "scrolled": false
   },
   "outputs": [],
   "source": [
    "main_box_url1 =\"https://stsci.box.com/shared/static/5xsvwzwncpulnxobjxoodjihzeu5gyhf.fits\" # NRC 1\n",
    "# main_box_url1 =\"https://stsci.box.com/shared/static/dpft0rvv2q9ga7gqa8wiw8ew2j1kgjp9.fits\" # NRC 2\n",
    "# main_box_url2 =\"https://stsci.box.com/shared/static/ueb9amnwnm37dzyc9tvzkelbdniz3266.fits\" # NIS\n",
    "\n",
    "# Looking at NIRCam, but exposure is missing the INT_TIMES extension ... \n",
    "demo_file = download_file(main_box_url1)\n",
    "\n",
    "# Save the file so that we can use it later\n",
    "with fits.open(demo_file) as f:\n",
    "    uncal_obs = \"uncal_file_part1.fits\"\n",
    "    f.writeto(uncal_obs, overwrite=True)"
   ]
  },
  {
   "cell_type": "markdown",
   "metadata": {},
   "source": [
    "Now, make sure we were able to successfully import the data into the notebook:"
   ]
  },
  {
   "cell_type": "code",
   "execution_count": null,
   "metadata": {},
   "outputs": [],
   "source": [
    "fits.info(uncal_obs)"
   ]
  },
  {
   "cell_type": "markdown",
   "metadata": {},
   "source": [
    "[Top of Page](#title_ID)"
   ]
  },
  {
   "cell_type": "markdown",
   "metadata": {},
   "source": [
    "4.<font color='white'>-</font>Examining an exposure with astropy<a class=\"anchor\" id=\"astro\"></a>\n",
    "------------------\n",
    "\n",
    "Many of you may be familiar with using [astropy](https://docs.astropy.org/en/stable/) to examine data. Here, we will take a look at the format and headers using standard ```astropy``` tools. \n",
    "\n",
    "### A.<font color='white'>-</font>Format<a class=\"anchor\" id=\"astro-format\"></a>\n",
    "\n",
    "Below, we see the typical extensions in a raw JWST data file. All data related to the product are contained in one or more FITS IMAGE or BINTABLE extensions, and the header of each extension may contain keywords that are uniquely related to that extension.\n",
    "\n",
    "* PRIMARY: The primary Header Data Unit (HDU) only contains header information, in the form of keyword records, with an empty data array (indicated by the occurence of NAXIS=0 in the primary header. Meta data that pertains to the entire product is stored in keywords in the primary header. Meta data related to specific extensions (see below) is stored in keywords in the headers of each extension.\n",
    "* SCI: 4-D data array containing the raw pixel values. The first two dimensions are equal to the size of the detector readout, with the data from multiple groups (NGROUPS) within each integration stored along the 3rd axis, and the multiple integrations (NINTS) stored along the 4th axis.\n",
    "* ZEROFRAME: 3-D data array containing the pixel values of the zero-frame for each integration in the exposure, where each plane of the cube corresponds to a given integration. Only appears if the zero-frame data were requested to be downlinked separately.\n",
    "* GROUP: A table of meta data for some (or all) of the data groups.\n",
    "* INT_TIMES: A table of begining, middle, and end time stamps for each integration in the exposure.\n",
    "* ADSF: The data model meta data.\n",
    "\n",
    "Additional extensions can be included for certain instruments and readout types. The [JWST software readthedocs](https://jwst-pipeline.readthedocs.io/en/latest/jwst/data_products/science_products.html) contains the most up-to-date information about JWST formats. "
   ]
  },
  {
   "cell_type": "code",
   "execution_count": null,
   "metadata": {},
   "outputs": [],
   "source": [
    "fits.info(uncal_obs)"
   ]
  },
  {
   "cell_type": "markdown",
   "metadata": {},
   "source": [
    "We can grab the data to examine it: "
   ]
  },
  {
   "cell_type": "code",
   "execution_count": null,
   "metadata": {},
   "outputs": [],
   "source": [
    "science_data = fits.getdata(uncal_obs,1)\n",
    "\n",
    "# or \n",
    "\n",
    "with fits.open(uncal_obs) as hdu:\n",
    "    science_data = hdu['SCI'].data"
   ]
  },
  {
   "cell_type": "code",
   "execution_count": null,
   "metadata": {},
   "outputs": [],
   "source": [
    "science_data.shape"
   ]
  },
  {
   "cell_type": "markdown",
   "metadata": {},
   "source": [
    "The science data shape here shows the number of integrations, groups, rows (pixels), and columns (pixels), which reflects the up-the-ramp readout (also referred to as MULTIACCUM) standardized readout sampling for all JWST detectors (read more in the [JWST User Documentation](https://jwst-docs.stsci.edu/understanding-exposure-times)). We'll talk about this more in the following sections. For now, let's look at the associated headers and other metadata.                                                    "
   ]
  },
  {
   "cell_type": "markdown",
   "metadata": {},
   "source": [
    "### B.<font color='white'>-</font>Metadata<a class=\"anchor\" id=\"astro-meta\"></a>"
   ]
  },
  {
   "cell_type": "markdown",
   "metadata": {},
   "source": [
    "Headers containing information about the observation and the data parameters be accessed the standard way:"
   ]
  },
  {
   "cell_type": "code",
   "execution_count": null,
   "metadata": {},
   "outputs": [],
   "source": [
    "primary_headers = fits.getheader(uncal_obs,0)\n",
    "science_headers = fits.getheader(uncal_obs,1)\n",
    "\n",
    "# or \n",
    "\n",
    "with fits.open(uncal_obs) as hdu:\n",
    "    primary_headers = hdu['PRIMARY'].header\n",
    "    science_headers = hdu['SCI'].header"
   ]
  },
  {
   "cell_type": "code",
   "execution_count": null,
   "metadata": {},
   "outputs": [],
   "source": [
    "print('Observation ID: ', primary_headers['OBS_ID'])\n",
    "print('Instrument: ', primary_headers['INSTRUME'])\n",
    "print('Exposure type: ', primary_headers['EXP_TYPE'])\n",
    "print('Detector: ', primary_headers['DETECTOR'])"
   ]
  },
  {
   "cell_type": "code",
   "execution_count": null,
   "metadata": {},
   "outputs": [],
   "source": [
    "print('\\nNumber of data dimensions: ', len(science_data.shape))\n",
    "print('Number of integrations: ', primary_headers['NINTS'])\n",
    "print('Number of groups: ', primary_headers['NGROUPS'])\n",
    "print('Number of rows: ', primary_headers['SUBSIZE1'])\n",
    "print('Number of columns: ', primary_headers['SUBSIZE2'])\n",
    "\n",
    "# or \n",
    "\n",
    "print('\\nNumber of data dimensions: ', science_headers['NAXIS'])\n",
    "print('Number of integrations: ', science_headers['NAXIS4'])\n",
    "print('Number of groups: ', science_headers['NAXIS3'])\n",
    "print('Number of rows: ', science_headers['NAXIS2'])\n",
    "print('Number of columns: ', science_headers['NAXIS1'])"
   ]
  },
  {
   "cell_type": "markdown",
   "metadata": {},
   "source": [
    "Additional metadata is stored in the ASDF extension. This extension can be read using The Advanced Scientific Data Format (ASDF), which is a next-generation format for scientific data. ASDF is a tool for reading and writing ASDF files. More information about the ASDF file standard is in the [ASDF software readthedocs](https://asdf.readthedocs.io/en/stable/). The format has the following features:\n",
    "\n",
    "* A hierarchical, human-readable metadata format (implemented using YAML)\n",
    "* Numerical arrays are stored as binary data blocks which can be memory mapped. Data blocks can optionally be compressed.\n",
    "* The structure of the data can be automatically validated using schemas (implemented using JSON Schema)\n",
    "* Native Python data types (numerical types, strings, dicts, lists) are serialized automatically\n",
    "* ASDF can be extended to serialize custom data types\n",
    "\n",
    "Right now, you don't need to worry about ASDF too much. We'll talk about it more when we discuss configuration files and accessing the WCS information in the following modules. Below, we provide a simple example of how to access the ASDF extension:"
   ]
  },
  {
   "cell_type": "code",
   "execution_count": null,
   "metadata": {},
   "outputs": [],
   "source": [
    "with fits.open(uncal_obs) as hdu:\n",
    "    asdf_metadata = hdu['ASDF'].header\n",
    "    asdf_data = hdu['ASDF'].data    "
   ]
  },
  {
   "cell_type": "code",
   "execution_count": null,
   "metadata": {},
   "outputs": [],
   "source": [
    "asdf_metadata"
   ]
  },
  {
   "cell_type": "code",
   "execution_count": null,
   "metadata": {},
   "outputs": [],
   "source": [
    "asdf_data"
   ]
  },
  {
   "cell_type": "markdown",
   "metadata": {},
   "source": [
    "### C.<font color='white'>-</font>Visualizing data<a class=\"anchor\" id=\"astro-viz\"></a>"
   ]
  },
  {
   "cell_type": "markdown",
   "metadata": {},
   "source": [
    "In the previous section, we mentioned [up-the-ramp sampling](https://jwst-docs.stsci.edu/understanding-exposure-times) for IR detectors. During an integration, the detectors accumulate charge while being read out multiple times non-destructively according to readout patterns. The readout process is non-destructive, leaving charge unaffected and in place (charge is not transferred between pixels as in CCDs). After each integration, the pixels are read out a final time and then reset, releasing their charge. \n",
    "\n",
    "Multiple non-destructive *frames* are averaged into a *group*, depending on the readout pattern selected. Breaking exposures into multiple *integrations* is most useful for bright sources that would saturate in longer integrations.  \n",
    "\n",
    "As such, the components of each up-the-ramp exposure are: \n",
    "* NINTS: number of integrations per exposure.\n",
    "* NGROUPS: number of groups per integration.\n",
    "* NFRAMES: number of frames per group (this parameter is encoded in the definition of the different readout patterns for the instruments). "
   ]
  },
  {
   "cell_type": "markdown",
   "metadata": {},
   "source": [
    "Let's select one integration for a particular pixel and examine the ramp. **Note**: this is uncalibrated data, so the detector effects are still present and the signal in each group will vary due to bias drift, reference pixel corrections, etc. not being performed yet.  "
   ]
  },
  {
   "cell_type": "code",
   "execution_count": null,
   "metadata": {},
   "outputs": [],
   "source": [
    "integration = 0\n",
    "pixel_y = 598\n",
    "pixel_x = 558\n",
    "group = -1"
   ]
  },
  {
   "cell_type": "code",
   "execution_count": null,
   "metadata": {},
   "outputs": [],
   "source": [
    "groups = np.arange(0, primary_headers['NGROUPS'])\n",
    "signal_adu = science_data[integration, :, pixel_y, pixel_x]\n",
    "\n",
    "fig = plt.figure(figsize=(8, 8))\n",
    "ax = plt.subplot()\n",
    "plt.plot(groups, signal_adu, label='Pixel ('+str(pixel_y)+','+str(pixel_x)+')')\n",
    "plt.xlabel('Groups')\n",
    "plt.ylabel('Signal (DN)')\n",
    "fig.tight_layout()\n",
    "plt.subplots_adjust(left=0.15)"
   ]
  },
  {
   "cell_type": "markdown",
   "metadata": {},
   "source": [
    "We can also visualize the full NIRCam array for the last group in our integration, below. Again, this is a raw exposure, so none of the detector effects have been removed. The four amplifiers of the detector are visible, along with other features (e.g., an epoxy void region). "
   ]
  },
  {
   "cell_type": "code",
   "execution_count": null,
   "metadata": {},
   "outputs": [],
   "source": [
    "fig = plt.figure(figsize=(8, 8))\n",
    "ax = plt.subplot()\n",
    "plt.imshow(science_data[integration, group, :, :], origin='lower', cmap='gray', vmin=4000, vmax=12000)\n",
    "plt.xlabel('Pixel column')\n",
    "plt.ylabel('Pixel row')\n",
    "fig.tight_layout()\n",
    "plt.subplots_adjust(left=0.15)\n",
    "plt.colorbar(label='DN')"
   ]
  },
  {
   "cell_type": "markdown",
   "metadata": {},
   "source": [
    "[Top of Page](#title_ID)"
   ]
  },
  {
   "cell_type": "markdown",
   "metadata": {},
   "source": [
    "5.<font color='white'>-</font>A different perspective: JWST data models<a class=\"anchor\" id=\"model\"></a>\n",
    "------------------\n",
    "\n",
    "Now that we've tried using [astropy](https://docs.astropy.org/en/stable/) to examine the data, we can explore an alternative method that removes some of the complexity and peculiarities of JWST data. Here, we will take a look at the format and headers using [JWST data models](https://jwst-pipeline.readthedocs.io/en/latest/jwst/datamodels/). \n",
    "\n",
    "There are different data model classes for different kinds of data. Each model generally has several arrays that are associated with it. For example, the ImageModel class has the following arrays associated with it:\n",
    "\n",
    "* data: The science data\n",
    "* dq: The data quality array\n",
    "* err: The error array\n",
    "\n",
    "The structure and design of the data models take advantage of the ASDF features and functionality, so they can easily be searched, edited, updated, and saved. You can always use ```<model>.info()``` to look at the contents of a data model. It renders the underlying ASDF tree, showing information about the metadata, data arrays, formats, etc."
   ]
  },
  {
   "cell_type": "markdown",
   "metadata": {},
   "source": [
    "### A.<font color='white'>-</font>Current models <a class=\"anchor\" id=\"list\"></a>\n",
    "--------------------------------------------------------------------\n",
    "The data model package includes specific and general models to use for both science data and calibration reference files. For example, to generate a FITS file that is compatible with the [Stage 1 calibration pipeline](https://jwst-pipeline.readthedocs.io/en/latest/jwst/pipeline/calwebb_detector1.html), you would need to use a model for [up-the-ramp  sampled](https://jwst-docs.stsci.edu/understanding-exposure-times#UnderstandingExposureTimes-uptherampHowup-the-rampreadoutswork) IR data: the [RampModel](https://jwst-pipeline.readthedocs.io/en/latest/api/jwst.datamodels.RampModel.html#jwst.datamodels.RampModel). If instead you would like to analyze a 2-D JWST image, you could use the [ImageModel](https://jwst-pipeline.readthedocs.io/en/latest/api/jwst.datamodels.ImageModel.html#jwst.datamodels.ImageModel). Or, if you are unsure, you could let the data model package [guess for you](https://jwst-pipeline.readthedocs.io/en/latest/jwst/datamodels/models.html#opening-a-file).\n",
    "\n",
    "The full list of current models is maintained in the [JWST pipeline software](https://jwst-pipeline.readthedocs.io/en/latest/jwst/datamodels/attributes.html#list-of-current-models). "
   ]
  },
  {
   "cell_type": "code",
   "execution_count": null,
   "metadata": {
    "scrolled": true
   },
   "outputs": [],
   "source": [
    "# print a list of the current data models\n",
    "inspect.getmembers(datamodels, inspect.isclass)"
   ]
  },
  {
   "cell_type": "markdown",
   "metadata": {},
   "source": [
    "You can examine the [contents of an existing model](https://jwst-pipeline.readthedocs.io/en/latest/jwst/datamodels/models.html#looking-at-the-contents-of-a-model) with the ```.info()``` attribute:"
   ]
  },
  {
   "cell_type": "code",
   "execution_count": null,
   "metadata": {},
   "outputs": [],
   "source": [
    "ramp = datamodels.RampModel()"
   ]
  },
  {
   "cell_type": "code",
   "execution_count": null,
   "metadata": {},
   "outputs": [],
   "source": [
    "ramp.info()"
   ]
  },
  {
   "cell_type": "markdown",
   "metadata": {},
   "source": [
    "### B.<font color='white'>-</font>Format<a class=\"anchor\" id=\"model-format\"></a>\n",
    "\n",
    "Let's go back and examine our uncalibrated file, but this time we will use a JWST data model. Below, we access the typical FITS extensions using the model attributes. All data related to the product are contained in one or more data arrays, and the headers are stored in the model metadata.\n",
    "\n",
    "In the model info, you see familiar names: ```data``` (```SCI``` extension for FITS), ```zeroframe``` (```ZEROFRAME```), ```group``` (```GROUP```), etc.  "
   ]
  },
  {
   "cell_type": "code",
   "execution_count": null,
   "metadata": {},
   "outputs": [],
   "source": [
    "with datamodels.open(uncal_obs) as model:\n",
    "    model.info()\n",
    "    \n",
    "## or use a specific model:\n",
    "\n",
    "model = datamodels.RampModel(uncal_obs)\n",
    "model.info()"
   ]
  },
  {
   "cell_type": "markdown",
   "metadata": {},
   "source": [
    "The exposure data is accessed through the ```data``` member of the model, instead of, for instance, the ```SCI``` extension of a FITS file. So instead of:\n",
    "\n",
    "```python\n",
    "hdulist['SCI'].data\n",
    "```\n",
    "\n",
    "you would use:"
   ]
  },
  {
   "cell_type": "code",
   "execution_count": null,
   "metadata": {},
   "outputs": [],
   "source": [
    "science_data = model.data\n",
    "science_data.shape"
   ]
  },
  {
   "cell_type": "markdown",
   "metadata": {},
   "source": [
    "This data can be used the same way as before:"
   ]
  },
  {
   "cell_type": "code",
   "execution_count": null,
   "metadata": {},
   "outputs": [],
   "source": [
    "integration = 2\n",
    "group = -1\n",
    "\n",
    "fig = plt.figure(figsize=(8, 8))\n",
    "ax = plt.subplot()\n",
    "plt.imshow(science_data[integration, group, :, :], origin='lower', cmap='gray', vmin=4000, vmax=12000)\n",
    "plt.xlabel('Pixel column')\n",
    "plt.ylabel('Pixel row')\n",
    "fig.tight_layout()\n",
    "plt.subplots_adjust(left=0.15)\n",
    "plt.colorbar(label='DN')"
   ]
  },
  {
   "cell_type": "markdown",
   "metadata": {},
   "source": [
    "### C.<font color='white'>-</font>Metadata<a class=\"anchor\" id=\"model-meta\"></a>"
   ]
  },
  {
   "cell_type": "markdown",
   "metadata": {},
   "source": [
    "The [metadata](https://jwst-pipeline.readthedocs.io/en/latest/jwst/datamodels/metadata.html#metadata) for a model contains the details about the observation, i.e., the header keywords. The ```jwst.datamodels``` library defines its metadata using the JSON Schema specification, but ```jwst.datamodels``` uses YAML for the syntax (more details are in the [JSON Schema documentation](https://json-schema.org/understanding-json-schema/index.html)). "
   ]
  },
  {
   "cell_type": "code",
   "execution_count": null,
   "metadata": {
    "scrolled": true
   },
   "outputs": [],
   "source": [
    "model.schema"
   ]
  },
  {
   "cell_type": "markdown",
   "metadata": {},
   "source": [
    "You can search through the data model schema for particular elements:"
   ]
  },
  {
   "cell_type": "code",
   "execution_count": null,
   "metadata": {},
   "outputs": [],
   "source": [
    "model.search_schema('target')"
   ]
  },
  {
   "cell_type": "markdown",
   "metadata": {},
   "source": [
    "The values for the metadata are checked automatically when added to the model. As an example, see the warning we get when we try to add a string for the RA value in the metadata, instead of a number:"
   ]
  },
  {
   "cell_type": "code",
   "execution_count": null,
   "metadata": {},
   "outputs": [],
   "source": [
    "model.meta.target.ra = str(model.meta.target.ra)"
   ]
  },
  {
   "cell_type": "markdown",
   "metadata": {},
   "source": [
    "Let's change it back:"
   ]
  },
  {
   "cell_type": "code",
   "execution_count": null,
   "metadata": {},
   "outputs": [],
   "source": [
    "model.meta.target.ra = float(model.meta.target.ra)"
   ]
  },
  {
   "cell_type": "markdown",
   "metadata": {},
   "source": [
    "The data model hides direct access to FITS header keywords. Instead, use [the Metadata tree](https://jwst-pipeline.readthedocs.io/en/latest/jwst/datamodels/metadata.html#metadata)."
   ]
  },
  {
   "cell_type": "code",
   "execution_count": null,
   "metadata": {},
   "outputs": [],
   "source": [
    "model.find_fits_keyword('DATE-OBS')"
   ]
  },
  {
   "cell_type": "code",
   "execution_count": null,
   "metadata": {},
   "outputs": [],
   "source": [
    "model.meta.observation.date"
   ]
  },
  {
   "cell_type": "markdown",
   "metadata": {},
   "source": [
    "[Top of Page](#title_ID)"
   ]
  },
  {
   "cell_type": "markdown",
   "metadata": {},
   "source": [
    "6.<font color='white'>-</font>Other ways to use the models <a class=\"anchor\" id=\"use\"></a>\n",
    "--------------------------------------------------------------------\n",
    "The data models can be used to [create data from scratch](https://jwst-pipeline.readthedocs.io/en/latest/jwst/datamodels/models.html#creating-a-data-model-from-scratch) or to [read in an existing FITS file or data array](https://jwst-pipeline.readthedocs.io/en/latest/jwst/datamodels/models.html#creating-a-data-model-from-a-file). This is useful if you are trying to run an exposure through the JWST pipeline or read in an exposure to a JWST software tool or data analysis notebook, because certain checks on the data and metadata are performed when added to an existing model. Simulated data created using ```Mirage``` or ```Mirisim``` is directly compatible with the JWST pipeline, because both software tools use the data models during the creation of the simulations. "
   ]
  },
  {
   "cell_type": "markdown",
   "metadata": {},
   "source": [
    "### A.<font color='white'>-</font>Create data from scratch<a class=\"anchor\" id=\"scratch\"></a>"
   ]
  },
  {
   "cell_type": "markdown",
   "metadata": {},
   "source": [
    "To create a new ```ImageModel``` where all of the arrays will have default values, simply provide a shape as the first argument (as described [here](https://jwst-pipeline.readthedocs.io/en/latest/jwst/datamodels/models.html#creating-a-data-model-from-scratch)):"
   ]
  },
  {
   "cell_type": "code",
   "execution_count": null,
   "metadata": {
    "scrolled": true
   },
   "outputs": [],
   "source": [
    "with datamodels.ImageModel((1024, 1024)) as im:\n",
    "    print(im.search_schema('instrument'))"
   ]
  },
  {
   "cell_type": "markdown",
   "metadata": {},
   "source": [
    "or similarly:"
   ]
  },
  {
   "cell_type": "code",
   "execution_count": null,
   "metadata": {},
   "outputs": [],
   "source": [
    "data = np.empty((50, 50))\n",
    "dq = np.empty((50, 50))\n",
    "with datamodels.ImageModel(data=data, dq=dq) as im:\n",
    "    print(im.search_schema('exposure'))"
   ]
  },
  {
   "cell_type": "markdown",
   "metadata": {},
   "source": [
    "Populate the metadata as needed:"
   ]
  },
  {
   "cell_type": "code",
   "execution_count": null,
   "metadata": {},
   "outputs": [],
   "source": [
    "im.meta.instrument.name = 'NIRCAM'"
   ]
  },
  {
   "cell_type": "code",
   "execution_count": null,
   "metadata": {},
   "outputs": [],
   "source": [
    "im.meta.instrument.name"
   ]
  },
  {
   "cell_type": "markdown",
   "metadata": {},
   "source": [
    "and access the data model contents as described in the previous section:"
   ]
  },
  {
   "cell_type": "code",
   "execution_count": null,
   "metadata": {},
   "outputs": [],
   "source": [
    "im.data.shape"
   ]
  },
  {
   "cell_type": "code",
   "execution_count": null,
   "metadata": {},
   "outputs": [],
   "source": [
    "im.dq"
   ]
  },
  {
   "cell_type": "markdown",
   "metadata": {},
   "source": [
    "And save:\n",
    "    \n",
    "```python\n",
    "im.save(\"my-updated-image.fits\")\n",
    "```"
   ]
  },
  {
   "cell_type": "markdown",
   "metadata": {},
   "source": [
    "### B.<font color='white'>-</font>Create data from a file<a class=\"anchor\" id=\"file\"></a>"
   ]
  },
  {
   "cell_type": "markdown",
   "metadata": {},
   "source": [
    "The ```jwst.datamodels.open``` function allows you to create a model from a file on disk (as described [here](https://jwst-pipeline.readthedocs.io/en/latest/jwst/datamodels/models.html#creating-a-data-model-from-a-file)). It may be passed any of the following:\n",
    "\n",
    "* a path to a FITS file\n",
    "* a path to an ASDF file\n",
    "* a astropy.io.fits.HDUList object\n",
    "* a readable file-like object\n",
    "\n",
    "The file will be opened, and based on the nature of the data in the file, the correct data model class will be returned. This is comparable to the following in ```astropy```:\n",
    "\n",
    "```python\n",
    "astropy.io.fits.open(\"myimage.fits\")\n",
    "```"
   ]
  },
  {
   "cell_type": "markdown",
   "metadata": {},
   "source": [
    "For example, if the file contains 2-dimensional data, an ImageModel instance will be returned. You will generally want to instantiate a model using a ```with``` statement so that the file will be closed automatically when exiting the with block.\n",
    "\n",
    "```python\n",
    "from jwst import datamodels\n",
    "with datamodels.open(\"myimage.fits\") as im:\n",
    "    assert isinstance(im, datamodels.ImageModel)\n",
    "```\n",
    "\n",
    "or if you know the type of model you would like to use:\n",
    "\n",
    "```python\n",
    "from jwst.datamodels import ImageModel\n",
    "with ImageModel(\"myimage.fits\") as im:\n",
    "    # raises exception if myimage.fits is not an image file\n",
    "    pass\n",
    "```\n",
    "\n",
    "And save:\n",
    "\n",
    "```python\n",
    "im.save(\"my-updated-image.fits\")\n",
    "```"
   ]
  },
  {
   "cell_type": "markdown",
   "metadata": {},
   "source": [
    "[Top of Page](#title_ID)"
   ]
  },
  {
   "cell_type": "markdown",
   "metadata": {},
   "source": [
    "7.<font color='white'>-</font>Simulations<a class=\"anchor\" id=\"simulations\"></a>\n",
    "--------------------------------------------------------------------\n",
    "The benefit to using existing simulation software such as [Mirage](https://jwst-docs.stsci.edu/jwst-other-tools/mirage-data-simulator) (for NIRCam, NIRISS, and FGS simulations) or [Mirisim](https://www.stsci.edu/jwst/science-planning/proposal-planning-toolbox/mirisim) (for MIRI simulations) is that the outputs are directly compatible with JWST software, such as the [calibration pipeline](https://jwst-docs.stsci.edu/jwst-data-reduction-pipeline). "
   ]
  },
  {
   "cell_type": "markdown",
   "metadata": {},
   "source": [
    "As such, you can read in your Mirage data to a datamodel and examine it, or run it through the pipeline, as normal. For example, read the uncalibrated Mirage output into a ```RampModel``` and feed it to the [Stage 1 processing pipeline](https://jwst-pipeline.readthedocs.io/en/latest/jwst/pipeline/calwebb_detector1.html):"
   ]
  },
  {
   "cell_type": "markdown",
   "metadata": {},
   "source": [
    "```python\n",
    "uncal_data = datamodels.RampModel(\"mirage-uncal-file.fits\")\n",
    "```"
   ]
  },
  {
   "cell_type": "markdown",
   "metadata": {},
   "source": [
    "Import the pipeline, and run it with the ramp data:"
   ]
  },
  {
   "cell_type": "markdown",
   "metadata": {},
   "source": [
    "```python\n",
    "from jwst.pipeline import Detector1Pipeline\n",
    "\n",
    "result = Detector1Pipeline.call(uncal_data)\n",
    "```"
   ]
  },
  {
   "cell_type": "markdown",
   "metadata": {},
   "source": [
    "The next module will discuss data products in more detail, as they travel through different stages of the JWST pipeline. "
   ]
  },
  {
   "cell_type": "markdown",
   "metadata": {},
   "source": [
    "[Top of Page](#title_ID)"
   ]
  }
 ],
 "metadata": {
  "kernelspec": {
   "display_name": "Python 3",
   "language": "python",
   "name": "python3"
  },
  "language_info": {
   "codemirror_mode": {
    "name": "ipython",
    "version": 3
   },
   "file_extension": ".py",
   "mimetype": "text/x-python",
   "name": "python",
   "nbconvert_exporter": "python",
   "pygments_lexer": "ipython3",
   "version": "3.9.1"
  }
 },
 "nbformat": 4,
 "nbformat_minor": 4
}
